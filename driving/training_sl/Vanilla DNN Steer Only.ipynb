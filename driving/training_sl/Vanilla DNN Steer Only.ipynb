{
 "cells": [
  {
   "cell_type": "code",
   "execution_count": 1,
   "metadata": {},
   "outputs": [
    {
     "name": "stderr",
     "output_type": "stream",
     "text": [
      "2023-12-04 17:15:17.929045: I tensorflow/core/util/port.cc:110] oneDNN custom operations are on. You may see slightly different numerical results due to floating-point round-off errors from different computation orders. To turn them off, set the environment variable `TF_ENABLE_ONEDNN_OPTS=0`.\n",
      "2023-12-04 17:15:17.961862: I tensorflow/core/platform/cpu_feature_guard.cc:182] This TensorFlow binary is optimized to use available CPU instructions in performance-critical operations.\n",
      "To enable the following instructions: AVX2 AVX512F AVX512_VNNI FMA, in other operations, rebuild TensorFlow with the appropriate compiler flags.\n",
      "2023-12-04 17:15:18.420039: W tensorflow/compiler/tf2tensorrt/utils/py_utils.cc:38] TF-TRT Warning: Could not find TensorRT\n"
     ]
    }
   ],
   "source": [
    "import numpy as np\n",
    "import pickle\n",
    "import pandas as pd\n",
    "from sklearn.preprocessing import StandardScaler, MinMaxScaler\n",
    "import tensorflow as tf\n",
    "from tensorflow.keras.models import Sequential\n",
    "from tensorflow.keras.layers import Dense, Activation, Flatten, Input\n",
    "from tensorflow.keras.optimizers import Adam\n",
    "from tensorflow.keras.models import load_model\n",
    "import os\n",
    "import gc\n",
    "from pathlib import Path\n",
    "\n"
   ]
  },
  {
   "cell_type": "code",
   "execution_count": 2,
   "metadata": {},
   "outputs": [
    {
     "name": "stderr",
     "output_type": "stream",
     "text": [
      "2023-12-04 17:15:18.892186: I tensorflow/compiler/xla/stream_executor/cuda/cuda_gpu_executor.cc:996] successful NUMA node read from SysFS had negative value (-1), but there must be at least one NUMA node, so returning NUMA node zero. See more at https://github.com/torvalds/linux/blob/v6.0/Documentation/ABI/testing/sysfs-bus-pci#L344-L355\n",
      "2023-12-04 17:15:18.904235: I tensorflow/compiler/xla/stream_executor/cuda/cuda_gpu_executor.cc:996] successful NUMA node read from SysFS had negative value (-1), but there must be at least one NUMA node, so returning NUMA node zero. See more at https://github.com/torvalds/linux/blob/v6.0/Documentation/ABI/testing/sysfs-bus-pci#L344-L355\n",
      "2023-12-04 17:15:18.904363: I tensorflow/compiler/xla/stream_executor/cuda/cuda_gpu_executor.cc:996] successful NUMA node read from SysFS had negative value (-1), but there must be at least one NUMA node, so returning NUMA node zero. See more at https://github.com/torvalds/linux/blob/v6.0/Documentation/ABI/testing/sysfs-bus-pci#L344-L355\n"
     ]
    }
   ],
   "source": [
    "physical_devices = tf.config.list_physical_devices('GPU') \n",
    "tf.config.experimental.set_memory_growth(physical_devices[0], True)"
   ]
  },
  {
   "cell_type": "code",
   "execution_count": 4,
   "metadata": {},
   "outputs": [],
   "source": [
    "MODEL_SAVE_DIR = Path(\"DNN_model_medium\")\n",
    "if not MODEL_SAVE_DIR.exists():\n",
    "    os.makedirs(MODEL_SAVE_DIR.as_posix())"
   ]
  },
  {
   "cell_type": "markdown",
   "metadata": {},
   "source": [
    "### Loading data files"
   ]
  },
  {
   "cell_type": "code",
   "execution_count": 7,
   "metadata": {},
   "outputs": [],
   "source": [
    "def get_data_files(path=\"../../torcs_SL/data_all/data\", pick_train=None, pick_test=None):\n",
    "    train_files = []\n",
    "    val_files = []\n",
    "\n",
    "    path = Path(path)\n",
    "    tracks = os.listdir(path.as_posix())\n",
    "\n",
    "    train_tracks = ['g-track-1', 'g-track-2', 'g-track-3', 'g-track-4', 'spring', 'aalborg', 'wheel-1', 'wheel-2', 'e-track-1', 'e-track-2']\n",
    "    test_tracks = ['e-track-3', 'alpine-2', 'corkscrew', 'wheel-2','ruudskogen']\n",
    "\n",
    "    random_tracks = np.random.choice(tracks, len(tracks), replace=False)\n",
    "    random_tracks = [x for x in random_tracks if x[:4] != 'dirt' and x[:3] != 'mix' and x not in test_tracks and x not in train_tracks]\n",
    "\n",
    "    val_tracks = test_tracks # random_tracks#[:3]\n",
    "    train_tracks.extend(random_tracks[:8])\n",
    "\n",
    "    track_files = list(path.glob(\"**/*.csv\"))\n",
    "\n",
    "\n",
    "    train_track_files = [x for x in track_files if x.parts[-2] in train_tracks]\n",
    "    val_track_files = [x for x in track_files if x.parts[-2] in val_tracks]\n",
    "    \n",
    "    \n",
    "    train_track_files = np.random.choice(train_track_files, pick_train, replace=False) if pick_train else train_track_files\n",
    "    val_track_files = np.random.choice(val_track_files, pick_test, replace=False) if pick_test else val_track_files\n",
    "\n",
    "    return train_track_files, val_track_files"
   ]
  },
  {
   "cell_type": "code",
   "execution_count": 8,
   "metadata": {},
   "outputs": [
    {
     "data": {
      "text/plain": [
       "([PosixPath('../../torcs_SL/data_all/data/g-track-2/2.csv'),\n",
       "  PosixPath('../../torcs_SL/data_all/data/g-track-2/3.csv'),\n",
       "  PosixPath('../../torcs_SL/data_all/data/g-track-2/1.csv'),\n",
       "  PosixPath('../../torcs_SL/data_all/data/forza/2.csv'),\n",
       "  PosixPath('../../torcs_SL/data_all/data/forza/3.csv'),\n",
       "  PosixPath('../../torcs_SL/data_all/data/forza/1.csv'),\n",
       "  PosixPath('../../torcs_SL/data_all/data/aalborg/2.csv'),\n",
       "  PosixPath('../../torcs_SL/data_all/data/aalborg/3.csv'),\n",
       "  PosixPath('../../torcs_SL/data_all/data/aalborg/1.csv'),\n",
       "  PosixPath('../../torcs_SL/data_all/data/wheel-1/2.csv'),\n",
       "  PosixPath('../../torcs_SL/data_all/data/wheel-1/3.csv'),\n",
       "  PosixPath('../../torcs_SL/data_all/data/wheel-1/1.csv'),\n",
       "  PosixPath('../../torcs_SL/data_all/data/alpine-1/2.csv'),\n",
       "  PosixPath('../../torcs_SL/data_all/data/alpine-1/3.csv'),\n",
       "  PosixPath('../../torcs_SL/data_all/data/alpine-1/1.csv'),\n",
       "  PosixPath('../../torcs_SL/data_all/data/e-track-4/2.csv'),\n",
       "  PosixPath('../../torcs_SL/data_all/data/e-track-4/3.csv'),\n",
       "  PosixPath('../../torcs_SL/data_all/data/e-track-4/1.csv'),\n",
       "  PosixPath('../../torcs_SL/data_all/data/e-track-6/2.csv'),\n",
       "  PosixPath('../../torcs_SL/data_all/data/e-track-6/3.csv'),\n",
       "  PosixPath('../../torcs_SL/data_all/data/e-track-6/1.csv'),\n",
       "  PosixPath('../../torcs_SL/data_all/data/g-track-1/2.csv'),\n",
       "  PosixPath('../../torcs_SL/data_all/data/g-track-1/3.csv'),\n",
       "  PosixPath('../../torcs_SL/data_all/data/g-track-1/1.csv'),\n",
       "  PosixPath('../../torcs_SL/data_all/data/street-1/2.csv'),\n",
       "  PosixPath('../../torcs_SL/data_all/data/street-1/3.csv'),\n",
       "  PosixPath('../../torcs_SL/data_all/data/street-1/1.csv'),\n",
       "  PosixPath('../../torcs_SL/data_all/data/g-track-3/2.csv'),\n",
       "  PosixPath('../../torcs_SL/data_all/data/g-track-3/3.csv'),\n",
       "  PosixPath('../../torcs_SL/data_all/data/g-track-3/1.csv'),\n",
       "  PosixPath('../../torcs_SL/data_all/data/ole-road-1/2.csv'),\n",
       "  PosixPath('../../torcs_SL/data_all/data/ole-road-1/3.csv'),\n",
       "  PosixPath('../../torcs_SL/data_all/data/ole-road-1/1.csv'),\n",
       "  PosixPath('../../torcs_SL/data_all/data/wheel-2/2.csv'),\n",
       "  PosixPath('../../torcs_SL/data_all/data/wheel-2/3.csv'),\n",
       "  PosixPath('../../torcs_SL/data_all/data/wheel-2/1.csv'),\n",
       "  PosixPath('../../torcs_SL/data_all/data/brondehach/2.csv'),\n",
       "  PosixPath('../../torcs_SL/data_all/data/brondehach/3.csv'),\n",
       "  PosixPath('../../torcs_SL/data_all/data/brondehach/1.csv'),\n",
       "  PosixPath('../../torcs_SL/data_all/data/spring/2.csv'),\n",
       "  PosixPath('../../torcs_SL/data_all/data/spring/3.csv'),\n",
       "  PosixPath('../../torcs_SL/data_all/data/spring/1.csv'),\n",
       "  PosixPath('../../torcs_SL/data_all/data/eroad/2.csv'),\n",
       "  PosixPath('../../torcs_SL/data_all/data/eroad/3.csv'),\n",
       "  PosixPath('../../torcs_SL/data_all/data/eroad/1.csv')],\n",
       " [PosixPath('../../torcs_SL/data_all/data/ruudskogen/2.csv'),\n",
       "  PosixPath('../../torcs_SL/data_all/data/ruudskogen/3.csv'),\n",
       "  PosixPath('../../torcs_SL/data_all/data/ruudskogen/1.csv'),\n",
       "  PosixPath('../../torcs_SL/data_all/data/alpine-2/2.csv'),\n",
       "  PosixPath('../../torcs_SL/data_all/data/alpine-2/3.csv'),\n",
       "  PosixPath('../../torcs_SL/data_all/data/alpine-2/1.csv'),\n",
       "  PosixPath('../../torcs_SL/data_all/data/wheel-2/2.csv'),\n",
       "  PosixPath('../../torcs_SL/data_all/data/wheel-2/3.csv'),\n",
       "  PosixPath('../../torcs_SL/data_all/data/wheel-2/1.csv'),\n",
       "  PosixPath('../../torcs_SL/data_all/data/corkscrew/2.csv'),\n",
       "  PosixPath('../../torcs_SL/data_all/data/corkscrew/3.csv'),\n",
       "  PosixPath('../../torcs_SL/data_all/data/corkscrew/1.csv'),\n",
       "  PosixPath('../../torcs_SL/data_all/data/e-track-3/2.csv'),\n",
       "  PosixPath('../../torcs_SL/data_all/data/e-track-3/3.csv'),\n",
       "  PosixPath('../../torcs_SL/data_all/data/e-track-3/1.csv')])"
      ]
     },
     "execution_count": 8,
     "metadata": {},
     "output_type": "execute_result"
    }
   ],
   "source": [
    "empty_train_track_files, empty_val_track_files = get_data_files(path=\"../../torcs_SL/data_all/data\")\n",
    "empty_train_track_files, empty_val_track_files"
   ]
  },
  {
   "cell_type": "code",
   "execution_count": 10,
   "metadata": {},
   "outputs": [
    {
     "data": {
      "text/plain": [
       "(array([PosixPath('../../torcs_SL/TORCS_DATA/data/g-track-2/24.csv'),\n",
       "        PosixPath('../../torcs_SL/TORCS_DATA/data/e-track-5/2.csv'),\n",
       "        PosixPath('../../torcs_SL/TORCS_DATA/data/d-speedway/11.csv'),\n",
       "        PosixPath('../../torcs_SL/TORCS_DATA/data/ole-road-1/25.csv'),\n",
       "        PosixPath('../../torcs_SL/TORCS_DATA/data/wheel-1/23.csv'),\n",
       "        PosixPath('../../torcs_SL/TORCS_DATA/data/e-track-4/6.csv'),\n",
       "        PosixPath('../../torcs_SL/TORCS_DATA/data/d-speedway/26.csv'),\n",
       "        PosixPath('../../torcs_SL/TORCS_DATA/data/g-speedway/12.csv'),\n",
       "        PosixPath('../../torcs_SL/TORCS_DATA/data/g-speedway/7.csv'),\n",
       "        PosixPath('../../torcs_SL/TORCS_DATA/data/g-track-3/2.csv'),\n",
       "        PosixPath('../../torcs_SL/TORCS_DATA/data/c-speedway/15.csv'),\n",
       "        PosixPath('../../torcs_SL/TORCS_DATA/data/spring/13.csv'),\n",
       "        PosixPath('../../torcs_SL/TORCS_DATA/data/aalborg/23.csv'),\n",
       "        PosixPath('../../torcs_SL/TORCS_DATA/data/spring/9.csv'),\n",
       "        PosixPath('../../torcs_SL/TORCS_DATA/data/g-track-3/28.csv'),\n",
       "        PosixPath('../../torcs_SL/TORCS_DATA/data/e-track-4/4.csv'),\n",
       "        PosixPath('../../torcs_SL/TORCS_DATA/data/c-speedway/5.csv'),\n",
       "        PosixPath('../../torcs_SL/TORCS_DATA/data/e-track-4/5.csv'),\n",
       "        PosixPath('../../torcs_SL/TORCS_DATA/data/g-track-2/20.csv'),\n",
       "        PosixPath('../../torcs_SL/TORCS_DATA/data/spring/22.csv'),\n",
       "        PosixPath('../../torcs_SL/TORCS_DATA/data/d-speedway/7.csv'),\n",
       "        PosixPath('../../torcs_SL/TORCS_DATA/data/ole-road-1/28.csv'),\n",
       "        PosixPath('../../torcs_SL/TORCS_DATA/data/g-track-1/13.csv'),\n",
       "        PosixPath('../../torcs_SL/TORCS_DATA/data/wheel-2/18.csv'),\n",
       "        PosixPath('../../torcs_SL/TORCS_DATA/data/g-speedway/26.csv')],\n",
       "       dtype=object),\n",
       " array([PosixPath('../../torcs_SL/TORCS_DATA/data/wheel-2/25.csv'),\n",
       "        PosixPath('../../torcs_SL/TORCS_DATA/data/alpine-2/13.csv'),\n",
       "        PosixPath('../../torcs_SL/TORCS_DATA/data/alpine-2/23.csv'),\n",
       "        PosixPath('../../torcs_SL/TORCS_DATA/data/alpine-2/16.csv'),\n",
       "        PosixPath('../../torcs_SL/TORCS_DATA/data/e-track-3/10.csv'),\n",
       "        PosixPath('../../torcs_SL/TORCS_DATA/data/corkscrew/21.csv'),\n",
       "        PosixPath('../../torcs_SL/TORCS_DATA/data/wheel-2/15.csv'),\n",
       "        PosixPath('../../torcs_SL/TORCS_DATA/data/alpine-2/14.csv'),\n",
       "        PosixPath('../../torcs_SL/TORCS_DATA/data/e-track-3/25.csv'),\n",
       "        PosixPath('../../torcs_SL/TORCS_DATA/data/alpine-2/21.csv'),\n",
       "        PosixPath('../../torcs_SL/TORCS_DATA/data/corkscrew/22.csv'),\n",
       "        PosixPath('../../torcs_SL/TORCS_DATA/data/e-track-3/3.csv')],\n",
       "       dtype=object))"
      ]
     },
     "execution_count": 10,
     "metadata": {},
     "output_type": "execute_result"
    }
   ],
   "source": [
    "traffic_train_track_files, traffic_val_track_files = get_data_files(\"../../torcs_SL/TORCS_DATA/data\", 25, 12)\n",
    "traffic_train_track_files, traffic_val_track_files"
   ]
  },
  {
   "cell_type": "markdown",
   "metadata": {},
   "source": [
    "### Train-Test Split"
   ]
  },
  {
   "cell_type": "code",
   "execution_count": 11,
   "metadata": {},
   "outputs": [
    {
     "name": "stdout",
     "output_type": "stream",
     "text": [
      "(365361, 79)\n",
      "(121802, 79)\n"
     ]
    }
   ],
   "source": [
    "empty_training_data = pd.DataFrame()\n",
    "empty_validation_data = pd.DataFrame()\n",
    "split_ratio = 0.8\n",
    "\n",
    "for fi in empty_train_track_files:\n",
    "    empty_training_data = pd.concat([empty_training_data, pd.read_csv(fi)]).reset_index(drop=True)\n",
    "\n",
    "for fi in empty_val_track_files:\n",
    "\n",
    "    empty_validation_data = pd.concat([empty_validation_data, pd.read_csv(fi)]).reset_index(drop=True)\n",
    "\n",
    "print (empty_training_data.shape)\n",
    "print (empty_validation_data.shape)"
   ]
  },
  {
   "cell_type": "code",
   "execution_count": 12,
   "metadata": {},
   "outputs": [
    {
     "name": "stdout",
     "output_type": "stream",
     "text": [
      "(433555, 79)\n",
      "(186832, 79)\n"
     ]
    }
   ],
   "source": [
    "traffic_training_data = pd.DataFrame()\n",
    "traffic_validation_data = pd.DataFrame()\n",
    "split_ratio = 0.8\n",
    "\n",
    "for fi in traffic_train_track_files:\n",
    "    traffic_training_data = pd.concat([traffic_training_data, pd.read_csv(fi)]).reset_index(drop=True)\n",
    "\n",
    "for fi in traffic_val_track_files:\n",
    "\n",
    "    traffic_validation_data = pd.concat([traffic_validation_data, pd.read_csv(fi)]).reset_index(drop=True)\n",
    "    \n",
    "print (traffic_training_data.shape)\n",
    "print (traffic_validation_data.shape)"
   ]
  },
  {
   "cell_type": "code",
   "execution_count": 13,
   "metadata": {},
   "outputs": [],
   "source": [
    "training_data = pd.concat([empty_training_data, traffic_training_data]).reset_index(drop=True)\n",
    "validation_data = pd.concat([empty_validation_data, traffic_validation_data]).reset_index(drop=True)\n"
   ]
  },
  {
   "cell_type": "raw",
   "metadata": {},
   "source": [
    "with open(MODEL_SAVE_DIR.joinpath(\"tracks.txt\"), \"w\") as fp:\n",
    "    fp.writelines([\"TRAIN\"])\n",
    "    fp.writelines(list(np.unique([x.parts[-2] for x in train_track_files])))\n",
    "    fp.writelines([\"VAL\"])\n",
    "    fp.writelines(list(np.unique([x.parts[-2] for x in val_track_files])))\n",
    "    "
   ]
  },
  {
   "cell_type": "raw",
   "metadata": {},
   "source": [
    "train_track_files, val_track_files"
   ]
  },
  {
   "cell_type": "markdown",
   "metadata": {},
   "source": [
    "### Train-Test Split"
   ]
  },
  {
   "cell_type": "raw",
   "metadata": {},
   "source": [
    "training_data = pd.DataFrame()\n",
    "validation_data = pd.DataFrame()\n",
    "split_ratio = 0.8\n",
    "\n",
    "for fi in train_track_files:\n",
    "    training_data = pd.concat([training_data, pd.read_csv(fi)]).reset_index(drop=True)\n",
    "\n",
    "for fi in val_track_files:\n",
    "\n",
    "    validation_data = pd.concat([validation_data, pd.read_csv(fi)]).reset_index(drop=True)\n"
   ]
  },
  {
   "cell_type": "raw",
   "metadata": {},
   "source": [
    "print (training_data.shape)\n",
    "print (validation_data.shape)"
   ]
  },
  {
   "cell_type": "code",
   "execution_count": 14,
   "metadata": {},
   "outputs": [
    {
     "data": {
      "text/plain": [
       "array(['Angle', ' CurrentLapTime', ' Damage', ' DistanceFromStart',\n",
       "       ' DistanceCovered', ' FuelLevel', ' Gear', ' LastLapTime',\n",
       "       ' Opponent_1', 'Opponent_2', 'Opponent_3', 'Opponent_4',\n",
       "       'Opponent_5', 'Opponent_6', 'Opponent_7', 'Opponent_8',\n",
       "       'Opponent_9', 'Opponent_10', 'Opponent_11', 'Opponent_12',\n",
       "       'Opponent_13', 'Opponent_14', 'Opponent_15', 'Opponent_16',\n",
       "       'Opponent_17', 'Opponent_18', 'Opponent_19', 'Opponent_20',\n",
       "       'Opponent_21', 'Opponent_22', 'Opponent_23', 'Opponent_24',\n",
       "       'Opponent_25', 'Opponent_26', 'Opponent_27', 'Opponent_28',\n",
       "       'Opponent_29', 'Opponent_30', 'Opponent_31', 'Opponent_32',\n",
       "       'Opponent_33', 'Opponent_34', 'Opponent_35', 'Opponent_36',\n",
       "       'RacePosition', ' RPM', ' SpeedX', ' SpeedY', ' SpeedZ',\n",
       "       ' Track_1', 'Track_2', 'Track_3', 'Track_4', 'Track_5', 'Track_6',\n",
       "       'Track_7', 'Track_8', 'Track_9', 'Track_10', 'Track_11',\n",
       "       'Track_12', 'Track_13', 'Track_14', 'Track_15', 'Track_16',\n",
       "       'Track_17', 'Track_18', 'Track_19', 'TrackPosition',\n",
       "       ' WheelSpinVelocity_1', 'WheelSpinVelocity_2',\n",
       "       'WheelSpinVelocity_3', 'WheelSpinVelocity_4', 'Z', ' Acceleration',\n",
       "       'Braking', 'Clutch', 'Gear', 'Steering'], dtype=object)"
      ]
     },
     "execution_count": 14,
     "metadata": {},
     "output_type": "execute_result"
    }
   ],
   "source": [
    "training_data.columns.values"
   ]
  },
  {
   "cell_type": "code",
   "execution_count": 15,
   "metadata": {},
   "outputs": [],
   "source": [
    "del training_data[' CurrentLapTime']\n",
    "del validation_data[' CurrentLapTime']\n",
    "del training_data[' LastLapTime']\n",
    "del validation_data[' LastLapTime']\n",
    "del training_data[' Damage']\n",
    "del validation_data[' Damage']\n",
    "del training_data[' FuelLevel']\n",
    "del validation_data[' FuelLevel']\n",
    "\n",
    "del training_data[' DistanceFromStart']\n",
    "del validation_data[' DistanceFromStart']\n",
    "\n",
    "\n",
    "del training_data['RacePosition']\n",
    "del validation_data['RacePosition']\n",
    "\n",
    "# for col in [c for c in training_data.columns if c.strip()[:3] == \"Opp\"]:\n",
    "#     del training_data[col]\n",
    "#     del validation_data[col]\n",
    "            "
   ]
  },
  {
   "cell_type": "code",
   "execution_count": 16,
   "metadata": {},
   "outputs": [
    {
     "data": {
      "text/plain": [
       "Index(['Angle', ' DistanceCovered', ' Gear', ' Opponent_1', 'Opponent_2',\n",
       "       'Opponent_3', 'Opponent_4', 'Opponent_5', 'Opponent_6', 'Opponent_7',\n",
       "       'Opponent_8', 'Opponent_9', 'Opponent_10', 'Opponent_11', 'Opponent_12',\n",
       "       'Opponent_13', 'Opponent_14', 'Opponent_15', 'Opponent_16',\n",
       "       'Opponent_17', 'Opponent_18', 'Opponent_19', 'Opponent_20',\n",
       "       'Opponent_21', 'Opponent_22', 'Opponent_23', 'Opponent_24',\n",
       "       'Opponent_25', 'Opponent_26', 'Opponent_27', 'Opponent_28',\n",
       "       'Opponent_29', 'Opponent_30', 'Opponent_31', 'Opponent_32',\n",
       "       'Opponent_33', 'Opponent_34', 'Opponent_35', 'Opponent_36', ' RPM',\n",
       "       ' SpeedX', ' SpeedY', ' SpeedZ', ' Track_1', 'Track_2', 'Track_3',\n",
       "       'Track_4', 'Track_5', 'Track_6', 'Track_7', 'Track_8', 'Track_9',\n",
       "       'Track_10', 'Track_11', 'Track_12', 'Track_13', 'Track_14', 'Track_15',\n",
       "       'Track_16', 'Track_17', 'Track_18', 'Track_19', 'TrackPosition',\n",
       "       ' WheelSpinVelocity_1', 'WheelSpinVelocity_2', 'WheelSpinVelocity_3',\n",
       "       'WheelSpinVelocity_4', 'Z', ' Acceleration', 'Braking', 'Clutch',\n",
       "       'Gear', 'Steering'],\n",
       "      dtype='object')"
      ]
     },
     "execution_count": 16,
     "metadata": {},
     "output_type": "execute_result"
    }
   ],
   "source": [
    "training_data.columns"
   ]
  },
  {
   "cell_type": "code",
   "execution_count": 17,
   "metadata": {},
   "outputs": [],
   "source": [
    "X_train=training_data.loc[:,'Angle':'Z']\n",
    "Y_train=training_data.loc[:,'Steering']\n",
    "X_val=validation_data.loc[:,'Angle':'Z']\n",
    "Y_val=validation_data.loc[:,'Steering']"
   ]
  },
  {
   "cell_type": "code",
   "execution_count": 18,
   "metadata": {},
   "outputs": [
    {
     "data": {
      "text/plain": [
       "Index(['Angle', ' DistanceCovered', ' Gear', ' Opponent_1', 'Opponent_2',\n",
       "       'Opponent_3', 'Opponent_4', 'Opponent_5', 'Opponent_6', 'Opponent_7',\n",
       "       'Opponent_8', 'Opponent_9', 'Opponent_10', 'Opponent_11', 'Opponent_12',\n",
       "       'Opponent_13', 'Opponent_14', 'Opponent_15', 'Opponent_16',\n",
       "       'Opponent_17', 'Opponent_18', 'Opponent_19', 'Opponent_20',\n",
       "       'Opponent_21', 'Opponent_22', 'Opponent_23', 'Opponent_24',\n",
       "       'Opponent_25', 'Opponent_26', 'Opponent_27', 'Opponent_28',\n",
       "       'Opponent_29', 'Opponent_30', 'Opponent_31', 'Opponent_32',\n",
       "       'Opponent_33', 'Opponent_34', 'Opponent_35', 'Opponent_36', ' RPM',\n",
       "       ' SpeedX', ' SpeedY', ' SpeedZ', ' Track_1', 'Track_2', 'Track_3',\n",
       "       'Track_4', 'Track_5', 'Track_6', 'Track_7', 'Track_8', 'Track_9',\n",
       "       'Track_10', 'Track_11', 'Track_12', 'Track_13', 'Track_14', 'Track_15',\n",
       "       'Track_16', 'Track_17', 'Track_18', 'Track_19', 'TrackPosition',\n",
       "       ' WheelSpinVelocity_1', 'WheelSpinVelocity_2', 'WheelSpinVelocity_3',\n",
       "       'WheelSpinVelocity_4', 'Z', ' Acceleration', 'Braking', 'Clutch',\n",
       "       'Gear', 'Steering'],\n",
       "      dtype='object')"
      ]
     },
     "execution_count": 18,
     "metadata": {},
     "output_type": "execute_result"
    }
   ],
   "source": [
    "training_data.columns"
   ]
  },
  {
   "cell_type": "code",
   "execution_count": 19,
   "metadata": {},
   "outputs": [
    {
     "name": "stdout",
     "output_type": "stream",
     "text": [
      "(798916, 68)\n",
      "(798916,)\n",
      "(308634, 68)\n",
      "(308634,)\n",
      "(798916, 68)\n",
      "(798916, 1)\n",
      "(308634, 68)\n",
      "(308634, 1)\n"
     ]
    }
   ],
   "source": [
    "print (X_train.shape)\n",
    "print (Y_train.shape)\n",
    "print (X_val.shape)\n",
    "print (Y_val.shape)\n",
    "scaler = StandardScaler()\n",
    "X_train=scaler.fit_transform(X_train)\n",
    "X_val=scaler.fit_transform(X_val)\n",
    "Y_train=Y_train.values.reshape((-1, 1))\n",
    "Y_val=Y_val.values.reshape((-1, 1))\n",
    "print (X_train.shape)\n",
    "print (Y_train.shape)\n",
    "print (X_val.shape)\n",
    "print (Y_val.shape)"
   ]
  },
  {
   "cell_type": "markdown",
   "metadata": {},
   "source": [
    "### Save these means and stds for test time"
   ]
  },
  {
   "cell_type": "code",
   "execution_count": 20,
   "metadata": {},
   "outputs": [],
   "source": [
    "with open(MODEL_SAVE_DIR.joinpath(\"scaler.pickle\").as_posix(), \"wb\") as fp:\n",
    "    pickle.dump(scaler, fp)"
   ]
  },
  {
   "cell_type": "code",
   "execution_count": 21,
   "metadata": {},
   "outputs": [
    {
     "data": {
      "text/plain": [
       "array([-1.35257724e-02,  5.70494519e+03,  3.24922724e+00,  1.80168835e+02,\n",
       "        1.90658458e+02,  1.93294592e+02,  1.95329479e+02,  1.96313825e+02,\n",
       "        1.97595207e+02,  1.98190752e+02,  1.98582402e+02,  1.98515319e+02,\n",
       "        1.98501251e+02,  1.98181006e+02,  1.97819793e+02,  1.97165843e+02,\n",
       "        1.96290253e+02,  1.94351629e+02,  1.92707014e+02,  1.89803677e+02,\n",
       "        1.80133211e+02,  1.79817268e+02,  1.90898324e+02,  1.94094187e+02,\n",
       "        1.96590090e+02,  1.97917984e+02,  1.98601619e+02,  1.99002757e+02,\n",
       "        1.99117074e+02,  1.99241947e+02,  1.99041144e+02,  1.98961701e+02,\n",
       "        1.98719237e+02,  1.98384649e+02,  1.97478440e+02,  1.96002725e+02,\n",
       "        1.93229179e+02,  1.88373730e+02,  1.81658729e+02,  7.88059543e+03,\n",
       "        1.57329062e+02, -7.38250189e-01,  4.00344534e-02,  5.83983311e+00,\n",
       "        6.03657482e+00,  7.61161437e+00,  1.02851367e+01,  2.01358267e+01,\n",
       "        2.70389777e+01,  3.80623357e+01,  6.39158612e+01,  8.40120363e+01,\n",
       "        8.38421394e+01,  8.20027813e+01,  6.22429914e+01,  4.30588791e+01,\n",
       "        2.58175816e+01,  1.97488816e+01,  1.17456840e+01,  8.92147537e+00,\n",
       "        7.11699525e+00,  6.88645906e+00,  6.53598659e-02,  1.30640233e+02,\n",
       "        1.30228336e+02,  1.35750592e+02,  1.35531843e+02,  3.30357747e-01])"
      ]
     },
     "execution_count": 21,
     "metadata": {},
     "output_type": "execute_result"
    }
   ],
   "source": [
    "scaler.mean_"
   ]
  },
  {
   "cell_type": "code",
   "execution_count": 22,
   "metadata": {},
   "outputs": [
    {
     "data": {
      "text/plain": [
       "array([2.30996945e-01, 3.97583394e+03, 9.91718792e-01, 5.04585190e+01,\n",
       "       3.62873696e+01, 2.97341602e+01, 2.38279878e+01, 2.08409884e+01,\n",
       "       1.64434518e+01, 1.51226642e+01, 1.32501745e+01, 1.41223856e+01,\n",
       "       1.35709805e+01, 1.50142407e+01, 1.62214208e+01, 1.79533617e+01,\n",
       "       2.09346305e+01, 2.58125381e+01, 3.07113627e+01, 3.76009959e+01,\n",
       "       5.12143364e+01, 5.14468061e+01, 3.60055368e+01, 2.84259175e+01,\n",
       "       2.01349365e+01, 1.52523347e+01, 1.25082467e+01, 1.05656341e+01,\n",
       "       9.99173377e+00, 9.22491845e+00, 1.08564576e+01, 1.14288723e+01,\n",
       "       1.25091660e+01, 1.40217957e+01, 1.70219527e+01, 2.20774356e+01,\n",
       "       2.94188499e+01, 3.96678849e+01, 4.98653935e+01, 1.15629733e+03,\n",
       "       5.00974215e+01, 5.36117435e+00, 7.18695401e+00, 3.41078913e+00,\n",
       "       3.43097815e+00, 4.53860228e+00, 6.39283309e+00, 1.96647148e+01,\n",
       "       2.20039298e+01, 2.36907323e+01, 3.85836928e+01, 5.84813873e+01,\n",
       "       5.73832851e+01, 5.59052849e+01, 3.75427118e+01, 3.08036979e+01,\n",
       "       1.58770007e+01, 1.23967588e+01, 5.90881922e+00, 4.59677307e+00,\n",
       "       3.51421509e+00, 3.53776045e+00, 4.53924524e-01, 4.24727559e+01,\n",
       "       4.28401345e+01, 4.22971483e+01, 4.25023114e+01, 1.08323369e-02])"
      ]
     },
     "execution_count": 22,
     "metadata": {},
     "output_type": "execute_result"
    }
   ],
   "source": [
    "scaler.scale_"
   ]
  },
  {
   "cell_type": "code",
   "execution_count": 23,
   "metadata": {},
   "outputs": [],
   "source": [
    "np.save(MODEL_SAVE_DIR.joinpath(\"means.npy\"), scaler.mean_)\n",
    "np.save(MODEL_SAVE_DIR.joinpath(\"stds.npy\"), scaler.scale_)"
   ]
  },
  {
   "cell_type": "markdown",
   "metadata": {},
   "source": [
    "## Model Building"
   ]
  },
  {
   "cell_type": "code",
   "execution_count": 24,
   "metadata": {},
   "outputs": [
    {
     "name": "stdout",
     "output_type": "stream",
     "text": [
      "WARNING:tensorflow:`epsilon` argument is deprecated and will be removed, use `min_delta` instead.\n"
     ]
    }
   ],
   "source": [
    "from tensorflow.keras.callbacks import ReduceLROnPlateau\n",
    "reduce_lr = ReduceLROnPlateau(monitor='val_loss', factor=0.1,\n",
    "                              patience=5,epsilon=0.0001, min_lr=0)"
   ]
  },
  {
   "cell_type": "code",
   "execution_count": 25,
   "metadata": {
    "scrolled": true
   },
   "outputs": [
    {
     "name": "stderr",
     "output_type": "stream",
     "text": [
      "2023-12-04 17:16:08.806169: I tensorflow/compiler/xla/stream_executor/cuda/cuda_gpu_executor.cc:996] successful NUMA node read from SysFS had negative value (-1), but there must be at least one NUMA node, so returning NUMA node zero. See more at https://github.com/torvalds/linux/blob/v6.0/Documentation/ABI/testing/sysfs-bus-pci#L344-L355\n",
      "2023-12-04 17:16:08.806384: I tensorflow/compiler/xla/stream_executor/cuda/cuda_gpu_executor.cc:996] successful NUMA node read from SysFS had negative value (-1), but there must be at least one NUMA node, so returning NUMA node zero. See more at https://github.com/torvalds/linux/blob/v6.0/Documentation/ABI/testing/sysfs-bus-pci#L344-L355\n",
      "2023-12-04 17:16:08.806500: I tensorflow/compiler/xla/stream_executor/cuda/cuda_gpu_executor.cc:996] successful NUMA node read from SysFS had negative value (-1), but there must be at least one NUMA node, so returning NUMA node zero. See more at https://github.com/torvalds/linux/blob/v6.0/Documentation/ABI/testing/sysfs-bus-pci#L344-L355\n",
      "2023-12-04 17:16:09.183141: I tensorflow/compiler/xla/stream_executor/cuda/cuda_gpu_executor.cc:996] successful NUMA node read from SysFS had negative value (-1), but there must be at least one NUMA node, so returning NUMA node zero. See more at https://github.com/torvalds/linux/blob/v6.0/Documentation/ABI/testing/sysfs-bus-pci#L344-L355\n",
      "2023-12-04 17:16:09.183294: I tensorflow/compiler/xla/stream_executor/cuda/cuda_gpu_executor.cc:996] successful NUMA node read from SysFS had negative value (-1), but there must be at least one NUMA node, so returning NUMA node zero. See more at https://github.com/torvalds/linux/blob/v6.0/Documentation/ABI/testing/sysfs-bus-pci#L344-L355\n",
      "2023-12-04 17:16:09.183384: I tensorflow/compiler/xla/stream_executor/cuda/cuda_gpu_executor.cc:996] successful NUMA node read from SysFS had negative value (-1), but there must be at least one NUMA node, so returning NUMA node zero. See more at https://github.com/torvalds/linux/blob/v6.0/Documentation/ABI/testing/sysfs-bus-pci#L344-L355\n",
      "2023-12-04 17:16:09.183453: I tensorflow/core/common_runtime/gpu/gpu_device.cc:1635] Created device /job:localhost/replica:0/task:0/device:GPU:0 with 9986 MB memory:  -> device: 0, name: NVIDIA GeForce RTX 3060, pci bus id: 0000:01:00.0, compute capability: 8.6\n"
     ]
    }
   ],
   "source": [
    "learning_rate=1e-1\n",
    "output_dim=Y_train.shape[1]\n",
    "model=Sequential()\n",
    "model.add(Dense(512\n",
    "                ,input_shape=(X_train.shape[1],),activation='relu',kernel_initializer='he_normal'))\n",
    "# model.add(Dense(512,activation='relu',kernel_initializer='he_normal'))\n",
    "model.add(Dense(256,activation='relu',kernel_initializer='he_normal'))\n",
    "model.add(Dense(128,activation='relu',kernel_initializer='he_normal'))\n",
    "model.add(Dense(64,activation='relu',kernel_initializer='he_normal'))\n",
    "model.add(Dense(32,activation='relu',kernel_initializer='he_normal'))\n",
    "model.add(Dense(8,activation='relu',kernel_initializer='he_normal'))\n",
    "model.add(Dense(4,activation='relu',kernel_initializer='he_normal'))\n",
    "model.add(Dense(1,kernel_initializer='he_normal'))\n",
    "model.compile(optimizer=Adam(learning_rate),loss='mean_absolute_error',metrics=['mae'])\n"
   ]
  },
  {
   "cell_type": "code",
   "execution_count": 26,
   "metadata": {},
   "outputs": [
    {
     "name": "stdout",
     "output_type": "stream",
     "text": [
      "Model: \"sequential\"\n",
      "_________________________________________________________________\n",
      " Layer (type)                Output Shape              Param #   \n",
      "=================================================================\n",
      " dense (Dense)               (None, 512)               35328     \n",
      "                                                                 \n",
      " dense_1 (Dense)             (None, 256)               131328    \n",
      "                                                                 \n",
      " dense_2 (Dense)             (None, 128)               32896     \n",
      "                                                                 \n",
      " dense_3 (Dense)             (None, 64)                8256      \n",
      "                                                                 \n",
      " dense_4 (Dense)             (None, 32)                2080      \n",
      "                                                                 \n",
      " dense_5 (Dense)             (None, 8)                 264       \n",
      "                                                                 \n",
      " dense_6 (Dense)             (None, 4)                 36        \n",
      "                                                                 \n",
      " dense_7 (Dense)             (None, 1)                 5         \n",
      "                                                                 \n",
      "=================================================================\n",
      "Total params: 210,193\n",
      "Trainable params: 210,193\n",
      "Non-trainable params: 0\n",
      "_________________________________________________________________\n"
     ]
    }
   ],
   "source": [
    "model.summary()"
   ]
  },
  {
   "cell_type": "code",
   "execution_count": 27,
   "metadata": {},
   "outputs": [
    {
     "name": "stdout",
     "output_type": "stream",
     "text": [
      "Epoch 1/50\n"
     ]
    },
    {
     "name": "stderr",
     "output_type": "stream",
     "text": [
      "2023-12-04 17:16:11.760268: I tensorflow/compiler/xla/stream_executor/cuda/cuda_blas.cc:637] TensorFloat-32 will be used for the matrix multiplication. This will only be logged once.\n",
      "2023-12-04 17:16:11.768410: I tensorflow/compiler/xla/service/service.cc:169] XLA service 0x38dc2a20 initialized for platform CUDA (this does not guarantee that XLA will be used). Devices:\n",
      "2023-12-04 17:16:11.768426: I tensorflow/compiler/xla/service/service.cc:177]   StreamExecutor device (0): NVIDIA GeForce RTX 3060, Compute Capability 8.6\n",
      "2023-12-04 17:16:11.771900: I tensorflow/compiler/mlir/tensorflow/utils/dump_mlir_util.cc:269] disabling MLIR crash reproducer, set env var `MLIR_CRASH_REPRODUCER_DIRECTORY` to enable.\n",
      "2023-12-04 17:16:11.782841: I tensorflow/compiler/xla/stream_executor/cuda/cuda_dnn.cc:424] Loaded cuDNN version 8900\n",
      "2023-12-04 17:16:11.883675: I ./tensorflow/compiler/jit/device_compiler.h:180] Compiled cluster using XLA!  This line is logged at most once for the lifetime of the process.\n"
     ]
    },
    {
     "name": "stdout",
     "output_type": "stream",
     "text": [
      "3121/3121 [==============================] - 9s 2ms/step - loss: 2.9958 - mae: 2.9958 - val_loss: 0.1043 - val_mae: 0.1043 - lr: 0.1000\n",
      "Epoch 2/50\n",
      "3121/3121 [==============================] - 6s 2ms/step - loss: 0.1015 - mae: 0.1015 - val_loss: 0.1044 - val_mae: 0.1044 - lr: 0.1000\n",
      "Epoch 3/50\n",
      "3121/3121 [==============================] - 7s 2ms/step - loss: 0.1015 - mae: 0.1015 - val_loss: 0.1046 - val_mae: 0.1046 - lr: 0.1000\n",
      "Epoch 4/50\n",
      "3121/3121 [==============================] - 7s 2ms/step - loss: 0.1015 - mae: 0.1015 - val_loss: 0.1053 - val_mae: 0.1053 - lr: 0.1000\n",
      "Epoch 5/50\n",
      "3121/3121 [==============================] - 7s 2ms/step - loss: 0.1015 - mae: 0.1015 - val_loss: 0.1088 - val_mae: 0.1088 - lr: 0.1000\n",
      "Epoch 6/50\n",
      "3121/3121 [==============================] - 6s 2ms/step - loss: 0.1015 - mae: 0.1015 - val_loss: 0.1051 - val_mae: 0.1051 - lr: 0.1000\n",
      "Epoch 7/50\n",
      "3121/3121 [==============================] - 7s 2ms/step - loss: 0.1008 - mae: 0.1008 - val_loss: 0.1044 - val_mae: 0.1044 - lr: 0.0100\n",
      "Epoch 8/50\n",
      "3121/3121 [==============================] - 6s 2ms/step - loss: 0.1008 - mae: 0.1008 - val_loss: 0.1046 - val_mae: 0.1046 - lr: 0.0100\n",
      "Epoch 9/50\n",
      "3121/3121 [==============================] - 7s 2ms/step - loss: 0.1008 - mae: 0.1008 - val_loss: 0.1044 - val_mae: 0.1044 - lr: 0.0100\n",
      "Epoch 10/50\n",
      "3121/3121 [==============================] - 7s 2ms/step - loss: 0.1009 - mae: 0.1009 - val_loss: 0.1042 - val_mae: 0.1042 - lr: 0.0100\n",
      "Epoch 11/50\n",
      "3121/3121 [==============================] - 7s 2ms/step - loss: 0.1009 - mae: 0.1009 - val_loss: 0.1044 - val_mae: 0.1044 - lr: 0.0100\n",
      "Epoch 12/50\n",
      "3121/3121 [==============================] - 7s 2ms/step - loss: 0.1008 - mae: 0.1008 - val_loss: 0.1043 - val_mae: 0.1043 - lr: 1.0000e-03\n",
      "Epoch 13/50\n",
      "3121/3121 [==============================] - 7s 2ms/step - loss: 0.1008 - mae: 0.1008 - val_loss: 0.1043 - val_mae: 0.1043 - lr: 1.0000e-03\n",
      "Epoch 14/50\n",
      " 782/3121 [======>.......................] - ETA: 4s - loss: 0.1008 - mae: 0.1008"
     ]
    },
    {
     "name": "stderr",
     "output_type": "stream",
     "text": [
      "\n",
      "KeyboardInterrupt\n",
      "\n"
     ]
    }
   ],
   "source": [
    "stats = model.fit(X_train,Y_train,validation_data=(X_val,Y_val),batch_size=256,epochs=50, callbacks=[reduce_lr])"
   ]
  },
  {
   "cell_type": "code",
   "execution_count": 28,
   "metadata": {},
   "outputs": [],
   "source": [
    "model.save(MODEL_SAVE_DIR.joinpath('model.h5'))"
   ]
  },
  {
   "cell_type": "code",
   "execution_count": 29,
   "metadata": {},
   "outputs": [],
   "source": [
    "import matplotlib.pyplot as plt\n",
    "import seaborn as sns\n",
    "custom_params = {\"axes.spines.right\": False, \"axes.spines.top\": False}\n",
    "sns.set_theme(style=\"ticks\", rc=custom_params)\n"
   ]
  },
  {
   "cell_type": "code",
   "execution_count": 30,
   "metadata": {},
   "outputs": [
    {
     "ename": "NameError",
     "evalue": "name 'stats' is not defined",
     "output_type": "error",
     "traceback": [
      "\u001b[0;31m---------------------------------------------------------------------------\u001b[0m",
      "\u001b[0;31mNameError\u001b[0m                                 Traceback (most recent call last)",
      "Cell \u001b[0;32mIn[30], line 2\u001b[0m\n\u001b[1;32m      1\u001b[0m fig, ax \u001b[38;5;241m=\u001b[39m plt\u001b[38;5;241m.\u001b[39msubplots(dpi\u001b[38;5;241m=\u001b[39m\u001b[38;5;241m400\u001b[39m)\n\u001b[0;32m----> 2\u001b[0m ax\u001b[38;5;241m.\u001b[39mplot(\u001b[43mstats\u001b[49m\u001b[38;5;241m.\u001b[39mhistory[\u001b[38;5;124m'\u001b[39m\u001b[38;5;124mloss\u001b[39m\u001b[38;5;124m'\u001b[39m])\n\u001b[1;32m      3\u001b[0m ax\u001b[38;5;241m.\u001b[39mplot(stats\u001b[38;5;241m.\u001b[39mhistory[\u001b[38;5;124m'\u001b[39m\u001b[38;5;124mval_loss\u001b[39m\u001b[38;5;124m'\u001b[39m])\n\u001b[1;32m      4\u001b[0m ax\u001b[38;5;241m.\u001b[39mlegend([\u001b[38;5;124m'\u001b[39m\u001b[38;5;124mTraining Loss\u001b[39m\u001b[38;5;124m'\u001b[39m, \u001b[38;5;124m'\u001b[39m\u001b[38;5;124mValidation Loss\u001b[39m\u001b[38;5;124m'\u001b[39m])\n",
      "\u001b[0;31mNameError\u001b[0m: name 'stats' is not defined"
     ]
    },
    {
     "data": {
      "image/png": "[encoded data removed]",
      "text/plain": [
       "<Figure size 2560x1920 with 1 Axes>"
      ]
     },
     "metadata": {},
     "output_type": "display_data"
    }
   ],
   "source": [
    "fig, ax = plt.subplots(dpi=400)\n",
    "ax.plot(stats.history['loss'])\n",
    "ax.plot(stats.history['val_loss'])\n",
    "ax.legend(['Training Loss', 'Validation Loss'])\n",
    "ax.set_xlabel(\"Epochs\")\n",
    "ax.set_ylabel(\"Mean Absolute Error\")\n",
    "\n",
    "fig.savefig(MODEL_SAVE_DIR.joinpath(\"dnn_loss.png\"))"
   ]
  },
  {
   "cell_type": "code",
   "execution_count": null,
   "metadata": {},
   "outputs": [],
   "source": []
  }
 ],
 "metadata": {
  "kernelspec": {
   "display_name": "Python 3 (ipykernel)",
   "language": "python",
   "name": "python3"
  },
  "language_info": {
   "codemirror_mode": {
    "name": "ipython",
    "version": 3
   },
   "file_extension": ".py",
   "mimetype": "text/x-python",
   "name": "python",
   "nbconvert_exporter": "python",
   "pygments_lexer": "ipython3",
   "version": "3.9.16"
  }
 },
 "nbformat": 4,
 "nbformat_minor": 2
}

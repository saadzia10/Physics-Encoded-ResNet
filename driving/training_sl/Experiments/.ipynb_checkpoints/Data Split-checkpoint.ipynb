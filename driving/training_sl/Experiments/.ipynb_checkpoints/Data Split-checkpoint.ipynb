{
 "cells": [
  {
   "cell_type": "code",
   "execution_count": 11,
   "id": "3a5c6d13-c0a3-42c7-8108-c4692f4238ac",
   "metadata": {},
   "outputs": [],
   "source": [
    "from pathlib import Path\n",
    "import os\n",
    "import numpy as np\n",
    "import json"
   ]
  },
  {
   "cell_type": "code",
   "execution_count": 12,
   "id": "40f1030e-f0a5-422e-b567-008b3115598c",
   "metadata": {},
   "outputs": [],
   "source": [
    "data_dir = Path(\"../../../torcs_SL/TORCS_DATA/data\")\n",
    "\n",
    "empty_data_dir = Path(\"../../../torcs_SL/data_all/data/\")"
   ]
  },
  {
   "cell_type": "code",
   "execution_count": 20,
   "id": "de39b4bd-3ff6-4d78-9aa3-2e7f9d869cd2",
   "metadata": {},
   "outputs": [],
   "source": [
    "PICK_SMALL = 3\n",
    "PICK_MEDIUM = 3\n",
    "PICK_LARGE = 5"
   ]
  },
  {
   "cell_type": "code",
   "execution_count": 21,
   "id": "9c7b2a9e-40c8-4da9-a691-86b65513a5f4",
   "metadata": {},
   "outputs": [
    {
     "name": "stdout",
     "output_type": "stream",
     "text": [
      "Train:  ['g-track-2', 'forza', 'aalborg', 'wheel-1', 'michigan', 'mixed-2', 'f-speedway', 'c-speedway', 'mixed-1', 'e-speedway', 'alpine-1', 'e-track-4', 'e-track-6', 'g-track-1', 'd-speedway', 'street-1', 'e-track-5', 'ole-road-1', 'g-speedway', 'a-speedway', 'brondehach', 'spring', 'eroad', 'b-speedway']\n",
      "Val ['e-track-3', 'corkscrew', 'g-track-3']\n",
      "Test ['wheel-2', 'alpine-2', 'ruudskogen']\n",
      "Total Tracks:  36\n"
     ]
    }
   ],
   "source": [
    "test_tracks = [\"wheel-2\", \"alpine-2\", \"ruudskogen\"]\n",
    "val_tracks = [\"e-track-3\", \"corkscrew\", \"g-track-3\"]\n",
    "\n",
    "all_track_dirs = list(data_dir.glob(\"*\"))\n",
    "\n",
    "train_tracks = [x.parts[-1] for x in all_track_dirs if x.parts[-1] not in val_tracks and x.parts[-1] not in test_tracks and \"dirt\" not in x.parts[-1]] \n",
    "\n",
    "print(\"Train: \", train_tracks)\n",
    "print(\"Val\", val_tracks)\n",
    "print(\"Test\", test_tracks)\n",
    "print(\"Total Tracks: \", len(all_track_dirs))"
   ]
  },
  {
   "cell_type": "code",
   "execution_count": 22,
   "id": "3d4430e6-9bc3-47d3-94f2-2aac776cd049",
   "metadata": {},
   "outputs": [],
   "source": [
    "train_track_dirs = [x for x in all_track_dirs if x.parts[-1] in train_tracks]\n",
    "val_tracks_dirs = [x for x in all_track_dirs if x.parts[-1] in val_tracks]\n",
    "test_tracks_dirs = [x for x in all_track_dirs if x.parts[-1] in test_tracks]"
   ]
  },
  {
   "cell_type": "code",
   "execution_count": 23,
   "id": "c33aabaf-1210-4f66-81d7-cb1886c7a6f8",
   "metadata": {},
   "outputs": [],
   "source": [
    "small_set = np.array([\"g-track-2\", \"aalborg\", \"wheel-1\", \"g-track-1\", \"spring\", \"street-1\"])\n",
    "medium_set = np.random.choice([x for x in train_tracks if x not in small_set], 9, replace=False)\n",
    "medium_set = np.append(medium_set, small_set)\n",
    "large_set = np.array([x for x in train_tracks if x not in medium_set])\n",
    "large_set = np.append(large_set, medium_set)"
   ]
  },
  {
   "cell_type": "code",
   "execution_count": 25,
   "id": "6ef5ef7a-3711-443d-9654-6582a1d39d62",
   "metadata": {},
   "outputs": [
    {
     "name": "stdout",
     "output_type": "stream",
     "text": [
      "Small: ['g-track-2' 'aalborg' 'wheel-1' 'g-track-1' 'spring' 'street-1']\n",
      "Medium: ['e-speedway' 'eroad' 'g-speedway' 'ole-road-1' 'd-speedway' 'michigan'\n",
      " 'a-speedway' 'c-speedway' 'b-speedway' 'g-track-2' 'aalborg' 'wheel-1'\n",
      " 'g-track-1' 'spring' 'street-1']\n",
      "Large: ['forza' 'mixed-2' 'f-speedway' 'mixed-1' 'alpine-1' 'e-track-4'\n",
      " 'e-track-6' 'e-track-5' 'brondehach' 'e-speedway' 'eroad' 'g-speedway'\n",
      " 'ole-road-1' 'd-speedway' 'michigan' 'a-speedway' 'c-speedway'\n",
      " 'b-speedway' 'g-track-2' 'aalborg' 'wheel-1' 'g-track-1' 'spring'\n",
      " 'street-1']\n"
     ]
    }
   ],
   "source": [
    "print(\"Small:\", small_set)\n",
    "print(\"Medium:\", medium_set)\n",
    "print(\"Large:\", large_set)"
   ]
  },
  {
   "cell_type": "code",
   "execution_count": 26,
   "id": "550d0600-a702-4153-91e1-64579ed2fd0c",
   "metadata": {},
   "outputs": [],
   "source": [
    "# Small config\n",
    "config = {}\n",
    "config[\"empty\"] = {}\n",
    "config[\"empty\"][\"train\"] = [x.as_posix() for x in sorted(list(empty_data_dir.glob(\"*/*\")), key=lambda x: x.parts[-1]) if x.parts[-2] in small_set]\n",
    "config[\"empty\"][\"val\"] = [x.as_posix() for x in sorted(list(empty_data_dir.glob(\"*/*\")), key=lambda x: x.parts[-1]) if x.parts[-2] in val_tracks]\n",
    "config[\"empty\"][\"test\"] = [x.as_posix() for x in sorted(list(empty_data_dir.glob(\"*/*\")), key=lambda x: x.parts[-1]) if x.parts[-2] in test_tracks]\n",
    "\n",
    "config[\"traffic\"] = {}\n",
    "config[\"traffic\"][\"train\"] = []\n",
    "config[\"traffic\"][\"val\"] = []\n",
    "config[\"traffic\"][\"test\"] = []\n",
    "\n",
    "\n",
    "for track_path in list(data_dir.glob(\"*\")):\n",
    "    files = sorted(list(track_path.glob(\"*\")), key=lambda x: int(x.parts[-1].split(\".\")[0]))[:PICK_SMALL]\n",
    "    if track_path.parts[-1] in small_set:\n",
    "        config[\"traffic\"][\"train\"].extend([x.as_posix() for x in files])\n",
    "    elif track_path.parts[-1] in val_tracks:\n",
    "        config[\"traffic\"][\"val\"].extend([x.as_posix() for x in files])\n",
    "    elif track_path.parts[-1] in test_tracks:\n",
    "        config[\"traffic\"][\"test\"].extend([x.as_posix() for x in files])\n",
    "\n",
    "with open(\"small_train.json\", \"w\") as fp:\n",
    "    json.dump(config, fp)"
   ]
  },
  {
   "cell_type": "code",
   "execution_count": 27,
   "id": "44f68b6d-79d3-4296-b098-5a3dd01b20c3",
   "metadata": {},
   "outputs": [],
   "source": [
    "# Medium config\n",
    "config = {}\n",
    "config[\"empty\"] = {}\n",
    "config[\"empty\"][\"train\"] = [x.as_posix() for x in sorted(list(empty_data_dir.glob(\"*/*\")), key=lambda x: x.parts[-1]) if x.parts[-2] in medium_set]\n",
    "config[\"empty\"][\"val\"] = [x.as_posix() for x in sorted(list(empty_data_dir.glob(\"*/*\")), key=lambda x: x.parts[-1]) if x.parts[-2] in val_tracks]\n",
    "config[\"empty\"][\"test\"] = [x.as_posix() for x in sorted(list(empty_data_dir.glob(\"*/*\")), key=lambda x: x.parts[-1]) if x.parts[-2] in test_tracks]\n",
    "\n",
    "config[\"traffic\"] = {}\n",
    "config[\"traffic\"][\"train\"] = []\n",
    "config[\"traffic\"][\"val\"] = []\n",
    "config[\"traffic\"][\"test\"] = []\n",
    "\n",
    "\n",
    "for track_path in list(data_dir.glob(\"*\")):\n",
    "    files = sorted(list(track_path.glob(\"*\")), key=lambda x: int(x.parts[-1].split(\".\")[0]))[:PICK_MEDIUM]\n",
    "    if track_path.parts[-1] in medium_set:\n",
    "        config[\"traffic\"][\"train\"].extend([x.as_posix() for x in files])\n",
    "    elif track_path.parts[-1] in val_tracks:\n",
    "        config[\"traffic\"][\"val\"].extend([x.as_posix() for x in files])\n",
    "    elif track_path.parts[-1] in test_tracks:\n",
    "        config[\"traffic\"][\"test\"].extend([x.as_posix() for x in files])\n",
    "\n",
    "with open(\"medium_train.json\", \"w\") as fp:\n",
    "    json.dump(config, fp)"
   ]
  },
  {
   "cell_type": "code",
   "execution_count": 28,
   "id": "d02bd18c-5e86-41d7-bc87-473790e96a74",
   "metadata": {},
   "outputs": [],
   "source": [
    "# Large config\n",
    "config = {}\n",
    "config[\"empty\"] = {}\n",
    "config[\"empty\"][\"train\"] = [x.as_posix() for x in sorted(list(empty_data_dir.glob(\"*/*\")), key=lambda x: x.parts[-1]) if x.parts[-2] in large_set]\n",
    "config[\"empty\"][\"val\"] = [x.as_posix() for x in sorted(list(empty_data_dir.glob(\"*/*\")), key=lambda x: x.parts[-1]) if x.parts[-2] in val_tracks]\n",
    "config[\"empty\"][\"test\"] = [x.as_posix() for x in sorted(list(empty_data_dir.glob(\"*/*\")), key=lambda x: x.parts[-1]) if x.parts[-2] in test_tracks]\n",
    "\n",
    "config[\"traffic\"] = {}\n",
    "config[\"traffic\"][\"train\"] = []\n",
    "config[\"traffic\"][\"val\"] = []\n",
    "config[\"traffic\"][\"test\"] = []\n",
    "\n",
    "\n",
    "for track_path in list(data_dir.glob(\"*\")):\n",
    "    files = sorted(list(track_path.glob(\"*\")), key=lambda x: int(x.parts[-1].split(\".\")[0]))[:PICK_LARGE]\n",
    "    if track_path.parts[-1] in large_set:\n",
    "        config[\"traffic\"][\"train\"].extend([x.as_posix() for x in files])\n",
    "    elif track_path.parts[-1] in val_tracks:\n",
    "        config[\"traffic\"][\"val\"].extend([x.as_posix() for x in files])\n",
    "    elif track_path.parts[-1] in test_tracks:\n",
    "        config[\"traffic\"][\"test\"].extend([x.as_posix() for x in files])\n",
    "\n",
    "with open(\"large_train.json\", \"w\") as fp:\n",
    "    json.dump(config, fp)"
   ]
  }
 ],
 "metadata": {
  "kernelspec": {
   "display_name": "Python 3 (ipykernel)",
   "language": "python",
   "name": "python3"
  },
  "language_info": {
   "codemirror_mode": {
    "name": "ipython",
    "version": 3
   },
   "file_extension": ".py",
   "mimetype": "text/x-python",
   "name": "python",
   "nbconvert_exporter": "python",
   "pygments_lexer": "ipython3",
   "version": "3.9.16"
  }
 },
 "nbformat": 4,
 "nbformat_minor": 5
}

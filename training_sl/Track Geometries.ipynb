{
 "cells": [
  {
   "cell_type": "code",
   "execution_count": 19,
   "id": "b0357367",
   "metadata": {},
   "outputs": [],
   "source": [
    "import numpy as np\n",
    "import math\n",
    "import pandas as pd\n",
    "import pickle\n",
    "from pathlib import Path\n",
    "\n",
    "import matplotlib.pyplot as plt"
   ]
  },
  {
   "cell_type": "code",
   "execution_count": 22,
   "id": "881f2974",
   "metadata": {},
   "outputs": [],
   "source": [
    "RAD_PER_DEG = math.pi / 180.0\n",
    "DEG_PER_RAD = 1.0 / RAD_PER_DEG"
   ]
  },
  {
   "cell_type": "code",
   "execution_count": 4,
   "id": "9bc8c9c5",
   "metadata": {},
   "outputs": [],
   "source": [
    "def load_data(path=\"../../torcs_SL/data_complete_notraffic/data/\"):\n",
    "    train_files = []\n",
    "    val_files = []\n",
    "\n",
    "    path = Path(path)\n",
    "    track_dirs = list(path.glob(\"*\"))\n",
    "    \n",
    "    data_frames = {}\n",
    "    for track_dir in track_dirs:\n",
    "        \n",
    "        data_frames[track_dir.parts[-1]] = pd.read_csv(track_dir.joinpath(\"1.csv\"))\n",
    "        \n",
    "    return data_frames"
   ]
  },
  {
   "cell_type": "code",
   "execution_count": 5,
   "id": "569e9a61",
   "metadata": {},
   "outputs": [],
   "source": [
    "data = load_data()"
   ]
  },
  {
   "cell_type": "code",
   "execution_count": 14,
   "id": "c033d6b8",
   "metadata": {},
   "outputs": [],
   "source": [
    "pi_tracks = ['g-track-1', 'g-track-2', 'g-track-3', 'spring']\n",
    "dnn_l_tracks = ['a-speedway','aalborg','alpine-1','b-speedway','brondehach','c-speedway','d-speedway','e-speedway','e-track-4','e-track-5','e-track-6','eroad','f-speedway','forza','g-speedway','g-track-1','g-track-2','g-track-3','michigan','spring','street-1','wheel-1']\n",
    "\n",
    "dnn_m_tracks = ['aalborg', 'alpine-1','c-speedway','e-speedway','e-track-4','e-track-5','forza','g-track-1','g-track-2','g-track-3','spring','street-1','wheel-1']\n",
    "\n",
    "dnn_s_tracks = ['g-track-1', 'g-track-2', 'g-track-3', 'g-track-4', 'spring']\n"
   ]
  }
 ],
 "metadata": {
  "kernelspec": {
   "display_name": "Python 3 (ipykernel)",
   "language": "python",
   "name": "python3"
  },
  "language_info": {
   "codemirror_mode": {
    "name": "ipython",
    "version": 3
   },
   "file_extension": ".py",
   "mimetype": "text/x-python",
   "name": "python",
   "nbconvert_exporter": "python",
   "pygments_lexer": "ipython3",
   "version": "3.9.16"
  }
 },
 "nbformat": 4,
 "nbformat_minor": 5
}

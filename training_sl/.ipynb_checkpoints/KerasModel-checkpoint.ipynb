{
 "cells": [
  {
   "cell_type": "code",
   "execution_count": 36,
   "metadata": {},
   "outputs": [],
   "source": [
    "import numpy as np\n",
    "import pandas as pd\n",
    "from sklearn.preprocessing import StandardScaler\n",
    "from tensorflow.keras.models import Sequential\n",
    "from tensorflow.keras.layers import Dense, Activation, Flatten\n",
    "from tensorflow.keras.optimizers import Adam\n",
    "from tensorflow.keras.models import load_model\n",
    "import os\n",
    "import gc\n",
    "from pathlib import Path"
   ]
  },
  {
   "cell_type": "code",
   "execution_count": 37,
   "metadata": {
    "scrolled": true
   },
   "outputs": [
    {
     "data": {
      "text/plain": [
       "[PosixPath('TORCS_DATA/data/g-track-1/18.csv'),\n",
       " PosixPath('TORCS_DATA/data/g-track-1/2.csv'),\n",
       " PosixPath('TORCS_DATA/data/g-track-1/22.csv'),\n",
       " PosixPath('TORCS_DATA/data/g-track-1/24.csv'),\n",
       " PosixPath('TORCS_DATA/data/g-track-1/25.csv'),\n",
       " PosixPath('TORCS_DATA/data/g-track-1/14.csv'),\n",
       " PosixPath('TORCS_DATA/data/g-track-1/6.csv'),\n",
       " PosixPath('TORCS_DATA/data/g-track-1/21.csv'),\n",
       " PosixPath('TORCS_DATA/data/g-track-1/3.csv'),\n",
       " PosixPath('TORCS_DATA/data/g-track-1/23.csv'),\n",
       " PosixPath('TORCS_DATA/data/g-track-1/8.csv'),\n",
       " PosixPath('TORCS_DATA/data/g-track-1/27.csv'),\n",
       " PosixPath('TORCS_DATA/data/g-track-1/10.csv'),\n",
       " PosixPath('TORCS_DATA/data/g-track-1/9.csv'),\n",
       " PosixPath('TORCS_DATA/data/g-track-1/5.csv'),\n",
       " PosixPath('TORCS_DATA/data/g-track-1/16.csv'),\n",
       " PosixPath('TORCS_DATA/data/g-track-1/4.csv'),\n",
       " PosixPath('TORCS_DATA/data/g-track-1/17.csv'),\n",
       " PosixPath('TORCS_DATA/data/g-track-1/29.csv'),\n",
       " PosixPath('TORCS_DATA/data/g-track-1/26.csv'),\n",
       " PosixPath('TORCS_DATA/data/g-track-1/1.csv'),\n",
       " PosixPath('TORCS_DATA/data/g-track-1/12.csv'),\n",
       " PosixPath('TORCS_DATA/data/g-track-1/7.csv'),\n",
       " PosixPath('TORCS_DATA/data/g-track-1/19.csv'),\n",
       " PosixPath('TORCS_DATA/data/g-track-1/11.csv'),\n",
       " PosixPath('TORCS_DATA/data/g-track-1/20.csv'),\n",
       " PosixPath('TORCS_DATA/data/g-track-1/30.csv'),\n",
       " PosixPath('TORCS_DATA/data/g-track-1/15.csv'),\n",
       " PosixPath('TORCS_DATA/data/g-track-1/28.csv'),\n",
       " PosixPath('TORCS_DATA/data/g-track-1/13.csv')]"
      ]
     },
     "execution_count": 37,
     "metadata": {},
     "output_type": "execute_result"
    }
   ],
   "source": [
    "train_files = []\n",
    "val_files = []\n",
    "\n",
    "path = Path(\"TORCS_DATA/data\")\n",
    "track_dirs = list(path.glob(\"*\"))\n",
    "track_dirs = [Path('TORCS_DATA/data/g-track-1')]\n",
    "track_files = list(track_dirs[0].glob(\"*.csv\"))\n",
    "track_files"
   ]
  },
  {
   "cell_type": "code",
   "execution_count": 38,
   "metadata": {},
   "outputs": [],
   "source": [
    "training_data = pd.DataFrame()\n",
    "validation_data = pd.DataFrame()\n",
    "split_ratio = 0.8\n",
    "\n",
    "for fi in track_files[:int(split_ratio * len(track_files))]:\n",
    "    training_data = pd.concat([training_data, pd.read_csv(fi)]).reset_index(drop=True)\n",
    "\n",
    "for fi in track_files[int(split_ratio * len(track_files)):]:\n",
    "    validation_data = pd.concat([validation_data, pd.read_csv(fi)]).reset_index(drop=True)"
   ]
  },
  {
   "cell_type": "code",
   "execution_count": 39,
   "metadata": {},
   "outputs": [
    {
     "name": "stdout",
     "output_type": "stream",
     "text": [
      "(160564, 79)\n",
      "(40766, 79)\n"
     ]
    }
   ],
   "source": [
    "print (training_data.shape)\n",
    "print (validation_data.shape)"
   ]
  },
  {
   "cell_type": "code",
   "execution_count": 40,
   "metadata": {},
   "outputs": [
    {
     "data": {
      "text/plain": [
       "array(['Angle', ' CurrentLapTime', ' Damage', ' DistanceFromStart',\n",
       "       ' DistanceCovered', ' FuelLevel', ' Gear', ' LastLapTime',\n",
       "       ' Opponent_1', 'Opponent_2', 'Opponent_3', 'Opponent_4',\n",
       "       'Opponent_5', 'Opponent_6', 'Opponent_7', 'Opponent_8',\n",
       "       'Opponent_9', 'Opponent_10', 'Opponent_11', 'Opponent_12',\n",
       "       'Opponent_13', 'Opponent_14', 'Opponent_15', 'Opponent_16',\n",
       "       'Opponent_17', 'Opponent_18', 'Opponent_19', 'Opponent_20',\n",
       "       'Opponent_21', 'Opponent_22', 'Opponent_23', 'Opponent_24',\n",
       "       'Opponent_25', 'Opponent_26', 'Opponent_27', 'Opponent_28',\n",
       "       'Opponent_29', 'Opponent_30', 'Opponent_31', 'Opponent_32',\n",
       "       'Opponent_33', 'Opponent_34', 'Opponent_35', 'Opponent_36',\n",
       "       'RacePosition', ' RPM', ' SpeedX', ' SpeedY', ' SpeedZ',\n",
       "       ' Track_1', 'Track_2', 'Track_3', 'Track_4', 'Track_5', 'Track_6',\n",
       "       'Track_7', 'Track_8', 'Track_9', 'Track_10', 'Track_11',\n",
       "       'Track_12', 'Track_13', 'Track_14', 'Track_15', 'Track_16',\n",
       "       'Track_17', 'Track_18', 'Track_19', 'TrackPosition',\n",
       "       ' WheelSpinVelocity_1', 'WheelSpinVelocity_2',\n",
       "       'WheelSpinVelocity_3', 'WheelSpinVelocity_4', 'Z', ' Acceleration',\n",
       "       'Braking', 'Clutch', 'Gear', 'Steering'], dtype=object)"
      ]
     },
     "execution_count": 40,
     "metadata": {},
     "output_type": "execute_result"
    }
   ],
   "source": [
    "training_data.columns.values"
   ]
  },
  {
   "cell_type": "code",
   "execution_count": 41,
   "metadata": {},
   "outputs": [],
   "source": [
    "del training_data['Gear']\n",
    "del validation_data['Gear']\n",
    "del training_data[' CurrentLapTime']\n",
    "del validation_data[' CurrentLapTime']\n",
    "del training_data[' LastLapTime']\n",
    "del validation_data[' LastLapTime']\n",
    "del training_data[' Damage']\n",
    "del validation_data[' Damage']\n",
    "del training_data[' FuelLevel']\n",
    "del validation_data[' FuelLevel']\n",
    "\n",
    "del training_data[' DistanceFromStart']\n",
    "del validation_data[' DistanceFromStart']"
   ]
  },
  {
   "cell_type": "raw",
   "metadata": {},
   "source": [
    "train_indices=np.arange(0,training_data.shape[0],3)\n",
    "val_indices=np.arange(0,validation_data.shape[0],2)"
   ]
  },
  {
   "cell_type": "raw",
   "metadata": {},
   "source": [
    "training_data=training_data.iloc[train_indices]\n",
    "validation_data=validation_data.iloc[val_indices]"
   ]
  },
  {
   "cell_type": "code",
   "execution_count": 42,
   "metadata": {},
   "outputs": [
    {
     "name": "stdout",
     "output_type": "stream",
     "text": [
      "(160564, 73)\n",
      "(40766, 73)\n"
     ]
    }
   ],
   "source": [
    "print (training_data.shape)\n",
    "print (validation_data.shape)"
   ]
  },
  {
   "cell_type": "code",
   "execution_count": 43,
   "metadata": {},
   "outputs": [
    {
     "data": {
      "text/plain": [
       "Index(['Angle', ' DistanceCovered', ' Gear', ' Opponent_1', 'Opponent_2',\n",
       "       'Opponent_3', 'Opponent_4', 'Opponent_5', 'Opponent_6', 'Opponent_7',\n",
       "       'Opponent_8', 'Opponent_9', 'Opponent_10', 'Opponent_11', 'Opponent_12',\n",
       "       'Opponent_13', 'Opponent_14', 'Opponent_15', 'Opponent_16',\n",
       "       'Opponent_17', 'Opponent_18', 'Opponent_19', 'Opponent_20',\n",
       "       'Opponent_21', 'Opponent_22', 'Opponent_23', 'Opponent_24',\n",
       "       'Opponent_25', 'Opponent_26', 'Opponent_27', 'Opponent_28',\n",
       "       'Opponent_29', 'Opponent_30', 'Opponent_31', 'Opponent_32',\n",
       "       'Opponent_33', 'Opponent_34', 'Opponent_35', 'Opponent_36',\n",
       "       'RacePosition', ' RPM', ' SpeedX', ' SpeedY', ' SpeedZ', ' Track_1',\n",
       "       'Track_2', 'Track_3', 'Track_4', 'Track_5', 'Track_6', 'Track_7',\n",
       "       'Track_8', 'Track_9', 'Track_10', 'Track_11', 'Track_12', 'Track_13',\n",
       "       'Track_14', 'Track_15', 'Track_16', 'Track_17', 'Track_18', 'Track_19',\n",
       "       'TrackPosition', ' WheelSpinVelocity_1', 'WheelSpinVelocity_2',\n",
       "       'WheelSpinVelocity_3', 'WheelSpinVelocity_4', 'Z', ' Acceleration',\n",
       "       'Braking', 'Clutch', 'Steering'],\n",
       "      dtype='object')"
      ]
     },
     "execution_count": 43,
     "metadata": {},
     "output_type": "execute_result"
    }
   ],
   "source": [
    "training_data.columns"
   ]
  },
  {
   "cell_type": "code",
   "execution_count": 44,
   "metadata": {},
   "outputs": [],
   "source": [
    "X_train=training_data.loc[:,'Angle':'Z']\n",
    "Y_train=training_data.loc[:,' Acceleration':'Steering']\n",
    "X_val=validation_data.loc[:,'Angle':'Z']\n",
    "Y_val=validation_data.loc[:,' Acceleration':'Steering']"
   ]
  },
  {
   "cell_type": "code",
   "execution_count": 45,
   "metadata": {},
   "outputs": [
    {
     "data": {
      "text/plain": [
       "Index(['Angle', ' DistanceCovered', ' Gear', ' Opponent_1', 'Opponent_2',\n",
       "       'Opponent_3', 'Opponent_4', 'Opponent_5', 'Opponent_6', 'Opponent_7',\n",
       "       'Opponent_8', 'Opponent_9', 'Opponent_10', 'Opponent_11', 'Opponent_12',\n",
       "       'Opponent_13', 'Opponent_14', 'Opponent_15', 'Opponent_16',\n",
       "       'Opponent_17', 'Opponent_18', 'Opponent_19', 'Opponent_20',\n",
       "       'Opponent_21', 'Opponent_22', 'Opponent_23', 'Opponent_24',\n",
       "       'Opponent_25', 'Opponent_26', 'Opponent_27', 'Opponent_28',\n",
       "       'Opponent_29', 'Opponent_30', 'Opponent_31', 'Opponent_32',\n",
       "       'Opponent_33', 'Opponent_34', 'Opponent_35', 'Opponent_36',\n",
       "       'RacePosition', ' RPM', ' SpeedX', ' SpeedY', ' SpeedZ', ' Track_1',\n",
       "       'Track_2', 'Track_3', 'Track_4', 'Track_5', 'Track_6', 'Track_7',\n",
       "       'Track_8', 'Track_9', 'Track_10', 'Track_11', 'Track_12', 'Track_13',\n",
       "       'Track_14', 'Track_15', 'Track_16', 'Track_17', 'Track_18', 'Track_19',\n",
       "       'TrackPosition', ' WheelSpinVelocity_1', 'WheelSpinVelocity_2',\n",
       "       'WheelSpinVelocity_3', 'WheelSpinVelocity_4', 'Z', ' Acceleration',\n",
       "       'Braking', 'Clutch', 'Steering'],\n",
       "      dtype='object')"
      ]
     },
     "execution_count": 45,
     "metadata": {},
     "output_type": "execute_result"
    }
   ],
   "source": [
    "training_data.columns"
   ]
  },
  {
   "cell_type": "code",
   "execution_count": 46,
   "metadata": {},
   "outputs": [
    {
     "name": "stdout",
     "output_type": "stream",
     "text": [
      "(160564, 69)\n",
      "(160564, 4)\n",
      "(40766, 69)\n",
      "(40766, 4)\n",
      "(160564, 69)\n",
      "(160564, 4)\n",
      "(40766, 69)\n",
      "(40766, 4)\n"
     ]
    }
   ],
   "source": [
    "print (X_train.shape)\n",
    "print (Y_train.shape)\n",
    "print (X_val.shape)\n",
    "print (Y_val.shape)\n",
    "scaler = StandardScaler()\n",
    "X_train=scaler.fit_transform(X_train)\n",
    "X_val=scaler.fit_transform(X_val)\n",
    "Y_train=Y_train.values\n",
    "Y_val=Y_val.values\n",
    "print (X_train.shape)\n",
    "print (Y_train.shape)\n",
    "print (X_val.shape)\n",
    "print (Y_val.shape)"
   ]
  },
  {
   "cell_type": "markdown",
   "metadata": {},
   "source": [
    "# ## Save these means and stds for test time"
   ]
  },
  {
   "cell_type": "code",
   "execution_count": 47,
   "metadata": {},
   "outputs": [
    {
     "data": {
      "text/plain": [
       "array([ 2.02625755e-02,  3.15317342e+03,  3.27388019e+00,  1.61577401e+02,\n",
       "        1.75182957e+02,  1.83531812e+02,  1.89352535e+02,  1.91837517e+02,\n",
       "        1.94269840e+02,  1.96136894e+02,  1.96937010e+02,  1.97718388e+02,\n",
       "        1.98118852e+02,  1.98717385e+02,  1.99362695e+02,  1.98748438e+02,\n",
       "        1.97527704e+02,  1.93767180e+02,  1.88148794e+02,  1.85693213e+02,\n",
       "        1.77779790e+02,  1.80429091e+02,  1.81989686e+02,  1.95934944e+02,\n",
       "        1.98372898e+02,  1.99651149e+02,  1.99663520e+02,  1.99688334e+02,\n",
       "        1.99554213e+02,  1.99663561e+02,  1.99319980e+02,  1.99217963e+02,\n",
       "        1.99215520e+02,  1.98831993e+02,  1.98161471e+02,  1.96079510e+02,\n",
       "        1.92142778e+02,  1.75915728e+02,  1.65586838e+02,  3.44900162e+00,\n",
       "        7.88983188e+03,  1.58710015e+02, -1.29992235e+00,  1.21595828e-02,\n",
       "        6.32623070e+00,  6.47549685e+00,  8.05892937e+00,  1.08419023e+01,\n",
       "        2.12454419e+01,  3.17275694e+01,  4.62051799e+01,  7.30170281e+01,\n",
       "        9.31835887e+01,  9.28076243e+01,  9.12723521e+01,  7.05050648e+01,\n",
       "        5.26636072e+01,  2.87955534e+01,  2.28100489e+01,  1.49566586e+01,\n",
       "        1.15640614e+01,  9.16657221e+00,  8.79421277e+00,  1.55178488e-01,\n",
       "        1.32482687e+02,  1.31585039e+02,  1.37021942e+02,  1.36589798e+02,\n",
       "        3.29372310e-01])"
      ]
     },
     "execution_count": 47,
     "metadata": {},
     "output_type": "execute_result"
    }
   ],
   "source": [
    "scaler.mean_"
   ]
  },
  {
   "cell_type": "code",
   "execution_count": 48,
   "metadata": {},
   "outputs": [
    {
     "data": {
      "text/plain": [
       "array([3.78810785e-01, 1.96508851e+03, 1.00485901e+00, 6.49993761e+01,\n",
       "       5.58172349e+01, 4.45882121e+01, 3.45710121e+01, 2.62436154e+01,\n",
       "       2.07193298e+01, 1.69799628e+01, 1.48212079e+01, 1.25440381e+01,\n",
       "       1.10282561e+01, 8.61574719e+00, 7.25047657e+00, 1.06531600e+01,\n",
       "       1.57202202e+01, 2.68693274e+01, 3.81732843e+01, 4.28436592e+01,\n",
       "       5.16397827e+01, 4.60487048e+01, 5.00026311e+01, 2.58938384e+01,\n",
       "       1.71689300e+01, 8.10072793e+00, 7.92958908e+00, 7.57525632e+00,\n",
       "       8.61046107e+00, 7.93927059e+00, 1.12659153e+01, 1.21734819e+01,\n",
       "       1.16879520e+01, 1.38226159e+01, 1.79740505e+01, 2.57486827e+01,\n",
       "       3.54850016e+01, 5.69889373e+01, 6.25639406e+01, 2.18020892e+00,\n",
       "       1.28015382e+03, 5.14490475e+01, 4.83123938e+00, 4.22516748e+00,\n",
       "       4.02925930e+00, 3.68157026e+00, 4.35585437e+00, 6.30039588e+00,\n",
       "       1.74870482e+01, 2.39925299e+01, 2.60983311e+01, 3.90505449e+01,\n",
       "       6.06983829e+01, 5.98211773e+01, 5.84112635e+01, 3.99977771e+01,\n",
       "       3.46788640e+01, 9.82854929e+00, 7.07807829e+00, 6.19367268e+00,\n",
       "       5.27700802e+00, 4.07101579e+00, 3.61769290e+00, 4.21578415e-01,\n",
       "       4.28684854e+01, 4.36923882e+01, 4.35036332e+01, 4.39249530e+01,\n",
       "       1.00314422e-02])"
      ]
     },
     "execution_count": 48,
     "metadata": {},
     "output_type": "execute_result"
    }
   ],
   "source": [
    "scaler.scale_"
   ]
  },
  {
   "cell_type": "code",
   "execution_count": 56,
   "metadata": {},
   "outputs": [],
   "source": [
    "np.save(\"KerasModels/means.npy\", scaler.mean_)\n",
    "np.save(\"KerasModels/stds.npy\", scaler.scale_)"
   ]
  },
  {
   "cell_type": "code",
   "execution_count": 59,
   "metadata": {},
   "outputs": [
    {
     "data": {
      "text/plain": [
       "((69,), (69,))"
      ]
     },
     "execution_count": 59,
     "metadata": {},
     "output_type": "execute_result"
    }
   ],
   "source": [
    "scaler.mean_.shape, scaler.scale_.shape\n"
   ]
  },
  {
   "cell_type": "code",
   "execution_count": 50,
   "metadata": {},
   "outputs": [
    {
     "name": "stdout",
     "output_type": "stream",
     "text": [
      "WARNING:tensorflow:`epsilon` argument is deprecated and will be removed, use `min_delta` instead.\n"
     ]
    }
   ],
   "source": [
    "from tensorflow.keras.callbacks import ReduceLROnPlateau\n",
    "reduce_lr = ReduceLROnPlateau(monitor='val_loss', factor=0.1,\n",
    "                              patience=3,epsilon=0.0003, min_lr=0)"
   ]
  },
  {
   "cell_type": "raw",
   "metadata": {},
   "source": [
    "np.where(np.isnan(Y_train)==True)"
   ]
  },
  {
   "cell_type": "raw",
   "metadata": {},
   "source": [
    "#If nans found in this slot, uncomment this cell and run\n",
    "\n",
    "Y_train= np.delete(Y_train,2235044,axis=0)\n",
    "X_train =np.delete(X_train,2235044,axis=0)\n",
    "#Y_train= np.delete(Y_train,2235044,axis=0)\n",
    "#X_train =np.delete(X_train,2235044,axis=0)\n"
   ]
  },
  {
   "cell_type": "code",
   "execution_count": 51,
   "metadata": {},
   "outputs": [
    {
     "name": "stdout",
     "output_type": "stream",
     "text": [
      "(160564, 69)\n"
     ]
    }
   ],
   "source": [
    "print (X_train.shape)"
   ]
  },
  {
   "cell_type": "code",
   "execution_count": 53,
   "metadata": {
    "scrolled": true
   },
   "outputs": [],
   "source": [
    "learning_rate=3e-3\n",
    "output_dim=Y_train.shape[1]\n",
    "model=Sequential()\n",
    "model.add(Dense(1024\n",
    "                ,input_shape=(X_train.shape[1],),activation='relu',kernel_initializer='he_normal'))\n",
    "model.add(Dense(512,activation='relu',kernel_initializer='he_normal'))\n",
    "model.add(Dense(256,activation='relu',kernel_initializer='he_normal'))\n",
    "model.add(Dense(128,activation='relu',kernel_initializer='he_normal'))\n",
    "model.add(Dense(64,activation='relu',kernel_initializer='he_normal'))\n",
    "model.add(Dense(32,activation='relu',kernel_initializer='he_normal'))\n",
    "model.add(Dense(16,activation='relu',kernel_initializer='he_normal'))\n",
    "model.add(Dense(8,activation='relu',kernel_initializer='he_normal'))\n",
    "model.add(Dense(4,kernel_initializer='he_normal'))\n",
    "model.compile(optimizer=Adam(learning_rate),loss='mean_squared_error',metrics=['mae'])\n"
   ]
  },
  {
   "cell_type": "code",
   "execution_count": 54,
   "metadata": {},
   "outputs": [
    {
     "name": "stdout",
     "output_type": "stream",
     "text": [
      "Epoch 1/500\n",
      "628/628 [==============================] - 3s 2ms/step - loss: 0.0344 - mae: 0.1006 - val_loss: 0.0241 - val_mae: 0.0812 - lr: 0.0030\n",
      "Epoch 2/500\n",
      "628/628 [==============================] - 1s 2ms/step - loss: 0.0187 - mae: 0.0698 - val_loss: 0.0216 - val_mae: 0.0719 - lr: 0.0030\n",
      "Epoch 3/500\n",
      "628/628 [==============================] - 1s 2ms/step - loss: 0.0168 - mae: 0.0642 - val_loss: 0.0197 - val_mae: 0.0651 - lr: 0.0030\n",
      "Epoch 4/500\n",
      "628/628 [==============================] - 1s 2ms/step - loss: 0.0147 - mae: 0.0582 - val_loss: 0.0173 - val_mae: 0.0613 - lr: 0.0030\n",
      "Epoch 5/500\n",
      "628/628 [==============================] - 1s 2ms/step - loss: 0.0113 - mae: 0.0508 - val_loss: 0.0115 - val_mae: 0.0525 - lr: 0.0030\n",
      "Epoch 6/500\n",
      "628/628 [==============================] - 1s 2ms/step - loss: 0.0084 - mae: 0.0472 - val_loss: 0.0099 - val_mae: 0.0506 - lr: 0.0030\n",
      "Epoch 7/500\n",
      "628/628 [==============================] - 1s 2ms/step - loss: 0.0073 - mae: 0.0441 - val_loss: 0.0086 - val_mae: 0.0453 - lr: 0.0030\n",
      "Epoch 8/500\n",
      "628/628 [==============================] - 1s 2ms/step - loss: 0.0067 - mae: 0.0406 - val_loss: 0.0085 - val_mae: 0.0429 - lr: 0.0030\n",
      "Epoch 9/500\n",
      "628/628 [==============================] - 1s 2ms/step - loss: 0.0064 - mae: 0.0374 - val_loss: 0.0082 - val_mae: 0.0379 - lr: 0.0030\n",
      "Epoch 10/500\n",
      "628/628 [==============================] - 1s 2ms/step - loss: 0.0062 - mae: 0.0355 - val_loss: 0.0078 - val_mae: 0.0386 - lr: 0.0030\n",
      "Epoch 11/500\n",
      "628/628 [==============================] - 1s 2ms/step - loss: 0.0059 - mae: 0.0329 - val_loss: 0.0076 - val_mae: 0.0359 - lr: 0.0030\n",
      "Epoch 12/500\n",
      "628/628 [==============================] - 1s 2ms/step - loss: 0.0055 - mae: 0.0309 - val_loss: 0.0075 - val_mae: 0.0320 - lr: 0.0030\n",
      "Epoch 13/500\n",
      "628/628 [==============================] - 1s 2ms/step - loss: 0.0055 - mae: 0.0306 - val_loss: 0.0069 - val_mae: 0.0374 - lr: 0.0030\n",
      "Epoch 14/500\n",
      "628/628 [==============================] - 1s 2ms/step - loss: 0.0070 - mae: 0.0344 - val_loss: 0.0075 - val_mae: 0.0360 - lr: 0.0030\n",
      "Epoch 15/500\n",
      "628/628 [==============================] - 1s 2ms/step - loss: 0.0054 - mae: 0.0300 - val_loss: 0.0072 - val_mae: 0.0355 - lr: 0.0030\n",
      "Epoch 16/500\n",
      "628/628 [==============================] - 1s 2ms/step - loss: 0.0052 - mae: 0.0287 - val_loss: 0.0068 - val_mae: 0.0341 - lr: 0.0030\n",
      "Epoch 17/500\n",
      "628/628 [==============================] - 1s 2ms/step - loss: 0.0042 - mae: 0.0229 - val_loss: 0.0059 - val_mae: 0.0271 - lr: 3.0000e-04\n",
      "Epoch 18/500\n",
      "628/628 [==============================] - 1s 2ms/step - loss: 0.0039 - mae: 0.0217 - val_loss: 0.0057 - val_mae: 0.0271 - lr: 3.0000e-04\n",
      "Epoch 19/500\n",
      "628/628 [==============================] - 1s 2ms/step - loss: 0.0038 - mae: 0.0212 - val_loss: 0.0057 - val_mae: 0.0258 - lr: 3.0000e-04\n",
      "Epoch 20/500\n",
      "628/628 [==============================] - 1s 2ms/step - loss: 0.0038 - mae: 0.0208 - val_loss: 0.0057 - val_mae: 0.0268 - lr: 3.0000e-04\n",
      "Epoch 21/500\n",
      "628/628 [==============================] - 1s 2ms/step - loss: 0.0036 - mae: 0.0200 - val_loss: 0.0057 - val_mae: 0.0259 - lr: 3.0000e-05\n",
      "Epoch 22/500\n",
      "628/628 [==============================] - 1s 2ms/step - loss: 0.0036 - mae: 0.0199 - val_loss: 0.0056 - val_mae: 0.0259 - lr: 3.0000e-05\n",
      "Epoch 23/500\n",
      "628/628 [==============================] - 1s 2ms/step - loss: 0.0036 - mae: 0.0198 - val_loss: 0.0056 - val_mae: 0.0257 - lr: 3.0000e-05\n",
      "Epoch 24/500\n",
      "628/628 [==============================] - 1s 2ms/step - loss: 0.0036 - mae: 0.0196 - val_loss: 0.0056 - val_mae: 0.0257 - lr: 3.0000e-06\n",
      "Epoch 25/500\n",
      "628/628 [==============================] - 1s 2ms/step - loss: 0.0036 - mae: 0.0196 - val_loss: 0.0056 - val_mae: 0.0258 - lr: 3.0000e-06\n",
      "Epoch 26/500\n",
      "628/628 [==============================] - 1s 2ms/step - loss: 0.0036 - mae: 0.0197 - val_loss: 0.0056 - val_mae: 0.0258 - lr: 3.0000e-06\n",
      "Epoch 27/500\n",
      "628/628 [==============================] - 1s 2ms/step - loss: 0.0036 - mae: 0.0197 - val_loss: 0.0056 - val_mae: 0.0258 - lr: 3.0000e-07\n",
      "Epoch 28/500\n",
      "628/628 [==============================] - 1s 2ms/step - loss: 0.0036 - mae: 0.0196 - val_loss: 0.0056 - val_mae: 0.0258 - lr: 3.0000e-07\n",
      "Epoch 29/500\n",
      "628/628 [==============================] - 1s 2ms/step - loss: 0.0036 - mae: 0.0196 - val_loss: 0.0056 - val_mae: 0.0258 - lr: 3.0000e-07\n",
      "Epoch 30/500\n",
      "628/628 [==============================] - 1s 2ms/step - loss: 0.0036 - mae: 0.0196 - val_loss: 0.0056 - val_mae: 0.0258 - lr: 3.0000e-08\n",
      "Epoch 31/500\n",
      "173/628 [=======>......................] - ETA: 0s - loss: 0.0036 - mae: 0.0196"
     ]
    },
    {
     "ename": "KeyboardInterrupt",
     "evalue": "",
     "output_type": "error",
     "traceback": [
      "\u001b[0;31m---------------------------------------------------------------------------\u001b[0m",
      "\u001b[0;31mKeyboardInterrupt\u001b[0m                         Traceback (most recent call last)",
      "Cell \u001b[0;32mIn[54], line 1\u001b[0m\n\u001b[0;32m----> 1\u001b[0m \u001b[43mmodel\u001b[49m\u001b[38;5;241;43m.\u001b[39;49m\u001b[43mfit\u001b[49m\u001b[43m(\u001b[49m\u001b[43mX_train\u001b[49m\u001b[43m,\u001b[49m\u001b[43mY_train\u001b[49m\u001b[43m,\u001b[49m\u001b[43mvalidation_data\u001b[49m\u001b[38;5;241;43m=\u001b[39;49m\u001b[43m(\u001b[49m\u001b[43mX_val\u001b[49m\u001b[43m,\u001b[49m\u001b[43mY_val\u001b[49m\u001b[43m)\u001b[49m\u001b[43m,\u001b[49m\u001b[43mbatch_size\u001b[49m\u001b[38;5;241;43m=\u001b[39;49m\u001b[38;5;241;43m256\u001b[39;49m\u001b[43m,\u001b[49m\u001b[43mepochs\u001b[49m\u001b[38;5;241;43m=\u001b[39;49m\u001b[38;5;241;43m500\u001b[39;49m\u001b[43m,\u001b[49m\u001b[43m \u001b[49m\u001b[43mcallbacks\u001b[49m\u001b[38;5;241;43m=\u001b[39;49m\u001b[43m[\u001b[49m\u001b[43mreduce_lr\u001b[49m\u001b[43m]\u001b[49m\u001b[43m)\u001b[49m\n",
      "File \u001b[0;32m~/miniconda3/envs/tf/lib/python3.9/site-packages/keras/utils/traceback_utils.py:65\u001b[0m, in \u001b[0;36mfilter_traceback.<locals>.error_handler\u001b[0;34m(*args, **kwargs)\u001b[0m\n\u001b[1;32m     63\u001b[0m filtered_tb \u001b[38;5;241m=\u001b[39m \u001b[38;5;28;01mNone\u001b[39;00m\n\u001b[1;32m     64\u001b[0m \u001b[38;5;28;01mtry\u001b[39;00m:\n\u001b[0;32m---> 65\u001b[0m     \u001b[38;5;28;01mreturn\u001b[39;00m \u001b[43mfn\u001b[49m\u001b[43m(\u001b[49m\u001b[38;5;241;43m*\u001b[39;49m\u001b[43margs\u001b[49m\u001b[43m,\u001b[49m\u001b[43m \u001b[49m\u001b[38;5;241;43m*\u001b[39;49m\u001b[38;5;241;43m*\u001b[39;49m\u001b[43mkwargs\u001b[49m\u001b[43m)\u001b[49m\n\u001b[1;32m     66\u001b[0m \u001b[38;5;28;01mexcept\u001b[39;00m \u001b[38;5;167;01mException\u001b[39;00m \u001b[38;5;28;01mas\u001b[39;00m e:\n\u001b[1;32m     67\u001b[0m     filtered_tb \u001b[38;5;241m=\u001b[39m _process_traceback_frames(e\u001b[38;5;241m.\u001b[39m__traceback__)\n",
      "File \u001b[0;32m~/miniconda3/envs/tf/lib/python3.9/site-packages/keras/engine/training.py:1685\u001b[0m, in \u001b[0;36mModel.fit\u001b[0;34m(self, x, y, batch_size, epochs, verbose, callbacks, validation_split, validation_data, shuffle, class_weight, sample_weight, initial_epoch, steps_per_epoch, validation_steps, validation_batch_size, validation_freq, max_queue_size, workers, use_multiprocessing)\u001b[0m\n\u001b[1;32m   1677\u001b[0m \u001b[38;5;28;01mwith\u001b[39;00m tf\u001b[38;5;241m.\u001b[39mprofiler\u001b[38;5;241m.\u001b[39mexperimental\u001b[38;5;241m.\u001b[39mTrace(\n\u001b[1;32m   1678\u001b[0m     \u001b[38;5;124m\"\u001b[39m\u001b[38;5;124mtrain\u001b[39m\u001b[38;5;124m\"\u001b[39m,\n\u001b[1;32m   1679\u001b[0m     epoch_num\u001b[38;5;241m=\u001b[39mepoch,\n\u001b[0;32m   (...)\u001b[0m\n\u001b[1;32m   1682\u001b[0m     _r\u001b[38;5;241m=\u001b[39m\u001b[38;5;241m1\u001b[39m,\n\u001b[1;32m   1683\u001b[0m ):\n\u001b[1;32m   1684\u001b[0m     callbacks\u001b[38;5;241m.\u001b[39mon_train_batch_begin(step)\n\u001b[0;32m-> 1685\u001b[0m     tmp_logs \u001b[38;5;241m=\u001b[39m \u001b[38;5;28;43mself\u001b[39;49m\u001b[38;5;241;43m.\u001b[39;49m\u001b[43mtrain_function\u001b[49m\u001b[43m(\u001b[49m\u001b[43miterator\u001b[49m\u001b[43m)\u001b[49m\n\u001b[1;32m   1686\u001b[0m     \u001b[38;5;28;01mif\u001b[39;00m data_handler\u001b[38;5;241m.\u001b[39mshould_sync:\n\u001b[1;32m   1687\u001b[0m         context\u001b[38;5;241m.\u001b[39masync_wait()\n",
      "File \u001b[0;32m~/miniconda3/envs/tf/lib/python3.9/site-packages/tensorflow/python/util/traceback_utils.py:150\u001b[0m, in \u001b[0;36mfilter_traceback.<locals>.error_handler\u001b[0;34m(*args, **kwargs)\u001b[0m\n\u001b[1;32m    148\u001b[0m filtered_tb \u001b[38;5;241m=\u001b[39m \u001b[38;5;28;01mNone\u001b[39;00m\n\u001b[1;32m    149\u001b[0m \u001b[38;5;28;01mtry\u001b[39;00m:\n\u001b[0;32m--> 150\u001b[0m   \u001b[38;5;28;01mreturn\u001b[39;00m \u001b[43mfn\u001b[49m\u001b[43m(\u001b[49m\u001b[38;5;241;43m*\u001b[39;49m\u001b[43margs\u001b[49m\u001b[43m,\u001b[49m\u001b[43m \u001b[49m\u001b[38;5;241;43m*\u001b[39;49m\u001b[38;5;241;43m*\u001b[39;49m\u001b[43mkwargs\u001b[49m\u001b[43m)\u001b[49m\n\u001b[1;32m    151\u001b[0m \u001b[38;5;28;01mexcept\u001b[39;00m \u001b[38;5;167;01mException\u001b[39;00m \u001b[38;5;28;01mas\u001b[39;00m e:\n\u001b[1;32m    152\u001b[0m   filtered_tb \u001b[38;5;241m=\u001b[39m _process_traceback_frames(e\u001b[38;5;241m.\u001b[39m__traceback__)\n",
      "File \u001b[0;32m~/miniconda3/envs/tf/lib/python3.9/site-packages/tensorflow/python/eager/polymorphic_function/polymorphic_function.py:894\u001b[0m, in \u001b[0;36mFunction.__call__\u001b[0;34m(self, *args, **kwds)\u001b[0m\n\u001b[1;32m    891\u001b[0m compiler \u001b[38;5;241m=\u001b[39m \u001b[38;5;124m\"\u001b[39m\u001b[38;5;124mxla\u001b[39m\u001b[38;5;124m\"\u001b[39m \u001b[38;5;28;01mif\u001b[39;00m \u001b[38;5;28mself\u001b[39m\u001b[38;5;241m.\u001b[39m_jit_compile \u001b[38;5;28;01melse\u001b[39;00m \u001b[38;5;124m\"\u001b[39m\u001b[38;5;124mnonXla\u001b[39m\u001b[38;5;124m\"\u001b[39m\n\u001b[1;32m    893\u001b[0m \u001b[38;5;28;01mwith\u001b[39;00m OptionalXlaContext(\u001b[38;5;28mself\u001b[39m\u001b[38;5;241m.\u001b[39m_jit_compile):\n\u001b[0;32m--> 894\u001b[0m   result \u001b[38;5;241m=\u001b[39m \u001b[38;5;28;43mself\u001b[39;49m\u001b[38;5;241;43m.\u001b[39;49m\u001b[43m_call\u001b[49m\u001b[43m(\u001b[49m\u001b[38;5;241;43m*\u001b[39;49m\u001b[43margs\u001b[49m\u001b[43m,\u001b[49m\u001b[43m \u001b[49m\u001b[38;5;241;43m*\u001b[39;49m\u001b[38;5;241;43m*\u001b[39;49m\u001b[43mkwds\u001b[49m\u001b[43m)\u001b[49m\n\u001b[1;32m    896\u001b[0m new_tracing_count \u001b[38;5;241m=\u001b[39m \u001b[38;5;28mself\u001b[39m\u001b[38;5;241m.\u001b[39mexperimental_get_tracing_count()\n\u001b[1;32m    897\u001b[0m without_tracing \u001b[38;5;241m=\u001b[39m (tracing_count \u001b[38;5;241m==\u001b[39m new_tracing_count)\n",
      "File \u001b[0;32m~/miniconda3/envs/tf/lib/python3.9/site-packages/tensorflow/python/eager/polymorphic_function/polymorphic_function.py:926\u001b[0m, in \u001b[0;36mFunction._call\u001b[0;34m(self, *args, **kwds)\u001b[0m\n\u001b[1;32m    923\u001b[0m   \u001b[38;5;28mself\u001b[39m\u001b[38;5;241m.\u001b[39m_lock\u001b[38;5;241m.\u001b[39mrelease()\n\u001b[1;32m    924\u001b[0m   \u001b[38;5;66;03m# In this case we have created variables on the first call, so we run the\u001b[39;00m\n\u001b[1;32m    925\u001b[0m   \u001b[38;5;66;03m# defunned version which is guaranteed to never create variables.\u001b[39;00m\n\u001b[0;32m--> 926\u001b[0m   \u001b[38;5;28;01mreturn\u001b[39;00m \u001b[38;5;28;43mself\u001b[39;49m\u001b[38;5;241;43m.\u001b[39;49m\u001b[43m_no_variable_creation_fn\u001b[49m\u001b[43m(\u001b[49m\u001b[38;5;241;43m*\u001b[39;49m\u001b[43margs\u001b[49m\u001b[43m,\u001b[49m\u001b[43m \u001b[49m\u001b[38;5;241;43m*\u001b[39;49m\u001b[38;5;241;43m*\u001b[39;49m\u001b[43mkwds\u001b[49m\u001b[43m)\u001b[49m  \u001b[38;5;66;03m# pylint: disable=not-callable\u001b[39;00m\n\u001b[1;32m    927\u001b[0m \u001b[38;5;28;01melif\u001b[39;00m \u001b[38;5;28mself\u001b[39m\u001b[38;5;241m.\u001b[39m_variable_creation_fn \u001b[38;5;129;01mis\u001b[39;00m \u001b[38;5;129;01mnot\u001b[39;00m \u001b[38;5;28;01mNone\u001b[39;00m:\n\u001b[1;32m    928\u001b[0m   \u001b[38;5;66;03m# Release the lock early so that multiple threads can perform the call\u001b[39;00m\n\u001b[1;32m    929\u001b[0m   \u001b[38;5;66;03m# in parallel.\u001b[39;00m\n\u001b[1;32m    930\u001b[0m   \u001b[38;5;28mself\u001b[39m\u001b[38;5;241m.\u001b[39m_lock\u001b[38;5;241m.\u001b[39mrelease()\n",
      "File \u001b[0;32m~/miniconda3/envs/tf/lib/python3.9/site-packages/tensorflow/python/eager/polymorphic_function/tracing_compiler.py:143\u001b[0m, in \u001b[0;36mTracingCompiler.__call__\u001b[0;34m(self, *args, **kwargs)\u001b[0m\n\u001b[1;32m    140\u001b[0m \u001b[38;5;28;01mwith\u001b[39;00m \u001b[38;5;28mself\u001b[39m\u001b[38;5;241m.\u001b[39m_lock:\n\u001b[1;32m    141\u001b[0m   (concrete_function,\n\u001b[1;32m    142\u001b[0m    filtered_flat_args) \u001b[38;5;241m=\u001b[39m \u001b[38;5;28mself\u001b[39m\u001b[38;5;241m.\u001b[39m_maybe_define_function(args, kwargs)\n\u001b[0;32m--> 143\u001b[0m \u001b[38;5;28;01mreturn\u001b[39;00m \u001b[43mconcrete_function\u001b[49m\u001b[38;5;241;43m.\u001b[39;49m\u001b[43m_call_flat\u001b[49m\u001b[43m(\u001b[49m\n\u001b[1;32m    144\u001b[0m \u001b[43m    \u001b[49m\u001b[43mfiltered_flat_args\u001b[49m\u001b[43m,\u001b[49m\u001b[43m \u001b[49m\u001b[43mcaptured_inputs\u001b[49m\u001b[38;5;241;43m=\u001b[39;49m\u001b[43mconcrete_function\u001b[49m\u001b[38;5;241;43m.\u001b[39;49m\u001b[43mcaptured_inputs\u001b[49m\u001b[43m)\u001b[49m\n",
      "File \u001b[0;32m~/miniconda3/envs/tf/lib/python3.9/site-packages/tensorflow/python/eager/polymorphic_function/monomorphic_function.py:1757\u001b[0m, in \u001b[0;36mConcreteFunction._call_flat\u001b[0;34m(self, args, captured_inputs, cancellation_manager)\u001b[0m\n\u001b[1;32m   1753\u001b[0m possible_gradient_type \u001b[38;5;241m=\u001b[39m gradients_util\u001b[38;5;241m.\u001b[39mPossibleTapeGradientTypes(args)\n\u001b[1;32m   1754\u001b[0m \u001b[38;5;28;01mif\u001b[39;00m (possible_gradient_type \u001b[38;5;241m==\u001b[39m gradients_util\u001b[38;5;241m.\u001b[39mPOSSIBLE_GRADIENT_TYPES_NONE\n\u001b[1;32m   1755\u001b[0m     \u001b[38;5;129;01mand\u001b[39;00m executing_eagerly):\n\u001b[1;32m   1756\u001b[0m   \u001b[38;5;66;03m# No tape is watching; skip to running the function.\u001b[39;00m\n\u001b[0;32m-> 1757\u001b[0m   \u001b[38;5;28;01mreturn\u001b[39;00m \u001b[38;5;28mself\u001b[39m\u001b[38;5;241m.\u001b[39m_build_call_outputs(\u001b[38;5;28;43mself\u001b[39;49m\u001b[38;5;241;43m.\u001b[39;49m\u001b[43m_inference_function\u001b[49m\u001b[38;5;241;43m.\u001b[39;49m\u001b[43mcall\u001b[49m\u001b[43m(\u001b[49m\n\u001b[1;32m   1758\u001b[0m \u001b[43m      \u001b[49m\u001b[43mctx\u001b[49m\u001b[43m,\u001b[49m\u001b[43m \u001b[49m\u001b[43margs\u001b[49m\u001b[43m,\u001b[49m\u001b[43m \u001b[49m\u001b[43mcancellation_manager\u001b[49m\u001b[38;5;241;43m=\u001b[39;49m\u001b[43mcancellation_manager\u001b[49m\u001b[43m)\u001b[49m)\n\u001b[1;32m   1759\u001b[0m forward_backward \u001b[38;5;241m=\u001b[39m \u001b[38;5;28mself\u001b[39m\u001b[38;5;241m.\u001b[39m_select_forward_and_backward_functions(\n\u001b[1;32m   1760\u001b[0m     args,\n\u001b[1;32m   1761\u001b[0m     possible_gradient_type,\n\u001b[1;32m   1762\u001b[0m     executing_eagerly)\n\u001b[1;32m   1763\u001b[0m forward_function, args_with_tangents \u001b[38;5;241m=\u001b[39m forward_backward\u001b[38;5;241m.\u001b[39mforward()\n",
      "File \u001b[0;32m~/miniconda3/envs/tf/lib/python3.9/site-packages/tensorflow/python/eager/polymorphic_function/monomorphic_function.py:381\u001b[0m, in \u001b[0;36m_EagerDefinedFunction.call\u001b[0;34m(self, ctx, args, cancellation_manager)\u001b[0m\n\u001b[1;32m    379\u001b[0m \u001b[38;5;28;01mwith\u001b[39;00m _InterpolateFunctionError(\u001b[38;5;28mself\u001b[39m):\n\u001b[1;32m    380\u001b[0m   \u001b[38;5;28;01mif\u001b[39;00m cancellation_manager \u001b[38;5;129;01mis\u001b[39;00m \u001b[38;5;28;01mNone\u001b[39;00m:\n\u001b[0;32m--> 381\u001b[0m     outputs \u001b[38;5;241m=\u001b[39m \u001b[43mexecute\u001b[49m\u001b[38;5;241;43m.\u001b[39;49m\u001b[43mexecute\u001b[49m\u001b[43m(\u001b[49m\n\u001b[1;32m    382\u001b[0m \u001b[43m        \u001b[49m\u001b[38;5;28;43mstr\u001b[39;49m\u001b[43m(\u001b[49m\u001b[38;5;28;43mself\u001b[39;49m\u001b[38;5;241;43m.\u001b[39;49m\u001b[43msignature\u001b[49m\u001b[38;5;241;43m.\u001b[39;49m\u001b[43mname\u001b[49m\u001b[43m)\u001b[49m\u001b[43m,\u001b[49m\n\u001b[1;32m    383\u001b[0m \u001b[43m        \u001b[49m\u001b[43mnum_outputs\u001b[49m\u001b[38;5;241;43m=\u001b[39;49m\u001b[38;5;28;43mself\u001b[39;49m\u001b[38;5;241;43m.\u001b[39;49m\u001b[43m_num_outputs\u001b[49m\u001b[43m,\u001b[49m\n\u001b[1;32m    384\u001b[0m \u001b[43m        \u001b[49m\u001b[43minputs\u001b[49m\u001b[38;5;241;43m=\u001b[39;49m\u001b[43margs\u001b[49m\u001b[43m,\u001b[49m\n\u001b[1;32m    385\u001b[0m \u001b[43m        \u001b[49m\u001b[43mattrs\u001b[49m\u001b[38;5;241;43m=\u001b[39;49m\u001b[43mattrs\u001b[49m\u001b[43m,\u001b[49m\n\u001b[1;32m    386\u001b[0m \u001b[43m        \u001b[49m\u001b[43mctx\u001b[49m\u001b[38;5;241;43m=\u001b[39;49m\u001b[43mctx\u001b[49m\u001b[43m)\u001b[49m\n\u001b[1;32m    387\u001b[0m   \u001b[38;5;28;01melse\u001b[39;00m:\n\u001b[1;32m    388\u001b[0m     outputs \u001b[38;5;241m=\u001b[39m execute\u001b[38;5;241m.\u001b[39mexecute_with_cancellation(\n\u001b[1;32m    389\u001b[0m         \u001b[38;5;28mstr\u001b[39m(\u001b[38;5;28mself\u001b[39m\u001b[38;5;241m.\u001b[39msignature\u001b[38;5;241m.\u001b[39mname),\n\u001b[1;32m    390\u001b[0m         num_outputs\u001b[38;5;241m=\u001b[39m\u001b[38;5;28mself\u001b[39m\u001b[38;5;241m.\u001b[39m_num_outputs,\n\u001b[0;32m   (...)\u001b[0m\n\u001b[1;32m    393\u001b[0m         ctx\u001b[38;5;241m=\u001b[39mctx,\n\u001b[1;32m    394\u001b[0m         cancellation_manager\u001b[38;5;241m=\u001b[39mcancellation_manager)\n",
      "File \u001b[0;32m~/miniconda3/envs/tf/lib/python3.9/site-packages/tensorflow/python/eager/execute.py:52\u001b[0m, in \u001b[0;36mquick_execute\u001b[0;34m(op_name, num_outputs, inputs, attrs, ctx, name)\u001b[0m\n\u001b[1;32m     50\u001b[0m \u001b[38;5;28;01mtry\u001b[39;00m:\n\u001b[1;32m     51\u001b[0m   ctx\u001b[38;5;241m.\u001b[39mensure_initialized()\n\u001b[0;32m---> 52\u001b[0m   tensors \u001b[38;5;241m=\u001b[39m \u001b[43mpywrap_tfe\u001b[49m\u001b[38;5;241;43m.\u001b[39;49m\u001b[43mTFE_Py_Execute\u001b[49m\u001b[43m(\u001b[49m\u001b[43mctx\u001b[49m\u001b[38;5;241;43m.\u001b[39;49m\u001b[43m_handle\u001b[49m\u001b[43m,\u001b[49m\u001b[43m \u001b[49m\u001b[43mdevice_name\u001b[49m\u001b[43m,\u001b[49m\u001b[43m \u001b[49m\u001b[43mop_name\u001b[49m\u001b[43m,\u001b[49m\n\u001b[1;32m     53\u001b[0m \u001b[43m                                      \u001b[49m\u001b[43minputs\u001b[49m\u001b[43m,\u001b[49m\u001b[43m \u001b[49m\u001b[43mattrs\u001b[49m\u001b[43m,\u001b[49m\u001b[43m \u001b[49m\u001b[43mnum_outputs\u001b[49m\u001b[43m)\u001b[49m\n\u001b[1;32m     54\u001b[0m \u001b[38;5;28;01mexcept\u001b[39;00m core\u001b[38;5;241m.\u001b[39m_NotOkStatusException \u001b[38;5;28;01mas\u001b[39;00m e:\n\u001b[1;32m     55\u001b[0m   \u001b[38;5;28;01mif\u001b[39;00m name \u001b[38;5;129;01mis\u001b[39;00m \u001b[38;5;129;01mnot\u001b[39;00m \u001b[38;5;28;01mNone\u001b[39;00m:\n",
      "\u001b[0;31mKeyboardInterrupt\u001b[0m: "
     ]
    }
   ],
   "source": [
    "model.fit(X_train,Y_train,validation_data=(X_val,Y_val),batch_size=256,epochs=500, callbacks=[reduce_lr])"
   ]
  },
  {
   "cell_type": "code",
   "execution_count": null,
   "metadata": {},
   "outputs": [],
   "source": []
  },
  {
   "cell_type": "code",
   "execution_count": 55,
   "metadata": {},
   "outputs": [],
   "source": [
    "model.save('./KerasModels/model.h5')"
   ]
  },
  {
   "cell_type": "code",
   "execution_count": null,
   "metadata": {},
   "outputs": [],
   "source": [
    "from keras.models import load_model\n",
    "#model2=load_model(r'C:\\Users\\Faizan\\Documents\\AIProject\\SavedModels\\forzamodel.h5')\n",
    "#model2.predict(batch_size=1)"
   ]
  },
  {
   "cell_type": "code",
   "execution_count": null,
   "metadata": {},
   "outputs": [],
   "source": [
    "model=load_model(\"./KerasModels/Best.h5\")"
   ]
  },
  {
   "cell_type": "code",
   "execution_count": null,
   "metadata": {},
   "outputs": [],
   "source": [
    "print (X_train[0])"
   ]
  },
  {
   "cell_type": "code",
   "execution_count": 21,
   "metadata": {},
   "outputs": [
    {
     "name": "stdout",
     "output_type": "stream",
     "text": [
      "1/1 [==============================] - 0s 44ms/step\n"
     ]
    },
    {
     "data": {
      "text/plain": [
       "array([[ 1.0325389e+00, -3.5513565e-04,  6.0965294e-01,  7.2377324e-03]],\n",
       "      dtype=float32)"
      ]
     },
     "execution_count": 21,
     "metadata": {},
     "output_type": "execute_result"
    }
   ],
   "source": [
    "model.predict(X_train[0].reshape(1,-1))"
   ]
  },
  {
   "cell_type": "code",
   "execution_count": null,
   "metadata": {},
   "outputs": [],
   "source": []
  }
 ],
 "metadata": {
  "kernelspec": {
   "display_name": "Python 3 (ipykernel)",
   "language": "python",
   "name": "python3"
  },
  "language_info": {
   "codemirror_mode": {
    "name": "ipython",
    "version": 3
   },
   "file_extension": ".py",
   "mimetype": "text/x-python",
   "name": "python",
   "nbconvert_exporter": "python",
   "pygments_lexer": "ipython3",
   "version": "3.9.16"
  }
 },
 "nbformat": 4,
 "nbformat_minor": 2
}

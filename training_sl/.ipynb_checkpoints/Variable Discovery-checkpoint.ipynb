{
 "cells": [
  {
   "cell_type": "code",
   "execution_count": 38,
   "id": "b0357367",
   "metadata": {
    "scrolled": true
   },
   "outputs": [],
   "source": [
    "import numpy as np\n",
    "import pandas as pd\n",
    "import pickle\n",
    "from sklearn.preprocessing import StandardScaler\n",
    "from tensorflow.keras.models import Sequential\n",
    "from tensorflow.keras.layers import Dense, Activation, Flatten, Input, Lambda, Add, concatenate\n",
    "from tensorflow.keras.callbacks import ReduceLROnPlateau\n",
    "\n",
    "from tensorflow.keras.optimizers import Adam\n",
    "from tensorflow.keras.models import load_model\n",
    "import os\n",
    "import gc\n",
    "from pathlib import Path\n",
    "\n",
    "from pure_pursuit import *\n",
    "import tensorflow as tf\n",
    "\n",
    "import matplotlib.pyplot as plt\n",
    "import seaborn as sns\n",
    "sns.set()"
   ]
  },
  {
   "cell_type": "code",
   "execution_count": 3,
   "id": "a78b8405",
   "metadata": {},
   "outputs": [
    {
     "name": "stderr",
     "output_type": "stream",
     "text": [
      "2023-12-04 22:49:37.768908: I tensorflow/compiler/xla/stream_executor/cuda/cuda_gpu_executor.cc:996] successful NUMA node read from SysFS had negative value (-1), but there must be at least one NUMA node, so returning NUMA node zero. See more at https://github.com/torvalds/linux/blob/v6.0/Documentation/ABI/testing/sysfs-bus-pci#L344-L355\n",
      "2023-12-04 22:49:37.818869: I tensorflow/compiler/xla/stream_executor/cuda/cuda_gpu_executor.cc:996] successful NUMA node read from SysFS had negative value (-1), but there must be at least one NUMA node, so returning NUMA node zero. See more at https://github.com/torvalds/linux/blob/v6.0/Documentation/ABI/testing/sysfs-bus-pci#L344-L355\n",
      "2023-12-04 22:49:37.818990: I tensorflow/compiler/xla/stream_executor/cuda/cuda_gpu_executor.cc:996] successful NUMA node read from SysFS had negative value (-1), but there must be at least one NUMA node, so returning NUMA node zero. See more at https://github.com/torvalds/linux/blob/v6.0/Documentation/ABI/testing/sysfs-bus-pci#L344-L355\n"
     ]
    }
   ],
   "source": [
    "physical_devices = tf.config.list_physical_devices('GPU') \n",
    "tf.config.experimental.set_memory_growth(physical_devices[0], True)"
   ]
  },
  {
   "cell_type": "code",
   "execution_count": 25,
   "id": "ebaf9978",
   "metadata": {},
   "outputs": [],
   "source": [
    "MODEL_SAVE_DIR = Path(\"PI_model_new_tests\")\n",
    "if not MODEL_SAVE_DIR.exists():\n",
    "    os.makedirs(MODEL_SAVE_DIR.as_posix())"
   ]
  },
  {
   "cell_type": "markdown",
   "id": "593c7127",
   "metadata": {},
   "source": [
    "### Loading data files"
   ]
  },
  {
   "cell_type": "code",
   "execution_count": 5,
   "id": "57156891",
   "metadata": {},
   "outputs": [],
   "source": [
    "def get_data_files(path=\"../../torcs_SL/data_all/data\", pick_train=None, pick_test=None):\n",
    "    train_files = []\n",
    "    val_files = []\n",
    "\n",
    "    path = Path(path)\n",
    "    tracks = os.listdir(path.as_posix())\n",
    "\n",
    "    train_tracks = ['g-track-1', 'g-track-2', 'g-track-3', 'g-track-4', 'spring', 'aalborg', 'wheel-1', 'wheel-2', 'e-track-1', 'e-track-2']\n",
    "    test_tracks = ['e-track-3', 'alpine-2', 'corkscrew', 'wheel-2','ruudskogen']\n",
    "\n",
    "    random_tracks = np.random.choice(tracks, len(tracks), replace=False)\n",
    "    random_tracks = [x for x in random_tracks if x[:4] != 'dirt' and x[:3] != 'mix' and x not in test_tracks and x not in train_tracks]\n",
    "\n",
    "    val_tracks = test_tracks # random_tracks#[:3]\n",
    "    #train_tracks.extend(random_tracks[:18])\n",
    "\n",
    "    track_files = list(path.glob(\"**/*.csv\"))\n",
    "\n",
    "\n",
    "    train_track_files = [x for x in track_files if x.parts[-2] in train_tracks]\n",
    "    val_track_files = [x for x in track_files if x.parts[-2] in val_tracks]\n",
    "    \n",
    "    \n",
    "    train_track_files = np.random.choice(train_track_files, pick_train, replace=False) if pick_train else train_track_files\n",
    "    val_track_files = np.random.choice(val_track_files, pick_test, replace=False) if pick_test else val_track_files\n",
    "\n",
    "    return train_track_files, val_track_files"
   ]
  },
  {
   "cell_type": "code",
   "execution_count": 6,
   "id": "197b1b21",
   "metadata": {},
   "outputs": [
    {
     "data": {
      "text/plain": [
       "([PosixPath('../../torcs_SL/data_all/data/g-track-2/2.csv'),\n",
       "  PosixPath('../../torcs_SL/data_all/data/g-track-2/3.csv'),\n",
       "  PosixPath('../../torcs_SL/data_all/data/g-track-2/1.csv'),\n",
       "  PosixPath('../../torcs_SL/data_all/data/aalborg/2.csv'),\n",
       "  PosixPath('../../torcs_SL/data_all/data/aalborg/3.csv'),\n",
       "  PosixPath('../../torcs_SL/data_all/data/aalborg/1.csv'),\n",
       "  PosixPath('../../torcs_SL/data_all/data/wheel-1/2.csv'),\n",
       "  PosixPath('../../torcs_SL/data_all/data/wheel-1/3.csv'),\n",
       "  PosixPath('../../torcs_SL/data_all/data/wheel-1/1.csv'),\n",
       "  PosixPath('../../torcs_SL/data_all/data/g-track-1/2.csv'),\n",
       "  PosixPath('../../torcs_SL/data_all/data/g-track-1/3.csv'),\n",
       "  PosixPath('../../torcs_SL/data_all/data/g-track-1/1.csv'),\n",
       "  PosixPath('../../torcs_SL/data_all/data/g-track-3/2.csv'),\n",
       "  PosixPath('../../torcs_SL/data_all/data/g-track-3/3.csv'),\n",
       "  PosixPath('../../torcs_SL/data_all/data/g-track-3/1.csv'),\n",
       "  PosixPath('../../torcs_SL/data_all/data/wheel-2/2.csv'),\n",
       "  PosixPath('../../torcs_SL/data_all/data/wheel-2/3.csv'),\n",
       "  PosixPath('../../torcs_SL/data_all/data/wheel-2/1.csv'),\n",
       "  PosixPath('../../torcs_SL/data_all/data/spring/2.csv'),\n",
       "  PosixPath('../../torcs_SL/data_all/data/spring/3.csv'),\n",
       "  PosixPath('../../torcs_SL/data_all/data/spring/1.csv')],\n",
       " [PosixPath('../../torcs_SL/data_all/data/ruudskogen/2.csv'),\n",
       "  PosixPath('../../torcs_SL/data_all/data/ruudskogen/3.csv'),\n",
       "  PosixPath('../../torcs_SL/data_all/data/ruudskogen/1.csv'),\n",
       "  PosixPath('../../torcs_SL/data_all/data/alpine-2/2.csv'),\n",
       "  PosixPath('../../torcs_SL/data_all/data/alpine-2/3.csv'),\n",
       "  PosixPath('../../torcs_SL/data_all/data/alpine-2/1.csv'),\n",
       "  PosixPath('../../torcs_SL/data_all/data/wheel-2/2.csv'),\n",
       "  PosixPath('../../torcs_SL/data_all/data/wheel-2/3.csv'),\n",
       "  PosixPath('../../torcs_SL/data_all/data/wheel-2/1.csv'),\n",
       "  PosixPath('../../torcs_SL/data_all/data/corkscrew/2.csv'),\n",
       "  PosixPath('../../torcs_SL/data_all/data/corkscrew/3.csv'),\n",
       "  PosixPath('../../torcs_SL/data_all/data/corkscrew/1.csv'),\n",
       "  PosixPath('../../torcs_SL/data_all/data/e-track-3/2.csv'),\n",
       "  PosixPath('../../torcs_SL/data_all/data/e-track-3/3.csv'),\n",
       "  PosixPath('../../torcs_SL/data_all/data/e-track-3/1.csv')])"
      ]
     },
     "execution_count": 6,
     "metadata": {},
     "output_type": "execute_result"
    }
   ],
   "source": [
    "empty_train_track_files, empty_val_track_files = get_data_files(path=\"../../torcs_SL/data_all/data\")\n",
    "empty_train_track_files, empty_val_track_files"
   ]
  },
  {
   "cell_type": "code",
   "execution_count": 7,
   "id": "da31aab8",
   "metadata": {},
   "outputs": [
    {
     "data": {
      "text/plain": [
       "(array([PosixPath('../../torcs_SL/TORCS_DATA/data/wheel-1/14.csv'),\n",
       "        PosixPath('../../torcs_SL/TORCS_DATA/data/wheel-1/17.csv'),\n",
       "        PosixPath('../../torcs_SL/TORCS_DATA/data/g-track-1/2.csv'),\n",
       "        PosixPath('../../torcs_SL/TORCS_DATA/data/g-track-2/16.csv'),\n",
       "        PosixPath('../../torcs_SL/TORCS_DATA/data/wheel-2/23.csv'),\n",
       "        PosixPath('../../torcs_SL/TORCS_DATA/data/g-track-3/19.csv'),\n",
       "        PosixPath('../../torcs_SL/TORCS_DATA/data/wheel-2/15.csv'),\n",
       "        PosixPath('../../torcs_SL/TORCS_DATA/data/wheel-1/6.csv'),\n",
       "        PosixPath('../../torcs_SL/TORCS_DATA/data/wheel-1/19.csv'),\n",
       "        PosixPath('../../torcs_SL/TORCS_DATA/data/aalborg/23.csv'),\n",
       "        PosixPath('../../torcs_SL/TORCS_DATA/data/aalborg/2.csv'),\n",
       "        PosixPath('../../torcs_SL/TORCS_DATA/data/spring/4.csv'),\n",
       "        PosixPath('../../torcs_SL/TORCS_DATA/data/wheel-2/11.csv'),\n",
       "        PosixPath('../../torcs_SL/TORCS_DATA/data/g-track-3/16.csv'),\n",
       "        PosixPath('../../torcs_SL/TORCS_DATA/data/aalborg/4.csv'),\n",
       "        PosixPath('../../torcs_SL/TORCS_DATA/data/spring/22.csv'),\n",
       "        PosixPath('../../torcs_SL/TORCS_DATA/data/g-track-3/4.csv'),\n",
       "        PosixPath('../../torcs_SL/TORCS_DATA/data/wheel-2/19.csv'),\n",
       "        PosixPath('../../torcs_SL/TORCS_DATA/data/g-track-1/21.csv'),\n",
       "        PosixPath('../../torcs_SL/TORCS_DATA/data/spring/10.csv'),\n",
       "        PosixPath('../../torcs_SL/TORCS_DATA/data/g-track-1/3.csv'),\n",
       "        PosixPath('../../torcs_SL/TORCS_DATA/data/wheel-2/18.csv'),\n",
       "        PosixPath('../../torcs_SL/TORCS_DATA/data/spring/6.csv'),\n",
       "        PosixPath('../../torcs_SL/TORCS_DATA/data/wheel-2/1.csv'),\n",
       "        PosixPath('../../torcs_SL/TORCS_DATA/data/g-track-1/30.csv')],\n",
       "       dtype=object),\n",
       " array([PosixPath('../../torcs_SL/TORCS_DATA/data/alpine-2/16.csv'),\n",
       "        PosixPath('../../torcs_SL/TORCS_DATA/data/alpine-2/30.csv'),\n",
       "        PosixPath('../../torcs_SL/TORCS_DATA/data/alpine-2/26.csv'),\n",
       "        PosixPath('../../torcs_SL/TORCS_DATA/data/corkscrew/26.csv'),\n",
       "        PosixPath('../../torcs_SL/TORCS_DATA/data/wheel-2/1.csv'),\n",
       "        PosixPath('../../torcs_SL/TORCS_DATA/data/alpine-2/1.csv'),\n",
       "        PosixPath('../../torcs_SL/TORCS_DATA/data/corkscrew/2.csv'),\n",
       "        PosixPath('../../torcs_SL/TORCS_DATA/data/wheel-2/6.csv'),\n",
       "        PosixPath('../../torcs_SL/TORCS_DATA/data/alpine-2/5.csv'),\n",
       "        PosixPath('../../torcs_SL/TORCS_DATA/data/alpine-2/22.csv'),\n",
       "        PosixPath('../../torcs_SL/TORCS_DATA/data/e-track-3/21.csv'),\n",
       "        PosixPath('../../torcs_SL/TORCS_DATA/data/ruudskogen/28.csv')],\n",
       "       dtype=object))"
      ]
     },
     "execution_count": 7,
     "metadata": {},
     "output_type": "execute_result"
    }
   ],
   "source": [
    "traffic_train_track_files, traffic_val_track_files = get_data_files(\"../../torcs_SL/TORCS_DATA/data\", 25, 12)\n",
    "traffic_train_track_files, traffic_val_track_files"
   ]
  },
  {
   "cell_type": "markdown",
   "id": "cca422c0",
   "metadata": {},
   "source": [
    "### Train-Test Split"
   ]
  },
  {
   "cell_type": "code",
   "execution_count": 8,
   "id": "c3f9aa2a",
   "metadata": {},
   "outputs": [
    {
     "name": "stdout",
     "output_type": "stream",
     "text": [
      "(170501, 79)\n",
      "(170501, 79)\n"
     ]
    }
   ],
   "source": [
    "empty_training_data = pd.DataFrame()\n",
    "empty_validation_data = pd.DataFrame()\n",
    "split_ratio = 0.8\n",
    "\n",
    "for fi in empty_train_track_files:\n",
    "    empty_training_data = pd.concat([empty_training_data, pd.read_csv(fi)]).reset_index(drop=True)\n",
    "\n",
    "for fi in empty_val_track_files:\n",
    "\n",
    "    empty_validation_data = pd.concat([empty_validation_data, pd.read_csv(fi)]).reset_index(drop=True)\n",
    "\n",
    "print (empty_training_data.shape)\n",
    "print (empty_training_data.shape)"
   ]
  },
  {
   "cell_type": "code",
   "execution_count": 9,
   "id": "295b6285",
   "metadata": {},
   "outputs": [
    {
     "name": "stdout",
     "output_type": "stream",
     "text": [
      "(512240, 79)\n",
      "(191032, 79)\n"
     ]
    }
   ],
   "source": [
    "traffic_training_data = pd.DataFrame()\n",
    "traffic_validation_data = pd.DataFrame()\n",
    "split_ratio = 0.8\n",
    "\n",
    "for fi in traffic_train_track_files:\n",
    "    traffic_training_data = pd.concat([traffic_training_data, pd.read_csv(fi)]).reset_index(drop=True)\n",
    "\n",
    "for fi in traffic_val_track_files:\n",
    "\n",
    "    traffic_validation_data = pd.concat([traffic_validation_data, pd.read_csv(fi)]).reset_index(drop=True)\n",
    "    \n",
    "print (traffic_training_data.shape)\n",
    "print (traffic_validation_data.shape)"
   ]
  },
  {
   "cell_type": "code",
   "execution_count": 10,
   "id": "40d4b5b8",
   "metadata": {},
   "outputs": [],
   "source": [
    "class PurePursuit:\n",
    "    \n",
    "    @staticmethod\n",
    "    def get_max_dist(track):\n",
    "        track_dists = np.array(track)\n",
    "        return np.max(track_dists)\n",
    "    \n",
    "    @staticmethod\n",
    "    def get_max_dist_idx(track):\n",
    "        track_dists = np.array(track)\n",
    "        if track_dists[9] == np.max(track_dists) or track_dists[9] == 200:\n",
    "            return 9\n",
    "        return np.argmax(track_dists)\n",
    "    \n",
    "    @staticmethod\n",
    "    def compute_target_angle(track):\n",
    "\n",
    "        max_track_dist_idx = PurePursuit.get_max_dist_idx(track)\n",
    "\n",
    "        max_dist_angle = max_track_dist_idx * 10. - 90.\n",
    "        return max_dist_angle \n",
    "    \n",
    "    @staticmethod\n",
    "    def get_lookahead(track):\n",
    "        max_track_dist_idx = PurePursuit.get_max_dist_idx(track)\n",
    "        return track[max_track_dist_idx]"
   ]
  },
  {
   "cell_type": "code",
   "execution_count": 11,
   "id": "7752dc8e",
   "metadata": {},
   "outputs": [],
   "source": [
    "def process_training_data(training_data, validation_data):\n",
    "    del training_data['Gear']\n",
    "    del validation_data['Gear']\n",
    "    del training_data[' CurrentLapTime']\n",
    "    del validation_data[' CurrentLapTime']\n",
    "    del training_data[' LastLapTime']\n",
    "    del validation_data[' LastLapTime']\n",
    "    del training_data[' Damage']\n",
    "    del validation_data[' Damage']\n",
    "    del training_data[' FuelLevel']\n",
    "    del validation_data[' FuelLevel']\n",
    "\n",
    "    del training_data[' DistanceFromStart']\n",
    "    del validation_data[' DistanceFromStart']\n",
    "    \n",
    "\n",
    "    # for col in [c for c in training_data.columns if c.strip()[:3] == \"Opp\"]:\n",
    "    #     del training_data[col]\n",
    "    #     del validation_data[col]\n",
    "    \n",
    "    training_data['target_angle'] = training_data.iloc[:, 8+36: 27+36].apply(lambda x : PurePursuit.compute_target_angle(x.values), axis=1)\n",
    "    validation_data['target_angle'] = validation_data.iloc[:, 8+36: 27+36].apply(lambda x : PurePursuit.compute_target_angle(x.values), axis=1)\n",
    "\n",
    "    training_data['lookahead'] = training_data.iloc[:, 8+36: 27+36].apply(lambda x : PurePursuit.get_lookahead(x.values), axis=1)\n",
    "    validation_data['lookahead'] = validation_data.iloc[:, 8+36: 27+36].apply(lambda x : PurePursuit.get_lookahead(x.values), axis=1)\n",
    "    \n",
    "    X_train=training_data.loc[:,[' Opponent_1', 'Opponent_2',\n",
    "       'Opponent_3', 'Opponent_4', 'Opponent_5', 'Opponent_6', 'Opponent_7',\n",
    "       'Opponent_8', 'Opponent_9', 'Opponent_10', 'Opponent_11', 'Opponent_12',\n",
    "       'Opponent_13', 'Opponent_14', 'Opponent_15', 'Opponent_16',\n",
    "       'Opponent_17', 'Opponent_18', 'Opponent_19', 'Opponent_20',\n",
    "       'Opponent_21', 'Opponent_22', 'Opponent_23', 'Opponent_24',\n",
    "       'Opponent_25', 'Opponent_26', 'Opponent_27', 'Opponent_28',\n",
    "       'Opponent_29', 'Opponent_30', 'Opponent_31', 'Opponent_32',\n",
    "       'Opponent_33', 'Opponent_34', 'Opponent_35', 'Opponent_36', ' Track_1',\n",
    "       'Track_2', 'Track_3', 'Track_4', 'Track_5', 'Track_6', 'Track_7',\n",
    "       'Track_8', 'Track_9', 'Track_10', 'Track_11', 'Track_12', 'Track_13',\n",
    "       'Track_14', 'Track_15', 'Track_16', 'Track_17', 'Track_18', 'Track_19', \n",
    "        'TrackPosition', 'Angle', ' RPM', ' SpeedX', ' SpeedY', ' SpeedZ',\n",
    "        ' WheelSpinVelocity_1', 'WheelSpinVelocity_2',\n",
    "       'WheelSpinVelocity_3', 'WheelSpinVelocity_4', 'target_angle', 'lookahead']]\n",
    "\n",
    "    Y_train=training_data.loc[:,'Steering']\n",
    "    X_val=validation_data.loc[:,[' Opponent_1', 'Opponent_2',\n",
    "           'Opponent_3', 'Opponent_4', 'Opponent_5', 'Opponent_6', 'Opponent_7',\n",
    "           'Opponent_8', 'Opponent_9', 'Opponent_10', 'Opponent_11', 'Opponent_12',\n",
    "           'Opponent_13', 'Opponent_14', 'Opponent_15', 'Opponent_16',\n",
    "           'Opponent_17', 'Opponent_18', 'Opponent_19', 'Opponent_20',\n",
    "           'Opponent_21', 'Opponent_22', 'Opponent_23', 'Opponent_24',\n",
    "           'Opponent_25', 'Opponent_26', 'Opponent_27', 'Opponent_28',\n",
    "           'Opponent_29', 'Opponent_30', 'Opponent_31', 'Opponent_32',\n",
    "           'Opponent_33', 'Opponent_34', 'Opponent_35', 'Opponent_36', ' Track_1',\n",
    "           'Track_2', 'Track_3', 'Track_4', 'Track_5', 'Track_6', 'Track_7',\n",
    "           'Track_8', 'Track_9', 'Track_10', 'Track_11', 'Track_12', 'Track_13',\n",
    "           'Track_14', 'Track_15', 'Track_16', 'Track_17', 'Track_18', 'Track_19', \n",
    "            'TrackPosition', 'Angle', ' RPM', ' SpeedX', ' SpeedY', ' SpeedZ',\n",
    "            ' WheelSpinVelocity_1', 'WheelSpinVelocity_2',\n",
    "           'WheelSpinVelocity_3', 'WheelSpinVelocity_4', 'target_angle', 'lookahead']]\n",
    "    Y_val=validation_data.loc[:,'Steering']\n",
    "    \n",
    "    return X_train, X_val, Y_train, Y_val\n",
    "    \n",
    "    "
   ]
  },
  {
   "cell_type": "code",
   "execution_count": 12,
   "id": "0630415e",
   "metadata": {},
   "outputs": [],
   "source": [
    "X_train_empty, X_val_empty, Y_train_empty, Y_val_empty = process_training_data(empty_training_data, empty_validation_data)"
   ]
  },
  {
   "cell_type": "code",
   "execution_count": 13,
   "id": "1f7cae3f",
   "metadata": {},
   "outputs": [],
   "source": [
    "X_train_traffic, X_val_traffic, Y_train_traffic, Y_val_traffic = process_training_data(traffic_training_data, traffic_validation_data)"
   ]
  },
  {
   "cell_type": "raw",
   "id": "7c042564",
   "metadata": {},
   "source": [
    "training_data['target_angle'] = training_data.iloc[:, 8: 27].apply(lambda x : PurePursuit.compute_target_angle(x.values), axis=1)\n",
    "validation_data['target_angle'] = training_data.iloc[:, 8: 27].apply(lambda x : PurePursuit.compute_target_angle(x.values), axis=1)\n",
    "\n",
    "training_data['lookahead'] = training_data.iloc[:, 8: 27].apply(lambda x : PurePursuit.get_lookahead(x.values), axis=1)\n",
    "validation_data['lookahead'] = training_data.iloc[:, 8: 27].apply(lambda x : PurePursuit.get_lookahead(x.values), axis=1)"
   ]
  },
  {
   "cell_type": "markdown",
   "id": "ccdc2202",
   "metadata": {},
   "source": [
    "## PI Model Training"
   ]
  },
  {
   "cell_type": "raw",
   "id": "15b688a1",
   "metadata": {},
   "source": [
    "X_train = X_train.values\n",
    "X_val = X_val.values\n",
    "Y_train = Y_train.values\n",
    "Y_val = Y_val.values"
   ]
  },
  {
   "cell_type": "code",
   "execution_count": 14,
   "id": "17dc2659",
   "metadata": {},
   "outputs": [],
   "source": [
    "with open(MODEL_SAVE_DIR.joinpath(\"scaler.pickle\").as_posix(), \"rb\") as fp:\n",
    "    scaler = pickle.load(fp)"
   ]
  },
  {
   "cell_type": "code",
   "execution_count": 61,
   "id": "308c45e0",
   "metadata": {},
   "outputs": [
    {
     "data": {
      "text/plain": [
       "Index([' Opponent_1', 'Opponent_2', 'Opponent_3', 'Opponent_4', 'Opponent_5',\n",
       "       'Opponent_6', 'Opponent_7', 'Opponent_8', 'Opponent_9', 'Opponent_10',\n",
       "       'Opponent_11', 'Opponent_12', 'Opponent_13', 'Opponent_14',\n",
       "       'Opponent_15', 'Opponent_16', 'Opponent_17', 'Opponent_18',\n",
       "       'Opponent_19', 'Opponent_20', 'Opponent_21', 'Opponent_22',\n",
       "       'Opponent_23', 'Opponent_24', 'Opponent_25', 'Opponent_26',\n",
       "       'Opponent_27', 'Opponent_28', 'Opponent_29', 'Opponent_30',\n",
       "       'Opponent_31', 'Opponent_32', 'Opponent_33', 'Opponent_34',\n",
       "       'Opponent_35', 'Opponent_36', ' Track_1', 'Track_2', 'Track_3',\n",
       "       'Track_4', 'Track_5', 'Track_6', 'Track_7', 'Track_8', 'Track_9',\n",
       "       'Track_10', 'Track_11', 'Track_12', 'Track_13', 'Track_14', 'Track_15',\n",
       "       'Track_16', 'Track_17', 'Track_18', 'Track_19', 'TrackPosition',\n",
       "       'Angle', ' RPM', ' SpeedX', ' SpeedY', ' SpeedZ',\n",
       "       ' WheelSpinVelocity_1', 'WheelSpinVelocity_2', 'WheelSpinVelocity_3',\n",
       "       'WheelSpinVelocity_4', 'target_angle', 'lookahead'],\n",
       "      dtype='object')"
      ]
     },
     "execution_count": 61,
     "metadata": {},
     "output_type": "execute_result"
    }
   ],
   "source": [
    "X_train_traffic.columns"
   ]
  },
  {
   "cell_type": "code",
   "execution_count": 103,
   "id": "7782bc05",
   "metadata": {},
   "outputs": [],
   "source": [
    "X_traffic = pd.concat([X_train_traffic, X_val_traffic]).reset_index(drop=True)"
   ]
  },
  {
   "cell_type": "code",
   "execution_count": 194,
   "id": "baf40d9f",
   "metadata": {},
   "outputs": [
    {
     "data": {
      "text/html": [
       "<div>\n",
       "<style scoped>\n",
       "    .dataframe tbody tr th:only-of-type {\n",
       "        vertical-align: middle;\n",
       "    }\n",
       "\n",
       "    .dataframe tbody tr th {\n",
       "        vertical-align: top;\n",
       "    }\n",
       "\n",
       "    .dataframe thead th {\n",
       "        text-align: right;\n",
       "    }\n",
       "</style>\n",
       "<table border=\"1\" class=\"dataframe\">\n",
       "  <thead>\n",
       "    <tr style=\"text-align: right;\">\n",
       "      <th></th>\n",
       "      <th>Opponent_1</th>\n",
       "      <th>Opponent_2</th>\n",
       "      <th>Opponent_3</th>\n",
       "      <th>Opponent_4</th>\n",
       "      <th>Opponent_5</th>\n",
       "      <th>Opponent_6</th>\n",
       "      <th>Opponent_7</th>\n",
       "      <th>Opponent_8</th>\n",
       "      <th>Opponent_9</th>\n",
       "      <th>Opponent_10</th>\n",
       "      <th>...</th>\n",
       "      <th>RPM</th>\n",
       "      <th>SpeedX</th>\n",
       "      <th>SpeedY</th>\n",
       "      <th>SpeedZ</th>\n",
       "      <th>WheelSpinVelocity_1</th>\n",
       "      <th>WheelSpinVelocity_2</th>\n",
       "      <th>WheelSpinVelocity_3</th>\n",
       "      <th>WheelSpinVelocity_4</th>\n",
       "      <th>target_angle</th>\n",
       "      <th>lookahead</th>\n",
       "    </tr>\n",
       "  </thead>\n",
       "  <tbody>\n",
       "    <tr>\n",
       "      <th>8270</th>\n",
       "      <td>200.0</td>\n",
       "      <td>200.0</td>\n",
       "      <td>200.0</td>\n",
       "      <td>200.000</td>\n",
       "      <td>106.258</td>\n",
       "      <td>200.0</td>\n",
       "      <td>200.0</td>\n",
       "      <td>200.0</td>\n",
       "      <td>148.8730</td>\n",
       "      <td>144.031</td>\n",
       "      <td>...</td>\n",
       "      <td>6952.17</td>\n",
       "      <td>125.745</td>\n",
       "      <td>0.613401</td>\n",
       "      <td>5.807450</td>\n",
       "      <td>104.7850</td>\n",
       "      <td>106.3180</td>\n",
       "      <td>109.7190</td>\n",
       "      <td>110.9990</td>\n",
       "      <td>20.0</td>\n",
       "      <td>84.2571</td>\n",
       "    </tr>\n",
       "    <tr>\n",
       "      <th>8271</th>\n",
       "      <td>200.0</td>\n",
       "      <td>200.0</td>\n",
       "      <td>200.0</td>\n",
       "      <td>200.000</td>\n",
       "      <td>106.441</td>\n",
       "      <td>200.0</td>\n",
       "      <td>200.0</td>\n",
       "      <td>200.0</td>\n",
       "      <td>148.8430</td>\n",
       "      <td>143.950</td>\n",
       "      <td>...</td>\n",
       "      <td>6966.39</td>\n",
       "      <td>126.134</td>\n",
       "      <td>1.010890</td>\n",
       "      <td>5.833450</td>\n",
       "      <td>105.3300</td>\n",
       "      <td>106.4790</td>\n",
       "      <td>110.2840</td>\n",
       "      <td>110.8480</td>\n",
       "      <td>20.0</td>\n",
       "      <td>84.4540</td>\n",
       "    </tr>\n",
       "    <tr>\n",
       "      <th>8272</th>\n",
       "      <td>200.0</td>\n",
       "      <td>200.0</td>\n",
       "      <td>200.0</td>\n",
       "      <td>106.632</td>\n",
       "      <td>200.000</td>\n",
       "      <td>200.0</td>\n",
       "      <td>200.0</td>\n",
       "      <td>200.0</td>\n",
       "      <td>148.8210</td>\n",
       "      <td>143.878</td>\n",
       "      <td>...</td>\n",
       "      <td>6977.48</td>\n",
       "      <td>126.527</td>\n",
       "      <td>1.145010</td>\n",
       "      <td>5.849950</td>\n",
       "      <td>105.8800</td>\n",
       "      <td>106.5830</td>\n",
       "      <td>110.4560</td>\n",
       "      <td>111.0340</td>\n",
       "      <td>20.0</td>\n",
       "      <td>84.2407</td>\n",
       "    </tr>\n",
       "    <tr>\n",
       "      <th>8273</th>\n",
       "      <td>200.0</td>\n",
       "      <td>200.0</td>\n",
       "      <td>200.0</td>\n",
       "      <td>106.831</td>\n",
       "      <td>200.000</td>\n",
       "      <td>200.0</td>\n",
       "      <td>200.0</td>\n",
       "      <td>200.0</td>\n",
       "      <td>148.8080</td>\n",
       "      <td>143.816</td>\n",
       "      <td>...</td>\n",
       "      <td>6992.62</td>\n",
       "      <td>126.918</td>\n",
       "      <td>1.095130</td>\n",
       "      <td>5.885810</td>\n",
       "      <td>106.3550</td>\n",
       "      <td>106.7660</td>\n",
       "      <td>110.8720</td>\n",
       "      <td>111.0900</td>\n",
       "      <td>20.0</td>\n",
       "      <td>83.7545</td>\n",
       "    </tr>\n",
       "    <tr>\n",
       "      <th>8274</th>\n",
       "      <td>200.0</td>\n",
       "      <td>200.0</td>\n",
       "      <td>200.0</td>\n",
       "      <td>107.037</td>\n",
       "      <td>200.000</td>\n",
       "      <td>200.0</td>\n",
       "      <td>200.0</td>\n",
       "      <td>200.0</td>\n",
       "      <td>148.8050</td>\n",
       "      <td>143.765</td>\n",
       "      <td>...</td>\n",
       "      <td>7011.12</td>\n",
       "      <td>127.308</td>\n",
       "      <td>0.956255</td>\n",
       "      <td>5.939560</td>\n",
       "      <td>106.7690</td>\n",
       "      <td>107.0130</td>\n",
       "      <td>111.3200</td>\n",
       "      <td>111.2220</td>\n",
       "      <td>30.0</td>\n",
       "      <td>101.4080</td>\n",
       "    </tr>\n",
       "    <tr>\n",
       "      <th>...</th>\n",
       "      <td>...</td>\n",
       "      <td>...</td>\n",
       "      <td>...</td>\n",
       "      <td>...</td>\n",
       "      <td>...</td>\n",
       "      <td>...</td>\n",
       "      <td>...</td>\n",
       "      <td>...</td>\n",
       "      <td>...</td>\n",
       "      <td>...</td>\n",
       "      <td>...</td>\n",
       "      <td>...</td>\n",
       "      <td>...</td>\n",
       "      <td>...</td>\n",
       "      <td>...</td>\n",
       "      <td>...</td>\n",
       "      <td>...</td>\n",
       "      <td>...</td>\n",
       "      <td>...</td>\n",
       "      <td>...</td>\n",
       "      <td>...</td>\n",
       "    </tr>\n",
       "    <tr>\n",
       "      <th>677475</th>\n",
       "      <td>200.0</td>\n",
       "      <td>200.0</td>\n",
       "      <td>200.0</td>\n",
       "      <td>157.311</td>\n",
       "      <td>200.000</td>\n",
       "      <td>200.0</td>\n",
       "      <td>200.0</td>\n",
       "      <td>200.0</td>\n",
       "      <td>82.4718</td>\n",
       "      <td>200.000</td>\n",
       "      <td>...</td>\n",
       "      <td>6664.15</td>\n",
       "      <td>126.111</td>\n",
       "      <td>-0.141865</td>\n",
       "      <td>0.028656</td>\n",
       "      <td>106.5040</td>\n",
       "      <td>104.7020</td>\n",
       "      <td>106.4970</td>\n",
       "      <td>104.9380</td>\n",
       "      <td>-10.0</td>\n",
       "      <td>43.1100</td>\n",
       "    </tr>\n",
       "    <tr>\n",
       "      <th>677476</th>\n",
       "      <td>200.0</td>\n",
       "      <td>200.0</td>\n",
       "      <td>200.0</td>\n",
       "      <td>158.754</td>\n",
       "      <td>200.000</td>\n",
       "      <td>200.0</td>\n",
       "      <td>200.0</td>\n",
       "      <td>200.0</td>\n",
       "      <td>82.5817</td>\n",
       "      <td>200.000</td>\n",
       "      <td>...</td>\n",
       "      <td>5857.05</td>\n",
       "      <td>124.815</td>\n",
       "      <td>-0.798998</td>\n",
       "      <td>0.029938</td>\n",
       "      <td>67.2839</td>\n",
       "      <td>65.1351</td>\n",
       "      <td>94.5313</td>\n",
       "      <td>92.2857</td>\n",
       "      <td>-10.0</td>\n",
       "      <td>42.7302</td>\n",
       "    </tr>\n",
       "    <tr>\n",
       "      <th>677477</th>\n",
       "      <td>200.0</td>\n",
       "      <td>200.0</td>\n",
       "      <td>200.0</td>\n",
       "      <td>160.196</td>\n",
       "      <td>200.000</td>\n",
       "      <td>200.0</td>\n",
       "      <td>200.0</td>\n",
       "      <td>200.0</td>\n",
       "      <td>82.7109</td>\n",
       "      <td>200.000</td>\n",
       "      <td>...</td>\n",
       "      <td>8026.74</td>\n",
       "      <td>123.336</td>\n",
       "      <td>-1.283300</td>\n",
       "      <td>0.029163</td>\n",
       "      <td>97.0830</td>\n",
       "      <td>94.4695</td>\n",
       "      <td>104.2920</td>\n",
       "      <td>103.0960</td>\n",
       "      <td>-10.0</td>\n",
       "      <td>42.2745</td>\n",
       "    </tr>\n",
       "    <tr>\n",
       "      <th>677478</th>\n",
       "      <td>200.0</td>\n",
       "      <td>200.0</td>\n",
       "      <td>200.0</td>\n",
       "      <td>161.638</td>\n",
       "      <td>200.000</td>\n",
       "      <td>200.0</td>\n",
       "      <td>200.0</td>\n",
       "      <td>200.0</td>\n",
       "      <td>82.8590</td>\n",
       "      <td>200.000</td>\n",
       "      <td>...</td>\n",
       "      <td>7910.81</td>\n",
       "      <td>122.065</td>\n",
       "      <td>-1.503430</td>\n",
       "      <td>0.029814</td>\n",
       "      <td>83.5281</td>\n",
       "      <td>81.1400</td>\n",
       "      <td>98.4258</td>\n",
       "      <td>97.4299</td>\n",
       "      <td>-10.0</td>\n",
       "      <td>41.7359</td>\n",
       "    </tr>\n",
       "    <tr>\n",
       "      <th>677479</th>\n",
       "      <td>200.0</td>\n",
       "      <td>200.0</td>\n",
       "      <td>200.0</td>\n",
       "      <td>163.079</td>\n",
       "      <td>200.000</td>\n",
       "      <td>200.0</td>\n",
       "      <td>200.0</td>\n",
       "      <td>200.0</td>\n",
       "      <td>83.0252</td>\n",
       "      <td>200.000</td>\n",
       "      <td>...</td>\n",
       "      <td>7797.25</td>\n",
       "      <td>121.156</td>\n",
       "      <td>-1.538130</td>\n",
       "      <td>0.031406</td>\n",
       "      <td>102.3570</td>\n",
       "      <td>102.0610</td>\n",
       "      <td>102.9450</td>\n",
       "      <td>102.5340</td>\n",
       "      <td>-10.0</td>\n",
       "      <td>41.1421</td>\n",
       "    </tr>\n",
       "  </tbody>\n",
       "</table>\n",
       "<p>1647 rows × 67 columns</p>\n",
       "</div>"
      ],
      "text/plain": [
       "         Opponent_1  Opponent_2  Opponent_3  Opponent_4  Opponent_5  \\\n",
       "8270          200.0       200.0       200.0     200.000     106.258   \n",
       "8271          200.0       200.0       200.0     200.000     106.441   \n",
       "8272          200.0       200.0       200.0     106.632     200.000   \n",
       "8273          200.0       200.0       200.0     106.831     200.000   \n",
       "8274          200.0       200.0       200.0     107.037     200.000   \n",
       "...             ...         ...         ...         ...         ...   \n",
       "677475        200.0       200.0       200.0     157.311     200.000   \n",
       "677476        200.0       200.0       200.0     158.754     200.000   \n",
       "677477        200.0       200.0       200.0     160.196     200.000   \n",
       "677478        200.0       200.0       200.0     161.638     200.000   \n",
       "677479        200.0       200.0       200.0     163.079     200.000   \n",
       "\n",
       "        Opponent_6  Opponent_7  Opponent_8  Opponent_9  Opponent_10  ...  \\\n",
       "8270         200.0       200.0       200.0    148.8730      144.031  ...   \n",
       "8271         200.0       200.0       200.0    148.8430      143.950  ...   \n",
       "8272         200.0       200.0       200.0    148.8210      143.878  ...   \n",
       "8273         200.0       200.0       200.0    148.8080      143.816  ...   \n",
       "8274         200.0       200.0       200.0    148.8050      143.765  ...   \n",
       "...            ...         ...         ...         ...          ...  ...   \n",
       "677475       200.0       200.0       200.0     82.4718      200.000  ...   \n",
       "677476       200.0       200.0       200.0     82.5817      200.000  ...   \n",
       "677477       200.0       200.0       200.0     82.7109      200.000  ...   \n",
       "677478       200.0       200.0       200.0     82.8590      200.000  ...   \n",
       "677479       200.0       200.0       200.0     83.0252      200.000  ...   \n",
       "\n",
       "            RPM   SpeedX    SpeedY    SpeedZ   WheelSpinVelocity_1  \\\n",
       "8270    6952.17  125.745  0.613401  5.807450              104.7850   \n",
       "8271    6966.39  126.134  1.010890  5.833450              105.3300   \n",
       "8272    6977.48  126.527  1.145010  5.849950              105.8800   \n",
       "8273    6992.62  126.918  1.095130  5.885810              106.3550   \n",
       "8274    7011.12  127.308  0.956255  5.939560              106.7690   \n",
       "...         ...      ...       ...       ...                   ...   \n",
       "677475  6664.15  126.111 -0.141865  0.028656              106.5040   \n",
       "677476  5857.05  124.815 -0.798998  0.029938               67.2839   \n",
       "677477  8026.74  123.336 -1.283300  0.029163               97.0830   \n",
       "677478  7910.81  122.065 -1.503430  0.029814               83.5281   \n",
       "677479  7797.25  121.156 -1.538130  0.031406              102.3570   \n",
       "\n",
       "        WheelSpinVelocity_2  WheelSpinVelocity_3  WheelSpinVelocity_4  \\\n",
       "8270               106.3180             109.7190             110.9990   \n",
       "8271               106.4790             110.2840             110.8480   \n",
       "8272               106.5830             110.4560             111.0340   \n",
       "8273               106.7660             110.8720             111.0900   \n",
       "8274               107.0130             111.3200             111.2220   \n",
       "...                     ...                  ...                  ...   \n",
       "677475             104.7020             106.4970             104.9380   \n",
       "677476              65.1351              94.5313              92.2857   \n",
       "677477              94.4695             104.2920             103.0960   \n",
       "677478              81.1400              98.4258              97.4299   \n",
       "677479             102.0610             102.9450             102.5340   \n",
       "\n",
       "        target_angle  lookahead  \n",
       "8270            20.0    84.2571  \n",
       "8271            20.0    84.4540  \n",
       "8272            20.0    84.2407  \n",
       "8273            20.0    83.7545  \n",
       "8274            30.0   101.4080  \n",
       "...              ...        ...  \n",
       "677475         -10.0    43.1100  \n",
       "677476         -10.0    42.7302  \n",
       "677477         -10.0    42.2745  \n",
       "677478         -10.0    41.7359  \n",
       "677479         -10.0    41.1421  \n",
       "\n",
       "[1647 rows x 67 columns]"
      ]
     },
     "execution_count": 194,
     "metadata": {},
     "output_type": "execute_result"
    }
   ],
   "source": [
    "subset1 = X_traffic[(X_traffic['Opponent_11'] > (X_traffic['Opponent_9']) + 20)\n",
    "                         & (X_traffic['Opponent_12'] < (X_traffic['Opponent_8']) + 20) \n",
    "                        & (X_traffic['Track_12'] > (X_traffic['Track_8']) + 20)]\n",
    "\n",
    "subset2 = X_traffic[(X_traffic['Opponent_9'] > (X_traffic['Opponent_11']) + 50)\n",
    "                         & (X_traffic['Opponent_8'] < (X_traffic['Opponent_12']) + 50) \n",
    "                        & (X_traffic['Track_6'] > (X_traffic['Track_14']) + 60)]\n",
    "\n",
    "subset3 = X_traffic[(X_traffic['Opponent_12'] < 40)\n",
    "                         & (X_traffic['Opponent_8'] < 40)\n",
    "                        & (X_traffic['Track_10'] < 70)]\n",
    "subset"
   ]
  },
  {
   "cell_type": "code",
   "execution_count": 159,
   "id": "c4bdfde2",
   "metadata": {},
   "outputs": [],
   "source": [
    "@tf.function\n",
    "def compute_steering(data):\n",
    "\n",
    "    target_angle = data[:, 1] * RAD_PER_DEG\n",
    "    lookahead = data[:, 0]\n",
    "\n",
    "    raw_steering_angle_rad = -tf.math.atan(\n",
    "        (PURE_PURSUIT_2L * tf.math.sin(target_angle)) / (lookahead + 1e-7))\n",
    "\n",
    "    raw_steering_angle_deg = raw_steering_angle_rad * DEG_PER_RAD\n",
    "\n",
    "    normalized_steering_angle = tf.clip_by_value(raw_steering_angle_deg / MAX_STEERING_ANGLE_DEG, -1.0, 1.0)\n",
    "    return normalized_steering_angle"
   ]
  },
  {
   "cell_type": "code",
   "execution_count": 160,
   "id": "ed92ac88",
   "metadata": {},
   "outputs": [],
   "source": [
    "def model_load():\n",
    "    return load_model(MODEL_SAVE_DIR.joinpath(\"model_perception.h5\").as_posix())"
   ]
  },
  {
   "cell_type": "code",
   "execution_count": 161,
   "id": "dae57a6d",
   "metadata": {},
   "outputs": [],
   "source": [
    "model = model_load()"
   ]
  },
  {
   "cell_type": "code",
   "execution_count": 162,
   "id": "7f9d781a",
   "metadata": {},
   "outputs": [
    {
     "name": "stdout",
     "output_type": "stream",
     "text": [
      "52/52 [==============================] - 0s 551us/step\n"
     ]
    }
   ],
   "source": [
    "preds = model.predict(scaler.transform(subset.iloc[:, :-2]))\n",
    "angles = preds[:, 0]\n",
    "lookaheads = preds[:, 1]"
   ]
  },
  {
   "cell_type": "code",
   "execution_count": null,
   "id": "20d283fc",
   "metadata": {},
   "outputs": [
    {
     "name": "stdout",
     "output_type": "stream",
     "text": [
      "52/52 [==============================] - 0s 503us/step\n"
     ]
    },
    {
     "name": "stderr",
     "output_type": "stream",
     "text": [
      "/tmp/ipykernel_7973/1656146807.py:9: UserWarning: \n",
      "\n",
      "`distplot` is a deprecated function and will be removed in seaborn v0.14.0.\n",
      "\n",
      "Please adapt your code to use either `displot` (a figure-level function with\n",
      "similar flexibility) or `histplot` (an axes-level function for histograms).\n",
      "\n",
      "For a guide to updating your code to use the new functions, please see\n",
      "https://gist.github.com/mwaskom/de44147ed2974457ad6372750bbe5751\n",
      "\n",
      "  sns.distplot(angles, ax=ax[0][0])\n"
     ]
    },
    {
     "name": "stdout",
     "output_type": "stream",
     "text": [
      "6/6 [==============================] - 0s 2ms/step\n",
      "3/3 [==============================] - 0s 1ms/step\n"
     ]
    },
    {
     "name": "stderr",
     "output_type": "stream",
     "text": [
      "/tmp/ipykernel_7973/1656146807.py:10: UserWarning: \n",
      "\n",
      "`distplot` is a deprecated function and will be removed in seaborn v0.14.0.\n",
      "\n",
      "Please adapt your code to use either `displot` (a figure-level function with\n",
      "similar flexibility) or `histplot` (an axes-level function for histograms).\n",
      "\n",
      "For a guide to updating your code to use the new functions, please see\n",
      "https://gist.github.com/mwaskom/de44147ed2974457ad6372750bbe5751\n",
      "\n",
      "  sns.distplot(lookaheads, ax=ax[0][1])\n",
      "/tmp/ipykernel_7973/1656146807.py:20: UserWarning: \n",
      "\n",
      "`distplot` is a deprecated function and will be removed in seaborn v0.14.0.\n",
      "\n",
      "Please adapt your code to use either `displot` (a figure-level function with\n",
      "similar flexibility) or `histplot` (an axes-level function for histograms).\n",
      "\n",
      "For a guide to updating your code to use the new functions, please see\n",
      "https://gist.github.com/mwaskom/de44147ed2974457ad6372750bbe5751\n",
      "\n",
      "  sns.distplot(angles, ax=ax[1][0])\n",
      "/tmp/ipykernel_7973/1656146807.py:21: UserWarning: \n",
      "\n",
      "`distplot` is a deprecated function and will be removed in seaborn v0.14.0.\n",
      "\n",
      "Please adapt your code to use either `displot` (a figure-level function with\n",
      "similar flexibility) or `histplot` (an axes-level function for histograms).\n",
      "\n",
      "For a guide to updating your code to use the new functions, please see\n",
      "https://gist.github.com/mwaskom/de44147ed2974457ad6372750bbe5751\n",
      "\n",
      "  sns.distplot(lookaheads, ax=ax[1][1])\n",
      "/tmp/ipykernel_7973/1656146807.py:28: UserWarning: \n",
      "\n",
      "`distplot` is a deprecated function and will be removed in seaborn v0.14.0.\n",
      "\n",
      "Please adapt your code to use either `displot` (a figure-level function with\n",
      "similar flexibility) or `histplot` (an axes-level function for histograms).\n",
      "\n",
      "For a guide to updating your code to use the new functions, please see\n",
      "https://gist.github.com/mwaskom/de44147ed2974457ad6372750bbe5751\n",
      "\n",
      "  sns.distplot(angles, ax=ax[2][0])\n",
      "/tmp/ipykernel_7973/1656146807.py:29: UserWarning: \n",
      "\n",
      "`distplot` is a deprecated function and will be removed in seaborn v0.14.0.\n",
      "\n",
      "Please adapt your code to use either `displot` (a figure-level function with\n",
      "similar flexibility) or `histplot` (an axes-level function for histograms).\n",
      "\n",
      "For a guide to updating your code to use the new functions, please see\n",
      "https://gist.github.com/mwaskom/de44147ed2974457ad6372750bbe5751\n",
      "\n",
      "  sns.distplot(lookaheads, ax=ax[2][1])\n"
     ]
    },
    {
     "data": {
      "text/plain": [
       "(0.0, 80.0)"
      ]
     },
     "execution_count": 195,
     "metadata": {},
     "output_type": "execute_result"
    }
   ],
   "source": [
    "fig, ax = plt.subplots(ncols=2, nrows=3, dpi=300)\n",
    "fig.set_figwidth(15)\n",
    "fig.set_figheight(20)\n",
    "\n",
    "preds = model.predict(scaler.transform(subset1.iloc[:, :-2]))\n",
    "angles = preds[:, 0]\n",
    "lookaheads = preds[:, 1]\n",
    "\n",
    "sns.distplot(angles, ax=ax[0][0])\n",
    "sns.distplot(lookaheads, ax=ax[0][1])\n",
    "ax[0][1].set_xlim(0, 150)\n",
    "\n",
    "ax[0][0].set_title(\"Target Angle Distribution\", fontsize=12)\n",
    "ax[0][1].set_title(\"Lookahead Distance Distribution\", fontsize=12)\n",
    "\n",
    "\n",
    "preds = model.predict(scaler.transform(subset2.iloc[:, :-2]))\n",
    "angles = preds[:, 0]\n",
    "lookaheads = preds[:, 1]\n",
    "sns.distplot(angles, ax=ax[1][0])\n",
    "sns.distplot(lookaheads, ax=ax[1][1])\n",
    "ax[1][1].set_xlim(0, 150)\n",
    "\n",
    "\n",
    "preds = model.predict(scaler.transform(subset3.iloc[:, :-2]))\n",
    "angles = preds[:, 0]\n",
    "lookaheads = preds[:, 1]\n",
    "sns.distplot(angles, ax=ax[2][0])\n",
    "sns.distplot(lookaheads, ax=ax[2][1])\n",
    "ax[2][1].set_xlim(0, 80)"
   ]
  },
  {
   "cell_type": "code",
   "execution_count": 155,
   "id": "7ce138ef",
   "metadata": {},
   "outputs": [
    {
     "data": {
      "text/plain": [
       "<matplotlib.collections.PathCollection at 0x7f9e9ad08760>"
      ]
     },
     "execution_count": 155,
     "metadata": {},
     "output_type": "execute_result"
    },
    {
     "data": {
      "image/png": "[encoded data removed]",
      "text/plain": [
       "<Figure size 640x480 with 1 Axes>"
      ]
     },
     "metadata": {},
     "output_type": "display_data"
    }
   ],
   "source": [
    "plt.scatter(angles, lookaheads, alpha=0.5)"
   ]
  },
  {
   "cell_type": "code",
   "execution_count": 156,
   "id": "6928ebfb",
   "metadata": {},
   "outputs": [],
   "source": [
    "hor_dist = np.sin(np.abs(angles)) * lookaheads"
   ]
  },
  {
   "cell_type": "code",
   "execution_count": 157,
   "id": "05db0399",
   "metadata": {},
   "outputs": [
    {
     "data": {
      "text/plain": [
       "<matplotlib.image.AxesImage at 0x7f9e967f7910>"
      ]
     },
     "execution_count": 157,
     "metadata": {},
     "output_type": "execute_result"
    },
    {
     "data": {
      "image/png": "[encoded data removed]",
      "text/plain": [
       "<Figure size 640x480 with 1 Axes>"
      ]
     },
     "metadata": {},
     "output_type": "display_data"
    }
   ],
   "source": [
    "heatmap, xedges, yedges = np.histogram2d(angles, hor_dist, bins=20)\n",
    "extent = [xedges[0], xedges[-1], yedges[0], yedges[-1]]\n",
    "\n",
    "\n",
    "plt.clf()\n",
    "plt.imshow(heatmap.T, cmap=\"Oranges\", extent=extent, origin='lower')\n"
   ]
  },
  {
   "cell_type": "code",
   "execution_count": 122,
   "id": "4119c821",
   "metadata": {},
   "outputs": [
    {
     "data": {
      "text/plain": [
       "<matplotlib.image.AxesImage at 0x7f9e969888b0>"
      ]
     },
     "execution_count": 122,
     "metadata": {},
     "output_type": "execute_result"
    },
    {
     "data": {
      "image/png": "[encoded data removed]",
      "text/plain": [
       "<Figure size 640x480 with 1 Axes>"
      ]
     },
     "metadata": {},
     "output_type": "display_data"
    }
   ],
   "source": [
    "heatmap, xedges, yedges = np.histogram2d(, subset['Track_11'], bins=50)\n",
    "extent = [xedges[0], xedges[-1], yedges[0], yedges[-1]]\n",
    "\n",
    "plt.clf()\n",
    "plt.imshow(heatmap.T, cmap=\"Oranges\", extent=extent, origin='lower')"
   ]
  },
  {
   "cell_type": "code",
   "execution_count": null,
   "id": "bbb87ac0",
   "metadata": {},
   "outputs": [],
   "source": []
  }
 ],
 "metadata": {
  "kernelspec": {
   "display_name": "Python 3 (ipykernel)",
   "language": "python",
   "name": "python3"
  },
  "language_info": {
   "codemirror_mode": {
    "name": "ipython",
    "version": 3
   },
   "file_extension": ".py",
   "mimetype": "text/x-python",
   "name": "python",
   "nbconvert_exporter": "python",
   "pygments_lexer": "ipython3",
   "version": "3.9.16"
  }
 },
 "nbformat": 4,
 "nbformat_minor": 5
}

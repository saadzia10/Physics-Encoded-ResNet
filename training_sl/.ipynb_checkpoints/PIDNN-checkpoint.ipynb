{
 "cells": [
  {
   "cell_type": "code",
   "execution_count": 1,
   "metadata": {},
   "outputs": [
    {
     "name": "stderr",
     "output_type": "stream",
     "text": [
      "2023-05-15 04:00:18.548028: I tensorflow/core/util/port.cc:110] oneDNN custom operations are on. You may see slightly different numerical results due to floating-point round-off errors from different computation orders. To turn them off, set the environment variable `TF_ENABLE_ONEDNN_OPTS=0`.\n",
      "2023-05-15 04:00:18.580068: I tensorflow/core/platform/cpu_feature_guard.cc:182] This TensorFlow binary is optimized to use available CPU instructions in performance-critical operations.\n",
      "To enable the following instructions: AVX2 AVX512F AVX512_VNNI FMA, in other operations, rebuild TensorFlow with the appropriate compiler flags.\n",
      "2023-05-15 04:00:19.046049: W tensorflow/compiler/tf2tensorrt/utils/py_utils.cc:38] TF-TRT Warning: Could not find TensorRT\n"
     ]
    }
   ],
   "source": [
    "import numpy as np\n",
    "import pandas as pd\n",
    "from sklearn.preprocessing import StandardScaler\n",
    "from tensorflow.keras.models import Sequential\n",
    "from tensorflow.keras.layers import Dense, Activation, Flatten, Input, Lambda\n",
    "from tensorflow.keras.optimizers import Adam\n",
    "from tensorflow.keras.models import load_model\n",
    "import os\n",
    "import gc\n",
    "from pathlib import Path\n",
    "\n",
    "from pure_pursuit import *\n",
    "import tensorflow as tf\n",
    "\n",
    "import matplotlib.pyplot as plt"
   ]
  },
  {
   "cell_type": "markdown",
   "metadata": {},
   "source": [
    "### Loading data files"
   ]
  },
  {
   "cell_type": "code",
   "execution_count": 2,
   "metadata": {
    "scrolled": true
   },
   "outputs": [
    {
     "data": {
      "text/plain": [
       "[PosixPath('data_big/data/g-track-2/2.csv'),\n",
       " PosixPath('data_big/data/g-track-2/3.csv'),\n",
       " PosixPath('data_big/data/g-track-2/1.csv'),\n",
       " PosixPath('data_big/data/g-track-1/2.csv'),\n",
       " PosixPath('data_big/data/g-track-1/3.csv'),\n",
       " PosixPath('data_big/data/g-track-1/1.csv'),\n",
       " PosixPath('data_big/data/g-track-3/2.csv'),\n",
       " PosixPath('data_big/data/g-track-3/3.csv'),\n",
       " PosixPath('data_big/data/g-track-3/1.csv')]"
      ]
     },
     "execution_count": 2,
     "metadata": {},
     "output_type": "execute_result"
    }
   ],
   "source": [
    "train_files = []\n",
    "val_files = []\n",
    "\n",
    "path = Path(\"data_big/data\")\n",
    "# track_dirs = [path.joinpath('g-track-1')]\n",
    "# track_files = list(track_dirs[0].glob(\"*.csv\"))\n",
    "# track_files = list(path.glob(\"*/*.csv\"))\n",
    "# track_files\n",
    "track_files = list(path.glob(\"g-track*/*csv\"))\n",
    "track_files"
   ]
  },
  {
   "cell_type": "markdown",
   "metadata": {},
   "source": [
    "### Train-Test Split"
   ]
  },
  {
   "cell_type": "code",
   "execution_count": 3,
   "metadata": {},
   "outputs": [],
   "source": [
    "training_data = pd.DataFrame()\n",
    "validation_data = pd.DataFrame()\n",
    "split_ratio = 0.8\n",
    "\n",
    "for fi in track_files[:int(split_ratio * len(track_files))]:\n",
    "    training_data = pd.concat([training_data, pd.read_csv(fi)]).reset_index(drop=True)\n",
    "\n",
    "for fi in track_files[int(split_ratio * len(track_files)):]:\n",
    "    validation_data = pd.concat([validation_data, pd.read_csv(fi)]).reset_index(drop=True)"
   ]
  },
  {
   "cell_type": "code",
   "execution_count": 4,
   "metadata": {},
   "outputs": [
    {
     "name": "stdout",
     "output_type": "stream",
     "text": [
      "(89314, 79)\n",
      "(32481, 79)\n"
     ]
    }
   ],
   "source": [
    "print (training_data.shape)\n",
    "print (validation_data.shape)"
   ]
  },
  {
   "cell_type": "code",
   "execution_count": 5,
   "metadata": {},
   "outputs": [
    {
     "data": {
      "text/plain": [
       "array(['Angle', ' CurrentLapTime', ' Damage', ' DistanceFromStart',\n",
       "       ' DistanceCovered', ' FuelLevel', ' Gear', ' LastLapTime',\n",
       "       ' Opponent_1', 'Opponent_2', 'Opponent_3', 'Opponent_4',\n",
       "       'Opponent_5', 'Opponent_6', 'Opponent_7', 'Opponent_8',\n",
       "       'Opponent_9', 'Opponent_10', 'Opponent_11', 'Opponent_12',\n",
       "       'Opponent_13', 'Opponent_14', 'Opponent_15', 'Opponent_16',\n",
       "       'Opponent_17', 'Opponent_18', 'Opponent_19', 'Opponent_20',\n",
       "       'Opponent_21', 'Opponent_22', 'Opponent_23', 'Opponent_24',\n",
       "       'Opponent_25', 'Opponent_26', 'Opponent_27', 'Opponent_28',\n",
       "       'Opponent_29', 'Opponent_30', 'Opponent_31', 'Opponent_32',\n",
       "       'Opponent_33', 'Opponent_34', 'Opponent_35', 'Opponent_36',\n",
       "       'RacePosition', ' RPM', ' SpeedX', ' SpeedY', ' SpeedZ',\n",
       "       ' Track_1', 'Track_2', 'Track_3', 'Track_4', 'Track_5', 'Track_6',\n",
       "       'Track_7', 'Track_8', 'Track_9', 'Track_10', 'Track_11',\n",
       "       'Track_12', 'Track_13', 'Track_14', 'Track_15', 'Track_16',\n",
       "       'Track_17', 'Track_18', 'Track_19', 'TrackPosition',\n",
       "       ' WheelSpinVelocity_1', 'WheelSpinVelocity_2',\n",
       "       'WheelSpinVelocity_3', 'WheelSpinVelocity_4', 'Z', ' Acceleration',\n",
       "       'Braking', 'Clutch', 'Gear', 'Steering'], dtype=object)"
      ]
     },
     "execution_count": 5,
     "metadata": {},
     "output_type": "execute_result"
    }
   ],
   "source": [
    "training_data.columns.values"
   ]
  },
  {
   "cell_type": "code",
   "execution_count": 6,
   "metadata": {},
   "outputs": [],
   "source": [
    "del training_data['Gear']\n",
    "del validation_data['Gear']\n",
    "del training_data[' CurrentLapTime']\n",
    "del validation_data[' CurrentLapTime']\n",
    "del training_data[' LastLapTime']\n",
    "del validation_data[' LastLapTime']\n",
    "del training_data[' Damage']\n",
    "del validation_data[' Damage']\n",
    "del training_data[' FuelLevel']\n",
    "del validation_data[' FuelLevel']\n",
    "\n",
    "del training_data[' DistanceFromStart']\n",
    "del validation_data[' DistanceFromStart']\n",
    "\n",
    "for col in [c for c in training_data.columns if c.strip()[:3] == \"Opp\"]:\n",
    "    del training_data[col]\n",
    "    del validation_data[col]"
   ]
  },
  {
   "cell_type": "code",
   "execution_count": 7,
   "metadata": {},
   "outputs": [
    {
     "name": "stdout",
     "output_type": "stream",
     "text": [
      "(89314, 37)\n",
      "(32481, 37)\n"
     ]
    }
   ],
   "source": [
    "print (training_data.shape)\n",
    "print (validation_data.shape)"
   ]
  },
  {
   "cell_type": "code",
   "execution_count": 8,
   "metadata": {},
   "outputs": [
    {
     "data": {
      "text/plain": [
       "Index(['Angle', ' DistanceCovered', ' Gear', 'RacePosition', ' RPM', ' SpeedX',\n",
       "       ' SpeedY', ' SpeedZ', ' Track_1', 'Track_2', 'Track_3', 'Track_4',\n",
       "       'Track_5', 'Track_6', 'Track_7', 'Track_8', 'Track_9', 'Track_10',\n",
       "       'Track_11', 'Track_12', 'Track_13', 'Track_14', 'Track_15', 'Track_16',\n",
       "       'Track_17', 'Track_18', 'Track_19', 'TrackPosition',\n",
       "       ' WheelSpinVelocity_1', 'WheelSpinVelocity_2', 'WheelSpinVelocity_3',\n",
       "       'WheelSpinVelocity_4', 'Z', ' Acceleration', 'Braking', 'Clutch',\n",
       "       'Steering'],\n",
       "      dtype='object')"
      ]
     },
     "execution_count": 8,
     "metadata": {},
     "output_type": "execute_result"
    }
   ],
   "source": [
    "training_data.columns"
   ]
  },
  {
   "cell_type": "markdown",
   "metadata": {},
   "source": [
    "## PI Model Training"
   ]
  },
  {
   "cell_type": "code",
   "execution_count": 17,
   "metadata": {},
   "outputs": [],
   "source": [
    "X_train=training_data.loc[:,[' Track_1',\n",
    "       'Track_2', 'Track_3', 'Track_4', 'Track_5', 'Track_6', 'Track_7',\n",
    "       'Track_8', 'Track_9', 'Track_10', 'Track_11', 'Track_12', 'Track_13',\n",
    "       'Track_14', 'Track_15', 'Track_16', 'Track_17', 'Track_18', 'Track_19', \n",
    "        'TrackPosition', 'Angle', ' RPM', ' SpeedX', ' SpeedY', ' SpeedZ',\n",
    "        ' WheelSpinVelocity_1', 'WheelSpinVelocity_2',\n",
    "       'WheelSpinVelocity_3', 'WheelSpinVelocity_4']]\n",
    "\n",
    "Y_train=training_data.loc[:,'Steering']\n",
    "X_val=validation_data.loc[:,[' Track_1',\n",
    "       'Track_2', 'Track_3', 'Track_4', 'Track_5', 'Track_6', 'Track_7',\n",
    "       'Track_8', 'Track_9', 'Track_10', 'Track_11', 'Track_12', 'Track_13',\n",
    "       'Track_14', 'Track_15', 'Track_16', 'Track_17', 'Track_18', 'Track_19', \n",
    "        'TrackPosition', 'Angle', ' RPM', ' SpeedX', ' SpeedY', ' SpeedZ',\n",
    "        ' WheelSpinVelocity_1', 'WheelSpinVelocity_2',\n",
    "       'WheelSpinVelocity_3', 'WheelSpinVelocity_4']]\n",
    "Y_val=validation_data.loc[:,'Steering']"
   ]
  },
  {
   "cell_type": "raw",
   "metadata": {},
   "source": [
    "X_train = X_train.values\n",
    "X_val = X_val.values\n",
    "Y_train = Y_train.values\n",
    "Y_val = Y_val.values"
   ]
  },
  {
   "cell_type": "code",
   "execution_count": 18,
   "metadata": {},
   "outputs": [
    {
     "name": "stdout",
     "output_type": "stream",
     "text": [
      "(89314, 29)\n",
      "(89314,)\n",
      "(32481, 29)\n",
      "(32481,)\n",
      "(89314, 29)\n",
      "(89314,)\n",
      "(32481, 29)\n",
      "(32481,)\n"
     ]
    }
   ],
   "source": [
    "print (X_train.shape)\n",
    "print (Y_train.shape)\n",
    "print (X_val.shape)\n",
    "print (Y_val.shape)\n",
    "scaler = StandardScaler()\n",
    "X_train=scaler.fit_transform(X_train)\n",
    "X_val=scaler.fit_transform(X_val)\n",
    "Y_train=Y_train.values\n",
    "Y_val=Y_val.values\n",
    "print (X_train.shape)\n",
    "print (Y_train.shape)\n",
    "print (X_val.shape)\n",
    "print (Y_val.shape)"
   ]
  },
  {
   "cell_type": "markdown",
   "metadata": {},
   "source": [
    "### Save these means and stds for test time"
   ]
  },
  {
   "cell_type": "code",
   "execution_count": 19,
   "metadata": {},
   "outputs": [
    {
     "data": {
      "text/plain": [
       "array([ 6.23587419e+00,  6.45218111e+00,  8.13249084e+00,  1.09136714e+01,\n",
       "        2.36498294e+01,  3.33202758e+01,  4.76669754e+01,  7.38933532e+01,\n",
       "        9.28386278e+01,  9.24716853e+01,  9.12184407e+01,  7.20783965e+01,\n",
       "        5.45163405e+01,  2.88340713e+01,  2.26921494e+01,  1.47066975e+01,\n",
       "        1.13430447e+01,  9.11415831e+00,  8.79383691e+00,  1.70044277e-01,\n",
       "       -9.66183569e-03,  8.07443712e+03,  1.71161504e+02, -1.53609404e+00,\n",
       "        5.35539538e-03,  1.42920466e+02,  1.42006019e+02,  1.47513013e+02,\n",
       "        1.46998831e+02])"
      ]
     },
     "execution_count": 19,
     "metadata": {},
     "output_type": "execute_result"
    }
   ],
   "source": [
    "scaler.mean_"
   ]
  },
  {
   "cell_type": "code",
   "execution_count": 20,
   "metadata": {},
   "outputs": [
    {
     "data": {
      "text/plain": [
       "array([3.05379468e+00, 3.17549254e+00, 3.99979306e+00, 5.34540239e+00,\n",
       "       2.47598904e+01, 2.68196644e+01, 2.61318622e+01, 3.59504734e+01,\n",
       "       5.81374551e+01, 5.72956387e+01, 5.62170639e+01, 3.96674107e+01,\n",
       "       3.55054036e+01, 9.66256135e+00, 6.15801086e+00, 4.73223824e+00,\n",
       "       3.87349352e+00, 3.18715810e+00, 3.06209410e+00, 4.06972296e-01,\n",
       "       6.39199327e-02, 8.51053513e+02, 4.15220398e+01, 3.52522537e+00,\n",
       "       4.47137643e+00, 3.46810093e+01, 3.56435823e+01, 3.47485826e+01,\n",
       "       3.52816510e+01])"
      ]
     },
     "execution_count": 20,
     "metadata": {},
     "output_type": "execute_result"
    }
   ],
   "source": [
    "scaler.scale_"
   ]
  },
  {
   "cell_type": "code",
   "execution_count": 21,
   "metadata": {},
   "outputs": [],
   "source": [
    "np.save(\"PI_model/means.npy\", scaler.mean_)\n",
    "np.save(\"PI_model/stds.npy\", scaler.scale_)"
   ]
  },
  {
   "cell_type": "code",
   "execution_count": 22,
   "metadata": {},
   "outputs": [],
   "source": [
    "@tf.function\n",
    "def get_max_dist(track_dists):\n",
    "    return tf.reduce_max(track_dists, axis=1)\n",
    "\n",
    "@tf.function\n",
    "def get_max_dist_idx(track_dists):\n",
    "    mask = track_dists[:, 9] != 200\n",
    "    mask = tf.cast(mask, tf.int32)\n",
    "    indices = tf.math.argmax(track_dists, output_type=tf.int32, axis=1)\n",
    "    arr1 = indices * mask\n",
    "    additional = tf.cast(track_dists[:, 9] == 200, tf.int32) * 9\n",
    "    result = arr1 + additional\n",
    "    \n",
    "    return result\n",
    "\n",
    "@tf.function\n",
    "def compute_target_angle(track_dists):\n",
    "\n",
    "    max_track_dist_idx = get_max_dist_idx(track_dists)\n",
    "\n",
    "    max_dist_angle = max_track_dist_idx * 10 - 90\n",
    "    return tf.cast(max_dist_angle, tf.float32) * RAD_PER_DEG\n",
    "\n",
    "@tf.function\n",
    "def compute_target_angle_2(angle_probs):\n",
    "\n",
    "    max_track_dist_idx = tf.math.argmax(angle_probs, output_type=tf.int32, axis=1)\n",
    "\n",
    "    max_dist_angle = max_track_dist_idx * 10 - 90\n",
    "    return tf.cast(max_dist_angle, tf.float32) * RAD_PER_DEG"
   ]
  },
  {
   "cell_type": "code",
   "execution_count": 23,
   "metadata": {},
   "outputs": [],
   "source": [
    "@tf.function\n",
    "def is_off_track(trackPos, angle):\n",
    "    return tf.abs(trackPos) > 1.0 and tf.abs(angle) > PI_HALF"
   ]
  },
  {
   "cell_type": "code",
   "execution_count": 24,
   "metadata": {},
   "outputs": [],
   "source": [
    "@tf.function\n",
    "def compute_steering(data):\n",
    "    \n",
    "    track, lookahead = data\n",
    "    track = (track * scaler.scale_[:19]) + scaler.mean_[:19]\n",
    "    target_angle = compute_target_angle(track)  # radians\n",
    "\n",
    "\n",
    "    raw_steering_angle_rad = -tf.math.atan(\n",
    "        PURE_PURSUIT_2L * tf.math.sin(target_angle) / (lookahead + 1e-7))\n",
    "\n",
    "    raw_steering_angle_deg = raw_steering_angle_rad * DEG_PER_RAD\n",
    "\n",
    "    normalized_steering_angle = tf.clip_by_value(raw_steering_angle_deg / MAX_STEERING_ANGLE_DEG, -1.0, 1.0)\n",
    "\n",
    "#     if EDGE_AVOIDANCE_ENABLED and not is_off_track(trackPos, angle):\n",
    "#         edge_steering_correction = 0.\n",
    "\n",
    "#         if trackPos > EDGE_MAX_TRACK_POS and angle < 0.005:  # too far left\n",
    "#             edge_steering_correction = -EDGE_STEERING_INPUT\n",
    "#         elif trackPos < -EDGE_MAX_TRACK_POS and track > -0.005:  # too far right\n",
    "#             edge_steering_correction = EDGE_STEERING_INPUT\n",
    "\n",
    "#         normalized_steering_angle += edge_steering_correction\n",
    "\n",
    "    return normalized_steering_angle"
   ]
  },
  {
   "cell_type": "raw",
   "metadata": {},
   "source": [
    "\n",
    "def custom_mse(data):\n",
    "    \n",
    "    def mse(y_true, y_preds):\n",
    "        track, lookahead = data\n",
    "        cost_1 = tf.reduce_mean(tf.pow(y_preds-y_true, 2))\n",
    "        cost_2 = tf.where(lookahead > track[:, 9], tf.ones([64,1]), tf.zeros([64,1]))\n",
    "        cost_2 = tf.reduce_sum(cost_2)\n",
    "        return cost_1 + cost_2\n",
    "    return mse"
   ]
  },
  {
   "cell_type": "code",
   "execution_count": 25,
   "metadata": {},
   "outputs": [],
   "source": [
    "from tensorflow.keras.callbacks import ReduceLROnPlateau\n",
    "reduce_lr = ReduceLROnPlateau(monitor='val_loss', factor=0.1,\n",
    "                              patience=1, min_delta=0.0003, min_lr=0)"
   ]
  },
  {
   "cell_type": "code",
   "execution_count": 31,
   "metadata": {
    "scrolled": true
   },
   "outputs": [],
   "source": [
    "learning_rate=3e-3\n",
    "\n",
    "input_p = Input(shape=(29,))\n",
    "l_p = Dense(16, activation=\"relu\",kernel_initializer='he_normal', name='dense_1')(input_p)\n",
    "l_p = Dense(8, activation=\"relu\",kernel_initializer='he_normal', name='dense_2')(l_p)\n",
    "lookahead = Dense(1, activation=\"relu\",kernel_initializer='he_normal', name='lookahead')(l_p)\n",
    "# angle_probs = Dense(19, activation=\"softmax\",kernel_initializer='he_normal')(l_p)\n",
    "\n",
    "out_p = Lambda(compute_steering, name='pp_based_steering')([input_p[:,0:19], lookahead[:,0]])\n",
    "\n",
    "\n",
    "model = tf.keras.Model(input_p, [out_p, lookahead])\n",
    "\n",
    "model.compile(optimizer=Adam(learning_rate),loss='mean_squared_error',metrics=['mae'],\n",
    "             loss_weights=[1, 0])\n"
   ]
  },
  {
   "cell_type": "code",
   "execution_count": 27,
   "metadata": {},
   "outputs": [
    {
     "name": "stdout",
     "output_type": "stream",
     "text": [
      "1/1 [==============================] - 0s 443ms/step\n"
     ]
    },
    {
     "name": "stderr",
     "output_type": "stream",
     "text": [
      "2023-05-15 04:00:49.407702: I tensorflow/compiler/xla/stream_executor/cuda/cuda_blas.cc:637] TensorFloat-32 will be used for the matrix multiplication. This will only be logged once.\n"
     ]
    },
    {
     "data": {
      "text/plain": [
       "[array([1.], dtype=float32), array([[0.]], dtype=float32)]"
      ]
     },
     "execution_count": 27,
     "metadata": {},
     "output_type": "execute_result"
    }
   ],
   "source": [
    "model.predict(X_train[0].reshape((-1,29)))"
   ]
  },
  {
   "cell_type": "code",
   "execution_count": 73,
   "metadata": {
    "scrolled": true
   },
   "outputs": [
    {
     "name": "stdout",
     "output_type": "stream",
     "text": [
      "Epoch 1/500\n"
     ]
    },
    {
     "name": "stderr",
     "output_type": "stream",
     "text": [
      "2023-05-15 02:12:18.101505: I tensorflow/core/common_runtime/executor.cc:1197] [/device:CPU:0] (DEBUG INFO) Executor start aborting (this does not indicate an error and you can ignore this message): INVALID_ARGUMENT: You must feed a value for placeholder tensor 'tf.range_12/range/mse/weighted_loss/Const_1' with dtype int32\n",
      "\t [[{{node tf.range_12/range/mse/weighted_loss/Const_1}}]]\n",
      "2023-05-15 02:12:18.118070: I tensorflow/core/common_runtime/executor.cc:1197] [/device:CPU:0] (DEBUG INFO) Executor start aborting (this does not indicate an error and you can ignore this message): INVALID_ARGUMENT: You must feed a value for placeholder tensor 'tf.range_13/range/mse/weighted_loss/Const_2' with dtype int32\n",
      "\t [[{{node tf.range_13/range/mse/weighted_loss/Const_2}}]]\n"
     ]
    },
    {
     "ename": "TypeError",
     "evalue": "in user code:\n\n    File \"/home/cognitia/miniconda3/envs/tf/lib/python3.9/site-packages/keras/engine/training.py\", line 1284, in train_function  *\n        return step_function(self, iterator)\n    File \"/home/cognitia/miniconda3/envs/tf/lib/python3.9/site-packages/keras/engine/training.py\", line 1268, in step_function  **\n        outputs = model.distribute_strategy.run(run_step, args=(data,))\n    File \"/home/cognitia/miniconda3/envs/tf/lib/python3.9/site-packages/keras/engine/training.py\", line 1249, in run_step  **\n        outputs = model.train_step(data)\n    File \"/home/cognitia/miniconda3/envs/tf/lib/python3.9/site-packages/keras/engine/training.py\", line 1051, in train_step\n        loss = self.compute_loss(x, y, y_pred, sample_weight)\n    File \"/home/cognitia/miniconda3/envs/tf/lib/python3.9/site-packages/keras/engine/training.py\", line 1109, in compute_loss\n        return self.compiled_loss(\n    File \"/home/cognitia/miniconda3/envs/tf/lib/python3.9/site-packages/keras/engine/compile_utils.py\", line 282, in __call__\n        metric_obj.update_state(\n    File \"/home/cognitia/miniconda3/envs/tf/lib/python3.9/site-packages/keras/utils/metrics_utils.py\", line 77, in decorated\n        update_op = update_state_fn(*args, **kwargs)\n    File \"/home/cognitia/miniconda3/envs/tf/lib/python3.9/site-packages/keras/metrics/base_metric.py\", line 140, in update_state_fn\n        return ag_update_state(*args, **kwargs)\n    File \"/home/cognitia/miniconda3/envs/tf/lib/python3.9/site-packages/keras/metrics/base_metric.py\", line 477, in update_state  **\n        sample_weight = tf.__internal__.ops.broadcast_weights(\n    File \"/home/cognitia/miniconda3/envs/tf/lib/python3.9/site-packages/keras/engine/keras_tensor.py\", line 283, in __array__\n        raise TypeError(\n\n    TypeError: You are passing KerasTensor(type_spec=TensorSpec(shape=(), dtype=tf.float32, name=None), name='Placeholder:0', description=\"created by layer 'tf.cast_15'\"), an intermediate Keras symbolic input/output, to a TF API that does not allow registering custom dispatchers, such as `tf.cond`, `tf.function`, gradient tapes, or `tf.map_fn`. Keras Functional model construction only supports TF API calls that *do* support dispatching, such as `tf.math.add` or `tf.reshape`. Other APIs cannot be called directly on symbolic Kerasinputs/outputs. You can work around this limitation by putting the operation in a custom Keras layer `call` and calling that layer on this symbolic input/output.\n",
     "output_type": "error",
     "traceback": [
      "\u001b[0;31m---------------------------------------------------------------------------\u001b[0m",
      "\u001b[0;31mTypeError\u001b[0m                                 Traceback (most recent call last)",
      "Cell \u001b[0;32mIn[73], line 1\u001b[0m\n\u001b[0;32m----> 1\u001b[0m \u001b[43mmodel\u001b[49m\u001b[38;5;241;43m.\u001b[39;49m\u001b[43mfit\u001b[49m\u001b[43m(\u001b[49m\u001b[43mX_train\u001b[49m\u001b[43m,\u001b[49m\u001b[43mY_train\u001b[49m\u001b[43m,\u001b[49m\u001b[43mvalidation_data\u001b[49m\u001b[38;5;241;43m=\u001b[39;49m\u001b[43m(\u001b[49m\u001b[43mX_val\u001b[49m\u001b[43m,\u001b[49m\u001b[43mY_val\u001b[49m\u001b[43m)\u001b[49m\u001b[43m,\u001b[49m\u001b[43mbatch_size\u001b[49m\u001b[38;5;241;43m=\u001b[39;49m\u001b[38;5;241;43m64\u001b[39;49m\u001b[43m,\u001b[49m\u001b[43mepochs\u001b[49m\u001b[38;5;241;43m=\u001b[39;49m\u001b[38;5;241;43m500\u001b[39;49m\u001b[43m,\u001b[49m\u001b[43mcallbacks\u001b[49m\u001b[38;5;241;43m=\u001b[39;49m\u001b[43m[\u001b[49m\u001b[43mreduce_lr\u001b[49m\u001b[43m]\u001b[49m\u001b[43m)\u001b[49m\n",
      "File \u001b[0;32m~/miniconda3/envs/tf/lib/python3.9/site-packages/keras/utils/traceback_utils.py:70\u001b[0m, in \u001b[0;36mfilter_traceback.<locals>.error_handler\u001b[0;34m(*args, **kwargs)\u001b[0m\n\u001b[1;32m     67\u001b[0m     filtered_tb \u001b[38;5;241m=\u001b[39m _process_traceback_frames(e\u001b[38;5;241m.\u001b[39m__traceback__)\n\u001b[1;32m     68\u001b[0m     \u001b[38;5;66;03m# To get the full stack trace, call:\u001b[39;00m\n\u001b[1;32m     69\u001b[0m     \u001b[38;5;66;03m# `tf.debugging.disable_traceback_filtering()`\u001b[39;00m\n\u001b[0;32m---> 70\u001b[0m     \u001b[38;5;28;01mraise\u001b[39;00m e\u001b[38;5;241m.\u001b[39mwith_traceback(filtered_tb) \u001b[38;5;28;01mfrom\u001b[39;00m \u001b[38;5;28;01mNone\u001b[39;00m\n\u001b[1;32m     71\u001b[0m \u001b[38;5;28;01mfinally\u001b[39;00m:\n\u001b[1;32m     72\u001b[0m     \u001b[38;5;28;01mdel\u001b[39;00m filtered_tb\n",
      "File \u001b[0;32m/tmp/__autograph_generated_file7jee9rgk.py:15\u001b[0m, in \u001b[0;36mouter_factory.<locals>.inner_factory.<locals>.tf__train_function\u001b[0;34m(iterator)\u001b[0m\n\u001b[1;32m     13\u001b[0m \u001b[38;5;28;01mtry\u001b[39;00m:\n\u001b[1;32m     14\u001b[0m     do_return \u001b[38;5;241m=\u001b[39m \u001b[38;5;28;01mTrue\u001b[39;00m\n\u001b[0;32m---> 15\u001b[0m     retval_ \u001b[38;5;241m=\u001b[39m ag__\u001b[38;5;241m.\u001b[39mconverted_call(ag__\u001b[38;5;241m.\u001b[39mld(step_function), (ag__\u001b[38;5;241m.\u001b[39mld(\u001b[38;5;28mself\u001b[39m), ag__\u001b[38;5;241m.\u001b[39mld(iterator)), \u001b[38;5;28;01mNone\u001b[39;00m, fscope)\n\u001b[1;32m     16\u001b[0m \u001b[38;5;28;01mexcept\u001b[39;00m:\n\u001b[1;32m     17\u001b[0m     do_return \u001b[38;5;241m=\u001b[39m \u001b[38;5;28;01mFalse\u001b[39;00m\n",
      "\u001b[0;31mTypeError\u001b[0m: in user code:\n\n    File \"/home/cognitia/miniconda3/envs/tf/lib/python3.9/site-packages/keras/engine/training.py\", line 1284, in train_function  *\n        return step_function(self, iterator)\n    File \"/home/cognitia/miniconda3/envs/tf/lib/python3.9/site-packages/keras/engine/training.py\", line 1268, in step_function  **\n        outputs = model.distribute_strategy.run(run_step, args=(data,))\n    File \"/home/cognitia/miniconda3/envs/tf/lib/python3.9/site-packages/keras/engine/training.py\", line 1249, in run_step  **\n        outputs = model.train_step(data)\n    File \"/home/cognitia/miniconda3/envs/tf/lib/python3.9/site-packages/keras/engine/training.py\", line 1051, in train_step\n        loss = self.compute_loss(x, y, y_pred, sample_weight)\n    File \"/home/cognitia/miniconda3/envs/tf/lib/python3.9/site-packages/keras/engine/training.py\", line 1109, in compute_loss\n        return self.compiled_loss(\n    File \"/home/cognitia/miniconda3/envs/tf/lib/python3.9/site-packages/keras/engine/compile_utils.py\", line 282, in __call__\n        metric_obj.update_state(\n    File \"/home/cognitia/miniconda3/envs/tf/lib/python3.9/site-packages/keras/utils/metrics_utils.py\", line 77, in decorated\n        update_op = update_state_fn(*args, **kwargs)\n    File \"/home/cognitia/miniconda3/envs/tf/lib/python3.9/site-packages/keras/metrics/base_metric.py\", line 140, in update_state_fn\n        return ag_update_state(*args, **kwargs)\n    File \"/home/cognitia/miniconda3/envs/tf/lib/python3.9/site-packages/keras/metrics/base_metric.py\", line 477, in update_state  **\n        sample_weight = tf.__internal__.ops.broadcast_weights(\n    File \"/home/cognitia/miniconda3/envs/tf/lib/python3.9/site-packages/keras/engine/keras_tensor.py\", line 283, in __array__\n        raise TypeError(\n\n    TypeError: You are passing KerasTensor(type_spec=TensorSpec(shape=(), dtype=tf.float32, name=None), name='Placeholder:0', description=\"created by layer 'tf.cast_15'\"), an intermediate Keras symbolic input/output, to a TF API that does not allow registering custom dispatchers, such as `tf.cond`, `tf.function`, gradient tapes, or `tf.map_fn`. Keras Functional model construction only supports TF API calls that *do* support dispatching, such as `tf.math.add` or `tf.reshape`. Other APIs cannot be called directly on symbolic Kerasinputs/outputs. You can work around this limitation by putting the operation in a custom Keras layer `call` and calling that layer on this symbolic input/output.\n"
     ]
    }
   ],
   "source": [
    "model.fit(X_train,Y_train,validation_data=(X_val,Y_val),batch_size=64,epochs=500,callbacks=[reduce_lr])"
   ]
  },
  {
   "cell_type": "code",
   "execution_count": 22,
   "metadata": {},
   "outputs": [
    {
     "name": "stdout",
     "output_type": "stream",
     "text": [
      "1016/1016 [==============================] - 1s 654us/step\n"
     ]
    }
   ],
   "source": [
    "preds = model.predict(X_val)\n"
   ]
  },
  {
   "cell_type": "code",
   "execution_count": 47,
   "metadata": {},
   "outputs": [
    {
     "data": {
      "text/plain": [
       "(array([ 483., 3723., 9525., 6747., 3419., 3469., 1019., 2079., 1414.,\n",
       "         603.]),\n",
       " array([-0.16071151, -0.10669406, -0.05267661,  0.00134085,  0.0553583 ,\n",
       "         0.10937575,  0.1633932 ,  0.21741065,  0.27142811,  0.32544556,\n",
       "         0.37946302]),\n",
       " <BarContainer object of 10 artists>)"
      ]
     },
     "execution_count": 47,
     "metadata": {},
     "output_type": "execute_result"
    },
    {
     "data": {
      "image/png": "[encoded data removed]",
      "text/plain": [
       "<Figure size 640x480 with 1 Axes>"
      ]
     },
     "metadata": {},
     "output_type": "display_data"
    }
   ],
   "source": [
    "plt.hist(preds[0])"
   ]
  },
  {
   "cell_type": "code",
   "execution_count": 32,
   "metadata": {},
   "outputs": [],
   "source": [
    "model.save(\"PI_model/model.h5\")"
   ]
  },
  {
   "cell_type": "code",
   "execution_count": 33,
   "metadata": {},
   "outputs": [],
   "source": [
    "model = load_model(\"PI_model/model.h5\", custom_objects={'compute_steering': compute_steering,\n",
    "                                                               'compute_target_angle': compute_target_angle,\n",
    "                                                               'get_max_dist_idx': get_max_dist_idx})"
   ]
  },
  {
   "cell_type": "code",
   "execution_count": 34,
   "metadata": {},
   "outputs": [
    {
     "data": {
      "image/png": "[encoded data removed]",
      "text/plain": [
       "<IPython.core.display.Image object>"
      ]
     },
     "execution_count": 34,
     "metadata": {},
     "output_type": "execute_result"
    }
   ],
   "source": [
    "tf.keras.utils.plot_model(model)"
   ]
  },
  {
   "cell_type": "code",
   "execution_count": null,
   "metadata": {},
   "outputs": [],
   "source": []
  },
  {
   "cell_type": "code",
   "execution_count": null,
   "metadata": {},
   "outputs": [],
   "source": []
  },
  {
   "cell_type": "code",
   "execution_count": null,
   "metadata": {},
   "outputs": [],
   "source": []
  },
  {
   "cell_type": "code",
   "execution_count": null,
   "metadata": {},
   "outputs": [],
   "source": []
  },
  {
   "cell_type": "code",
   "execution_count": null,
   "metadata": {},
   "outputs": [],
   "source": []
  },
  {
   "cell_type": "markdown",
   "metadata": {},
   "source": [
    "## DNN training"
   ]
  },
  {
   "cell_type": "code",
   "execution_count": 9,
   "metadata": {},
   "outputs": [
    {
     "data": {
      "text/plain": [
       "Index(['Angle', ' DistanceCovered', ' Gear', 'RacePosition', ' RPM', ' SpeedX',\n",
       "       ' SpeedY', ' SpeedZ', ' Track_1', 'Track_2', 'Track_3', 'Track_4',\n",
       "       'Track_5', 'Track_6', 'Track_7', 'Track_8', 'Track_9', 'Track_10',\n",
       "       'Track_11', 'Track_12', 'Track_13', 'Track_14', 'Track_15', 'Track_16',\n",
       "       'Track_17', 'Track_18', 'Track_19', 'TrackPosition',\n",
       "       ' WheelSpinVelocity_1', 'WheelSpinVelocity_2', 'WheelSpinVelocity_3',\n",
       "       'WheelSpinVelocity_4', 'Z', ' Acceleration', 'Braking', 'Clutch',\n",
       "       'Steering'],\n",
       "      dtype='object')"
      ]
     },
     "execution_count": 9,
     "metadata": {},
     "output_type": "execute_result"
    }
   ],
   "source": [
    "training_data.columns"
   ]
  },
  {
   "cell_type": "code",
   "execution_count": 10,
   "metadata": {},
   "outputs": [],
   "source": [
    "X_train=training_data.loc[:,'Angle':'Z']\n",
    "Y_train=training_data.loc[:,' Acceleration':'Steering']\n",
    "X_val=validation_data.loc[:,'Angle':'Z']\n",
    "Y_val=validation_data.loc[:,' Acceleration':'Steering']"
   ]
  },
  {
   "cell_type": "raw",
   "metadata": {},
   "source": [
    "X_train = X_train.values\n",
    "X_val = X_val.values\n",
    "Y_train = Y_train.values\n",
    "Y_val = Y_val.values"
   ]
  },
  {
   "cell_type": "code",
   "execution_count": 11,
   "metadata": {},
   "outputs": [
    {
     "name": "stdout",
     "output_type": "stream",
     "text": [
      "(89314, 33)\n",
      "(89314, 4)\n",
      "(32481, 33)\n",
      "(32481, 4)\n",
      "(89314, 33)\n",
      "(89314, 4)\n",
      "(32481, 33)\n",
      "(32481, 4)\n"
     ]
    }
   ],
   "source": [
    "print (X_train.shape)\n",
    "print (Y_train.shape)\n",
    "print (X_val.shape)\n",
    "print (Y_val.shape)\n",
    "scaler = StandardScaler()\n",
    "X_train=scaler.fit_transform(X_train)\n",
    "X_val=scaler.fit_transform(X_val)\n",
    "Y_train=Y_train.values\n",
    "Y_val=Y_val.values\n",
    "print (X_train.shape)\n",
    "print (Y_train.shape)\n",
    "print (X_val.shape)\n",
    "print (Y_val.shape)"
   ]
  },
  {
   "cell_type": "markdown",
   "metadata": {},
   "source": [
    "### Save these means and stds for test time"
   ]
  },
  {
   "cell_type": "code",
   "execution_count": 12,
   "metadata": {},
   "outputs": [
    {
     "data": {
      "text/plain": [
       "array([-9.66183569e-03,  4.08147864e+03,  3.52523013e+00,  1.00000000e+00,\n",
       "        8.07443712e+03,  1.71161504e+02, -1.53609404e+00,  5.35539538e-03,\n",
       "        6.23587419e+00,  6.45218111e+00,  8.13249084e+00,  1.09136714e+01,\n",
       "        2.36498294e+01,  3.33202758e+01,  4.76669754e+01,  7.38933532e+01,\n",
       "        9.28386278e+01,  9.24716853e+01,  9.12184407e+01,  7.20783965e+01,\n",
       "        5.45163405e+01,  2.88340713e+01,  2.26921494e+01,  1.47066975e+01,\n",
       "        1.13430447e+01,  9.11415831e+00,  8.79383691e+00,  1.70044277e-01,\n",
       "        1.42920466e+02,  1.42006019e+02,  1.47513013e+02,  1.46998831e+02,\n",
       "        3.27394347e-01])"
      ]
     },
     "execution_count": 12,
     "metadata": {},
     "output_type": "execute_result"
    }
   ],
   "source": [
    "scaler.mean_"
   ]
  },
  {
   "cell_type": "code",
   "execution_count": 13,
   "metadata": {},
   "outputs": [
    {
     "data": {
      "text/plain": [
       "array([6.39199327e-02, 2.45329763e+03, 8.15281035e-01, 1.00000000e+00,\n",
       "       8.51053513e+02, 4.15220398e+01, 3.52522537e+00, 4.47137643e+00,\n",
       "       3.05379468e+00, 3.17549254e+00, 3.99979306e+00, 5.34540239e+00,\n",
       "       2.47598904e+01, 2.68196644e+01, 2.61318622e+01, 3.59504734e+01,\n",
       "       5.81374551e+01, 5.72956387e+01, 5.62170639e+01, 3.96674107e+01,\n",
       "       3.55054036e+01, 9.66256135e+00, 6.15801086e+00, 4.73223824e+00,\n",
       "       3.87349352e+00, 3.18715810e+00, 3.06209410e+00, 4.06972296e-01,\n",
       "       3.46810093e+01, 3.56435823e+01, 3.47485826e+01, 3.52816510e+01,\n",
       "       9.71540572e-03])"
      ]
     },
     "execution_count": 13,
     "metadata": {},
     "output_type": "execute_result"
    }
   ],
   "source": [
    "scaler.scale_"
   ]
  },
  {
   "cell_type": "code",
   "execution_count": 14,
   "metadata": {},
   "outputs": [],
   "source": [
    "np.save(\"DNN_model/means.npy\", scaler.mean_)\n",
    "np.save(\"DNN_model/stds.npy\", scaler.scale_)"
   ]
  },
  {
   "cell_type": "code",
   "execution_count": 15,
   "metadata": {},
   "outputs": [
    {
     "name": "stdout",
     "output_type": "stream",
     "text": [
      "WARNING:tensorflow:`epsilon` argument is deprecated and will be removed, use `min_delta` instead.\n"
     ]
    }
   ],
   "source": [
    "from tensorflow.keras.callbacks import ReduceLROnPlateau\n",
    "reduce_lr = ReduceLROnPlateau(monitor='val_loss', factor=0.5,\n",
    "                              patience=10,epsilon=0.0003, min_lr=0)"
   ]
  },
  {
   "cell_type": "code",
   "execution_count": 16,
   "metadata": {
    "scrolled": true
   },
   "outputs": [
    {
     "name": "stderr",
     "output_type": "stream",
     "text": [
      "2023-05-15 02:23:06.039574: I tensorflow/compiler/xla/stream_executor/cuda/cuda_gpu_executor.cc:996] successful NUMA node read from SysFS had negative value (-1), but there must be at least one NUMA node, so returning NUMA node zero. See more at https://github.com/torvalds/linux/blob/v6.0/Documentation/ABI/testing/sysfs-bus-pci#L344-L355\n",
      "2023-05-15 02:23:06.044238: I tensorflow/compiler/xla/stream_executor/cuda/cuda_gpu_executor.cc:996] successful NUMA node read from SysFS had negative value (-1), but there must be at least one NUMA node, so returning NUMA node zero. See more at https://github.com/torvalds/linux/blob/v6.0/Documentation/ABI/testing/sysfs-bus-pci#L344-L355\n",
      "2023-05-15 02:23:06.044372: I tensorflow/compiler/xla/stream_executor/cuda/cuda_gpu_executor.cc:996] successful NUMA node read from SysFS had negative value (-1), but there must be at least one NUMA node, so returning NUMA node zero. See more at https://github.com/torvalds/linux/blob/v6.0/Documentation/ABI/testing/sysfs-bus-pci#L344-L355\n",
      "2023-05-15 02:23:06.045394: I tensorflow/compiler/xla/stream_executor/cuda/cuda_gpu_executor.cc:996] successful NUMA node read from SysFS had negative value (-1), but there must be at least one NUMA node, so returning NUMA node zero. See more at https://github.com/torvalds/linux/blob/v6.0/Documentation/ABI/testing/sysfs-bus-pci#L344-L355\n",
      "2023-05-15 02:23:06.045581: I tensorflow/compiler/xla/stream_executor/cuda/cuda_gpu_executor.cc:996] successful NUMA node read from SysFS had negative value (-1), but there must be at least one NUMA node, so returning NUMA node zero. See more at https://github.com/torvalds/linux/blob/v6.0/Documentation/ABI/testing/sysfs-bus-pci#L344-L355\n",
      "2023-05-15 02:23:06.045664: I tensorflow/compiler/xla/stream_executor/cuda/cuda_gpu_executor.cc:996] successful NUMA node read from SysFS had negative value (-1), but there must be at least one NUMA node, so returning NUMA node zero. See more at https://github.com/torvalds/linux/blob/v6.0/Documentation/ABI/testing/sysfs-bus-pci#L344-L355\n",
      "2023-05-15 02:23:06.412467: I tensorflow/compiler/xla/stream_executor/cuda/cuda_gpu_executor.cc:996] successful NUMA node read from SysFS had negative value (-1), but there must be at least one NUMA node, so returning NUMA node zero. See more at https://github.com/torvalds/linux/blob/v6.0/Documentation/ABI/testing/sysfs-bus-pci#L344-L355\n",
      "2023-05-15 02:23:06.412607: I tensorflow/compiler/xla/stream_executor/cuda/cuda_gpu_executor.cc:996] successful NUMA node read from SysFS had negative value (-1), but there must be at least one NUMA node, so returning NUMA node zero. See more at https://github.com/torvalds/linux/blob/v6.0/Documentation/ABI/testing/sysfs-bus-pci#L344-L355\n",
      "2023-05-15 02:23:06.412694: I tensorflow/compiler/xla/stream_executor/cuda/cuda_gpu_executor.cc:996] successful NUMA node read from SysFS had negative value (-1), but there must be at least one NUMA node, so returning NUMA node zero. See more at https://github.com/torvalds/linux/blob/v6.0/Documentation/ABI/testing/sysfs-bus-pci#L344-L355\n",
      "2023-05-15 02:23:06.412762: I tensorflow/core/common_runtime/gpu/gpu_device.cc:1635] Created device /job:localhost/replica:0/task:0/device:GPU:0 with 9986 MB memory:  -> device: 0, name: NVIDIA GeForce RTX 3060, pci bus id: 0000:01:00.0, compute capability: 8.6\n"
     ]
    }
   ],
   "source": [
    "learning_rate=3e-3\n",
    "output_dim=Y_train.shape[1]\n",
    "model=Sequential()\n",
    "model.add(Dense(16\n",
    "                ,input_shape=(X_train.shape[1],),activation='relu',kernel_initializer='he_normal'))\n",
    "# model.add(Dense(512,activation='relu',kernel_initializer='he_normal'))\n",
    "# model.add(Dense(256,activation='relu',kernel_initializer='he_normal'))\n",
    "# model.add(Dense(128,activation='relu',kernel_initializer='he_normal'))\n",
    "# model.add(Dense(64,activation='relu',kernel_initializer='he_normal'))\n",
    "# model.add(Dense(32,activation='relu',kernel_initializer='he_normal'))\n",
    "# model.add(Dense(16,activation='relu',kernel_initializer='he_normal'))\n",
    "model.add(Dense(8,activation='relu',kernel_initializer='he_normal'))\n",
    "model.add(Dense(4,kernel_initializer='he_normal'))\n",
    "model.compile(optimizer=Adam(learning_rate),loss='mean_squared_error',metrics=['mae'])\n"
   ]
  },
  {
   "cell_type": "code",
   "execution_count": 17,
   "metadata": {
    "scrolled": true
   },
   "outputs": [
    {
     "name": "stdout",
     "output_type": "stream",
     "text": [
      "Epoch 1/500\n"
     ]
    },
    {
     "name": "stderr",
     "output_type": "stream",
     "text": [
      "2023-05-15 02:23:07.347795: I tensorflow/compiler/xla/stream_executor/cuda/cuda_blas.cc:637] TensorFloat-32 will be used for the matrix multiplication. This will only be logged once.\n",
      "2023-05-15 02:23:07.349591: I tensorflow/compiler/xla/service/service.cc:169] XLA service 0x24551a80 initialized for platform CUDA (this does not guarantee that XLA will be used). Devices:\n",
      "2023-05-15 02:23:07.349605: I tensorflow/compiler/xla/service/service.cc:177]   StreamExecutor device (0): NVIDIA GeForce RTX 3060, Compute Capability 8.6\n",
      "2023-05-15 02:23:07.352708: I tensorflow/compiler/mlir/tensorflow/utils/dump_mlir_util.cc:269] disabling MLIR crash reproducer, set env var `MLIR_CRASH_REPRODUCER_DIRECTORY` to enable.\n",
      "2023-05-15 02:23:07.446739: I tensorflow/compiler/xla/stream_executor/cuda/cuda_dnn.cc:424] Loaded cuDNN version 8900\n",
      "2023-05-15 02:23:07.541586: I ./tensorflow/compiler/jit/device_compiler.h:180] Compiled cluster using XLA!  This line is logged at most once for the lifetime of the process.\n"
     ]
    },
    {
     "name": "stdout",
     "output_type": "stream",
     "text": [
      "349/349 [==============================] - 2s 2ms/step - loss: 0.1530 - mae: 0.2049 - val_loss: 0.0249 - val_mae: 0.0955 - lr: 0.0030\n",
      "Epoch 2/500\n",
      "349/349 [==============================] - 0s 1ms/step - loss: 0.0205 - mae: 0.0837 - val_loss: 0.0174 - val_mae: 0.0765 - lr: 0.0030\n",
      "Epoch 3/500\n",
      "349/349 [==============================] - 1s 1ms/step - loss: 0.0153 - mae: 0.0712 - val_loss: 0.0134 - val_mae: 0.0664 - lr: 0.0030\n",
      "Epoch 4/500\n",
      "349/349 [==============================] - 1s 1ms/step - loss: 0.0121 - mae: 0.0627 - val_loss: 0.0109 - val_mae: 0.0597 - lr: 0.0030\n",
      "Epoch 5/500\n",
      "349/349 [==============================] - 0s 1ms/step - loss: 0.0101 - mae: 0.0572 - val_loss: 0.0095 - val_mae: 0.0554 - lr: 0.0030\n",
      "Epoch 6/500\n",
      "349/349 [==============================] - 1s 1ms/step - loss: 0.0090 - mae: 0.0539 - val_loss: 0.0085 - val_mae: 0.0524 - lr: 0.0030\n",
      "Epoch 7/500\n",
      "349/349 [==============================] - 1s 1ms/step - loss: 0.0081 - mae: 0.0513 - val_loss: 0.0077 - val_mae: 0.0499 - lr: 0.0030\n",
      "Epoch 8/500\n",
      "349/349 [==============================] - 1s 1ms/step - loss: 0.0073 - mae: 0.0483 - val_loss: 0.0069 - val_mae: 0.0465 - lr: 0.0030\n",
      "Epoch 9/500\n",
      "349/349 [==============================] - 1s 1ms/step - loss: 0.0067 - mae: 0.0457 - val_loss: 0.0065 - val_mae: 0.0444 - lr: 0.0030\n",
      "Epoch 10/500\n",
      "349/349 [==============================] - 0s 1ms/step - loss: 0.0063 - mae: 0.0437 - val_loss: 0.0060 - val_mae: 0.0418 - lr: 0.0030\n",
      "Epoch 11/500\n",
      "349/349 [==============================] - 0s 1ms/step - loss: 0.0060 - mae: 0.0424 - val_loss: 0.0059 - val_mae: 0.0428 - lr: 0.0030\n",
      "Epoch 12/500\n",
      "349/349 [==============================] - 0s 1ms/step - loss: 0.0058 - mae: 0.0414 - val_loss: 0.0056 - val_mae: 0.0409 - lr: 0.0030\n",
      "Epoch 13/500\n",
      "349/349 [==============================] - 0s 1ms/step - loss: 0.0057 - mae: 0.0407 - val_loss: 0.0054 - val_mae: 0.0399 - lr: 0.0030\n",
      "Epoch 14/500\n",
      "349/349 [==============================] - 0s 1ms/step - loss: 0.0054 - mae: 0.0393 - val_loss: 0.0054 - val_mae: 0.0398 - lr: 0.0030\n",
      "Epoch 15/500\n",
      "349/349 [==============================] - 1s 1ms/step - loss: 0.0053 - mae: 0.0386 - val_loss: 0.0051 - val_mae: 0.0378 - lr: 0.0030\n",
      "Epoch 16/500\n",
      "349/349 [==============================] - 1s 1ms/step - loss: 0.0050 - mae: 0.0372 - val_loss: 0.0048 - val_mae: 0.0362 - lr: 0.0030\n",
      "Epoch 17/500\n",
      "349/349 [==============================] - 1s 1ms/step - loss: 0.0050 - mae: 0.0368 - val_loss: 0.0048 - val_mae: 0.0350 - lr: 0.0030\n",
      "Epoch 18/500\n",
      "349/349 [==============================] - 1s 1ms/step - loss: 0.0047 - mae: 0.0356 - val_loss: 0.0045 - val_mae: 0.0345 - lr: 0.0030\n",
      "Epoch 19/500\n",
      "349/349 [==============================] - 1s 1ms/step - loss: 0.0047 - mae: 0.0353 - val_loss: 0.0048 - val_mae: 0.0345 - lr: 0.0030\n",
      "Epoch 20/500\n",
      "349/349 [==============================] - 1s 1ms/step - loss: 0.0046 - mae: 0.0345 - val_loss: 0.0045 - val_mae: 0.0343 - lr: 0.0030\n",
      "Epoch 21/500\n",
      "349/349 [==============================] - 1s 1ms/step - loss: 0.0045 - mae: 0.0343 - val_loss: 0.0042 - val_mae: 0.0330 - lr: 0.0030\n",
      "Epoch 22/500\n",
      "349/349 [==============================] - 1s 1ms/step - loss: 0.0045 - mae: 0.0339 - val_loss: 0.0047 - val_mae: 0.0343 - lr: 0.0030\n",
      "Epoch 23/500\n",
      "349/349 [==============================] - 1s 1ms/step - loss: 0.0044 - mae: 0.0336 - val_loss: 0.0045 - val_mae: 0.0340 - lr: 0.0030\n",
      "Epoch 24/500\n",
      "349/349 [==============================] - 1s 1ms/step - loss: 0.0043 - mae: 0.0332 - val_loss: 0.0043 - val_mae: 0.0333 - lr: 0.0030\n",
      "Epoch 25/500\n",
      "349/349 [==============================] - 1s 1ms/step - loss: 0.0043 - mae: 0.0331 - val_loss: 0.0042 - val_mae: 0.0324 - lr: 0.0030\n",
      "Epoch 26/500\n",
      "349/349 [==============================] - 1s 1ms/step - loss: 0.0042 - mae: 0.0328 - val_loss: 0.0044 - val_mae: 0.0333 - lr: 0.0030\n",
      "Epoch 27/500\n",
      "349/349 [==============================] - 1s 1ms/step - loss: 0.0041 - mae: 0.0324 - val_loss: 0.0042 - val_mae: 0.0332 - lr: 0.0030\n",
      "Epoch 28/500\n",
      "349/349 [==============================] - 1s 1ms/step - loss: 0.0041 - mae: 0.0323 - val_loss: 0.0039 - val_mae: 0.0317 - lr: 0.0030\n",
      "Epoch 29/500\n",
      "349/349 [==============================] - 0s 1ms/step - loss: 0.0041 - mae: 0.0320 - val_loss: 0.0040 - val_mae: 0.0321 - lr: 0.0030\n",
      "Epoch 30/500\n",
      "349/349 [==============================] - 1s 1ms/step - loss: 0.0040 - mae: 0.0320 - val_loss: 0.0038 - val_mae: 0.0310 - lr: 0.0030\n",
      "Epoch 31/500\n",
      "349/349 [==============================] - 1s 1ms/step - loss: 0.0040 - mae: 0.0318 - val_loss: 0.0039 - val_mae: 0.0319 - lr: 0.0030\n",
      "Epoch 32/500\n",
      "349/349 [==============================] - 1s 1ms/step - loss: 0.0039 - mae: 0.0315 - val_loss: 0.0038 - val_mae: 0.0307 - lr: 0.0030\n",
      "Epoch 33/500\n",
      "349/349 [==============================] - 1s 1ms/step - loss: 0.0038 - mae: 0.0309 - val_loss: 0.0036 - val_mae: 0.0302 - lr: 0.0030\n",
      "Epoch 34/500\n",
      "349/349 [==============================] - 1s 1ms/step - loss: 0.0038 - mae: 0.0309 - val_loss: 0.0037 - val_mae: 0.0306 - lr: 0.0030\n",
      "Epoch 35/500\n",
      "349/349 [==============================] - 1s 1ms/step - loss: 0.0037 - mae: 0.0307 - val_loss: 0.0037 - val_mae: 0.0308 - lr: 0.0030\n",
      "Epoch 36/500\n",
      "349/349 [==============================] - 1s 1ms/step - loss: 0.0036 - mae: 0.0304 - val_loss: 0.0035 - val_mae: 0.0296 - lr: 0.0030\n",
      "Epoch 37/500\n",
      "349/349 [==============================] - 1s 1ms/step - loss: 0.0035 - mae: 0.0298 - val_loss: 0.0034 - val_mae: 0.0292 - lr: 0.0030\n",
      "Epoch 38/500\n",
      "349/349 [==============================] - 1s 1ms/step - loss: 0.0034 - mae: 0.0296 - val_loss: 0.0034 - val_mae: 0.0298 - lr: 0.0030\n",
      "Epoch 39/500\n",
      "349/349 [==============================] - 1s 1ms/step - loss: 0.0034 - mae: 0.0295 - val_loss: 0.0035 - val_mae: 0.0298 - lr: 0.0030\n",
      "Epoch 40/500\n",
      "349/349 [==============================] - 1s 2ms/step - loss: 0.0033 - mae: 0.0293 - val_loss: 0.0033 - val_mae: 0.0300 - lr: 0.0030\n",
      "Epoch 41/500\n",
      "349/349 [==============================] - 1s 1ms/step - loss: 0.0033 - mae: 0.0291 - val_loss: 0.0032 - val_mae: 0.0286 - lr: 0.0030\n",
      "Epoch 42/500\n",
      "349/349 [==============================] - 1s 1ms/step - loss: 0.0032 - mae: 0.0288 - val_loss: 0.0032 - val_mae: 0.0285 - lr: 0.0030\n",
      "Epoch 43/500\n",
      "349/349 [==============================] - 1s 1ms/step - loss: 0.0032 - mae: 0.0285 - val_loss: 0.0032 - val_mae: 0.0287 - lr: 0.0030\n",
      "Epoch 44/500\n",
      "349/349 [==============================] - 1s 1ms/step - loss: 0.0031 - mae: 0.0283 - val_loss: 0.0032 - val_mae: 0.0285 - lr: 0.0030\n",
      "Epoch 45/500\n",
      "349/349 [==============================] - 1s 1ms/step - loss: 0.0031 - mae: 0.0282 - val_loss: 0.0030 - val_mae: 0.0284 - lr: 0.0030\n",
      "Epoch 46/500\n",
      "349/349 [==============================] - 1s 1ms/step - loss: 0.0030 - mae: 0.0279 - val_loss: 0.0031 - val_mae: 0.0284 - lr: 0.0030\n",
      "Epoch 47/500\n",
      "349/349 [==============================] - 1s 1ms/step - loss: 0.0030 - mae: 0.0276 - val_loss: 0.0029 - val_mae: 0.0270 - lr: 0.0030\n",
      "Epoch 48/500\n",
      "349/349 [==============================] - 1s 1ms/step - loss: 0.0029 - mae: 0.0273 - val_loss: 0.0030 - val_mae: 0.0276 - lr: 0.0030\n",
      "Epoch 49/500\n",
      "349/349 [==============================] - 1s 1ms/step - loss: 0.0029 - mae: 0.0272 - val_loss: 0.0029 - val_mae: 0.0271 - lr: 0.0030\n",
      "Epoch 50/500\n",
      "349/349 [==============================] - 1s 2ms/step - loss: 0.0029 - mae: 0.0271 - val_loss: 0.0028 - val_mae: 0.0261 - lr: 0.0030\n",
      "Epoch 51/500\n",
      "349/349 [==============================] - 1s 1ms/step - loss: 0.0029 - mae: 0.0272 - val_loss: 0.0028 - val_mae: 0.0258 - lr: 0.0030\n",
      "Epoch 52/500\n",
      "349/349 [==============================] - 1s 1ms/step - loss: 0.0028 - mae: 0.0266 - val_loss: 0.0031 - val_mae: 0.0272 - lr: 0.0030\n",
      "Epoch 53/500\n",
      "349/349 [==============================] - 1s 1ms/step - loss: 0.0028 - mae: 0.0265 - val_loss: 0.0027 - val_mae: 0.0264 - lr: 0.0030\n",
      "Epoch 54/500\n",
      "349/349 [==============================] - 1s 1ms/step - loss: 0.0028 - mae: 0.0260 - val_loss: 0.0027 - val_mae: 0.0262 - lr: 0.0030\n",
      "Epoch 55/500\n",
      "349/349 [==============================] - 1s 1ms/step - loss: 0.0027 - mae: 0.0253 - val_loss: 0.0028 - val_mae: 0.0253 - lr: 0.0030\n",
      "Epoch 56/500\n",
      "349/349 [==============================] - 1s 1ms/step - loss: 0.0026 - mae: 0.0251 - val_loss: 0.0026 - val_mae: 0.0242 - lr: 0.0030\n"
     ]
    },
    {
     "name": "stdout",
     "output_type": "stream",
     "text": [
      "Epoch 57/500\n",
      "349/349 [==============================] - 1s 1ms/step - loss: 0.0025 - mae: 0.0247 - val_loss: 0.0025 - val_mae: 0.0246 - lr: 0.0030\n",
      "Epoch 58/500\n",
      "349/349 [==============================] - 1s 1ms/step - loss: 0.0025 - mae: 0.0242 - val_loss: 0.0024 - val_mae: 0.0228 - lr: 0.0030\n",
      "Epoch 59/500\n",
      "349/349 [==============================] - 1s 1ms/step - loss: 0.0025 - mae: 0.0241 - val_loss: 0.0024 - val_mae: 0.0244 - lr: 0.0030\n",
      "Epoch 60/500\n",
      "349/349 [==============================] - 1s 1ms/step - loss: 0.0025 - mae: 0.0239 - val_loss: 0.0023 - val_mae: 0.0235 - lr: 0.0030\n",
      "Epoch 61/500\n",
      "349/349 [==============================] - 0s 1ms/step - loss: 0.0025 - mae: 0.0239 - val_loss: 0.0025 - val_mae: 0.0244 - lr: 0.0030\n",
      "Epoch 62/500\n",
      "349/349 [==============================] - 1s 1ms/step - loss: 0.0024 - mae: 0.0236 - val_loss: 0.0023 - val_mae: 0.0227 - lr: 0.0030\n",
      "Epoch 63/500\n",
      "349/349 [==============================] - 0s 1ms/step - loss: 0.0024 - mae: 0.0235 - val_loss: 0.0024 - val_mae: 0.0242 - lr: 0.0030\n",
      "Epoch 64/500\n",
      "349/349 [==============================] - 0s 1ms/step - loss: 0.0024 - mae: 0.0233 - val_loss: 0.0025 - val_mae: 0.0241 - lr: 0.0030\n",
      "Epoch 65/500\n",
      "349/349 [==============================] - 1s 1ms/step - loss: 0.0024 - mae: 0.0231 - val_loss: 0.0022 - val_mae: 0.0222 - lr: 0.0030\n",
      "Epoch 66/500\n",
      "349/349 [==============================] - 1s 2ms/step - loss: 0.0023 - mae: 0.0232 - val_loss: 0.0023 - val_mae: 0.0229 - lr: 0.0030\n",
      "Epoch 67/500\n",
      "349/349 [==============================] - 1s 2ms/step - loss: 0.0023 - mae: 0.0231 - val_loss: 0.0022 - val_mae: 0.0225 - lr: 0.0030\n",
      "Epoch 68/500\n",
      "349/349 [==============================] - 1s 2ms/step - loss: 0.0023 - mae: 0.0227 - val_loss: 0.0022 - val_mae: 0.0222 - lr: 0.0030\n",
      "Epoch 69/500\n",
      "349/349 [==============================] - 1s 1ms/step - loss: 0.0023 - mae: 0.0226 - val_loss: 0.0025 - val_mae: 0.0245 - lr: 0.0030\n",
      "Epoch 70/500\n",
      "349/349 [==============================] - 1s 1ms/step - loss: 0.0022 - mae: 0.0225 - val_loss: 0.0022 - val_mae: 0.0218 - lr: 0.0030\n",
      "Epoch 71/500\n",
      "349/349 [==============================] - 1s 1ms/step - loss: 0.0021 - mae: 0.0210 - val_loss: 0.0021 - val_mae: 0.0213 - lr: 0.0015\n",
      "Epoch 72/500\n",
      "349/349 [==============================] - 1s 2ms/step - loss: 0.0020 - mae: 0.0211 - val_loss: 0.0020 - val_mae: 0.0212 - lr: 0.0015\n",
      "Epoch 73/500\n",
      "349/349 [==============================] - 1s 1ms/step - loss: 0.0020 - mae: 0.0211 - val_loss: 0.0020 - val_mae: 0.0209 - lr: 0.0015\n",
      "Epoch 74/500\n",
      "349/349 [==============================] - 1s 1ms/step - loss: 0.0020 - mae: 0.0211 - val_loss: 0.0021 - val_mae: 0.0215 - lr: 0.0015\n",
      "Epoch 75/500\n",
      "349/349 [==============================] - 1s 1ms/step - loss: 0.0020 - mae: 0.0210 - val_loss: 0.0019 - val_mae: 0.0204 - lr: 0.0015\n",
      "Epoch 76/500\n",
      "349/349 [==============================] - 0s 1ms/step - loss: 0.0020 - mae: 0.0210 - val_loss: 0.0020 - val_mae: 0.0207 - lr: 0.0015\n",
      "Epoch 77/500\n",
      "349/349 [==============================] - 1s 2ms/step - loss: 0.0020 - mae: 0.0210 - val_loss: 0.0020 - val_mae: 0.0207 - lr: 0.0015\n",
      "Epoch 78/500\n",
      "349/349 [==============================] - 1s 2ms/step - loss: 0.0020 - mae: 0.0209 - val_loss: 0.0019 - val_mae: 0.0201 - lr: 0.0015\n",
      "Epoch 79/500\n",
      "349/349 [==============================] - 1s 2ms/step - loss: 0.0020 - mae: 0.0208 - val_loss: 0.0021 - val_mae: 0.0210 - lr: 0.0015\n",
      "Epoch 80/500\n",
      "349/349 [==============================] - 1s 1ms/step - loss: 0.0020 - mae: 0.0208 - val_loss: 0.0019 - val_mae: 0.0204 - lr: 0.0015\n",
      "Epoch 81/500\n",
      "349/349 [==============================] - 1s 1ms/step - loss: 0.0020 - mae: 0.0208 - val_loss: 0.0020 - val_mae: 0.0207 - lr: 0.0015\n",
      "Epoch 82/500\n",
      "349/349 [==============================] - 1s 1ms/step - loss: 0.0020 - mae: 0.0209 - val_loss: 0.0019 - val_mae: 0.0201 - lr: 0.0015\n",
      "Epoch 83/500\n",
      "349/349 [==============================] - 1s 1ms/step - loss: 0.0019 - mae: 0.0200 - val_loss: 0.0021 - val_mae: 0.0210 - lr: 7.5000e-04\n",
      "Epoch 84/500\n",
      "349/349 [==============================] - 1s 1ms/step - loss: 0.0019 - mae: 0.0199 - val_loss: 0.0019 - val_mae: 0.0198 - lr: 7.5000e-04\n",
      "Epoch 85/500\n",
      "349/349 [==============================] - 1s 1ms/step - loss: 0.0019 - mae: 0.0199 - val_loss: 0.0018 - val_mae: 0.0196 - lr: 7.5000e-04\n",
      "Epoch 86/500\n",
      "349/349 [==============================] - 1s 1ms/step - loss: 0.0019 - mae: 0.0200 - val_loss: 0.0019 - val_mae: 0.0202 - lr: 7.5000e-04\n",
      "Epoch 87/500\n",
      "349/349 [==============================] - 1s 1ms/step - loss: 0.0019 - mae: 0.0199 - val_loss: 0.0019 - val_mae: 0.0205 - lr: 7.5000e-04\n",
      "Epoch 88/500\n",
      "349/349 [==============================] - 0s 1ms/step - loss: 0.0019 - mae: 0.0199 - val_loss: 0.0019 - val_mae: 0.0196 - lr: 7.5000e-04\n",
      "Epoch 89/500\n",
      "349/349 [==============================] - 0s 1ms/step - loss: 0.0019 - mae: 0.0198 - val_loss: 0.0020 - val_mae: 0.0208 - lr: 7.5000e-04\n",
      "Epoch 90/500\n",
      "349/349 [==============================] - 0s 1ms/step - loss: 0.0019 - mae: 0.0198 - val_loss: 0.0019 - val_mae: 0.0200 - lr: 7.5000e-04\n",
      "Epoch 91/500\n",
      "349/349 [==============================] - 0s 1ms/step - loss: 0.0019 - mae: 0.0198 - val_loss: 0.0018 - val_mae: 0.0198 - lr: 7.5000e-04\n",
      "Epoch 92/500\n",
      "349/349 [==============================] - 0s 1ms/step - loss: 0.0019 - mae: 0.0199 - val_loss: 0.0018 - val_mae: 0.0197 - lr: 7.5000e-04\n",
      "Epoch 93/500\n",
      "349/349 [==============================] - 1s 2ms/step - loss: 0.0018 - mae: 0.0195 - val_loss: 0.0018 - val_mae: 0.0194 - lr: 3.7500e-04\n",
      "Epoch 94/500\n",
      "349/349 [==============================] - 1s 2ms/step - loss: 0.0018 - mae: 0.0194 - val_loss: 0.0018 - val_mae: 0.0194 - lr: 3.7500e-04\n",
      "Epoch 95/500\n",
      "349/349 [==============================] - 1s 2ms/step - loss: 0.0018 - mae: 0.0194 - val_loss: 0.0018 - val_mae: 0.0195 - lr: 3.7500e-04\n",
      "Epoch 96/500\n",
      "349/349 [==============================] - 1s 2ms/step - loss: 0.0018 - mae: 0.0194 - val_loss: 0.0018 - val_mae: 0.0195 - lr: 3.7500e-04\n",
      "Epoch 97/500\n",
      "349/349 [==============================] - 1s 1ms/step - loss: 0.0018 - mae: 0.0193 - val_loss: 0.0018 - val_mae: 0.0192 - lr: 3.7500e-04\n",
      "Epoch 98/500\n",
      "349/349 [==============================] - 1s 1ms/step - loss: 0.0018 - mae: 0.0193 - val_loss: 0.0018 - val_mae: 0.0193 - lr: 3.7500e-04\n",
      "Epoch 99/500\n",
      "349/349 [==============================] - 1s 1ms/step - loss: 0.0018 - mae: 0.0193 - val_loss: 0.0018 - val_mae: 0.0197 - lr: 3.7500e-04\n",
      "Epoch 100/500\n",
      "349/349 [==============================] - 1s 1ms/step - loss: 0.0018 - mae: 0.0193 - val_loss: 0.0018 - val_mae: 0.0191 - lr: 3.7500e-04\n",
      "Epoch 101/500\n",
      "349/349 [==============================] - 1s 1ms/step - loss: 0.0018 - mae: 0.0193 - val_loss: 0.0018 - val_mae: 0.0193 - lr: 3.7500e-04\n",
      "Epoch 102/500\n",
      "349/349 [==============================] - 1s 2ms/step - loss: 0.0018 - mae: 0.0194 - val_loss: 0.0018 - val_mae: 0.0190 - lr: 3.7500e-04\n",
      "Epoch 103/500\n",
      "349/349 [==============================] - 1s 1ms/step - loss: 0.0017 - mae: 0.0190 - val_loss: 0.0017 - val_mae: 0.0189 - lr: 1.8750e-04\n",
      "Epoch 104/500\n",
      "349/349 [==============================] - 1s 1ms/step - loss: 0.0017 - mae: 0.0190 - val_loss: 0.0017 - val_mae: 0.0191 - lr: 1.8750e-04\n",
      "Epoch 105/500\n",
      "349/349 [==============================] - 0s 1ms/step - loss: 0.0017 - mae: 0.0190 - val_loss: 0.0017 - val_mae: 0.0189 - lr: 1.8750e-04\n",
      "Epoch 106/500\n",
      "349/349 [==============================] - 0s 1ms/step - loss: 0.0017 - mae: 0.0190 - val_loss: 0.0017 - val_mae: 0.0190 - lr: 1.8750e-04\n",
      "Epoch 107/500\n",
      "349/349 [==============================] - 1s 1ms/step - loss: 0.0017 - mae: 0.0189 - val_loss: 0.0018 - val_mae: 0.0189 - lr: 1.8750e-04\n",
      "Epoch 108/500\n",
      "349/349 [==============================] - 1s 1ms/step - loss: 0.0017 - mae: 0.0190 - val_loss: 0.0018 - val_mae: 0.0190 - lr: 1.8750e-04\n",
      "Epoch 109/500\n",
      "349/349 [==============================] - 1s 1ms/step - loss: 0.0017 - mae: 0.0189 - val_loss: 0.0017 - val_mae: 0.0189 - lr: 1.8750e-04\n",
      "Epoch 110/500\n",
      "349/349 [==============================] - 1s 1ms/step - loss: 0.0017 - mae: 0.0189 - val_loss: 0.0017 - val_mae: 0.0190 - lr: 1.8750e-04\n",
      "Epoch 111/500\n",
      "349/349 [==============================] - 1s 1ms/step - loss: 0.0017 - mae: 0.0189 - val_loss: 0.0018 - val_mae: 0.0189 - lr: 1.8750e-04\n"
     ]
    },
    {
     "name": "stdout",
     "output_type": "stream",
     "text": [
      "Epoch 112/500\n",
      "349/349 [==============================] - 1s 1ms/step - loss: 0.0017 - mae: 0.0189 - val_loss: 0.0017 - val_mae: 0.0189 - lr: 1.8750e-04\n",
      "Epoch 113/500\n",
      "349/349 [==============================] - 1s 1ms/step - loss: 0.0017 - mae: 0.0188 - val_loss: 0.0017 - val_mae: 0.0188 - lr: 9.3750e-05\n",
      "Epoch 114/500\n",
      "349/349 [==============================] - 0s 1ms/step - loss: 0.0017 - mae: 0.0187 - val_loss: 0.0017 - val_mae: 0.0187 - lr: 9.3750e-05\n",
      "Epoch 115/500\n",
      "349/349 [==============================] - 1s 1ms/step - loss: 0.0017 - mae: 0.0188 - val_loss: 0.0017 - val_mae: 0.0187 - lr: 9.3750e-05\n",
      "Epoch 116/500\n",
      "349/349 [==============================] - 0s 1ms/step - loss: 0.0017 - mae: 0.0188 - val_loss: 0.0017 - val_mae: 0.0187 - lr: 9.3750e-05\n",
      "Epoch 117/500\n",
      "349/349 [==============================] - 1s 2ms/step - loss: 0.0017 - mae: 0.0188 - val_loss: 0.0017 - val_mae: 0.0188 - lr: 9.3750e-05\n",
      "Epoch 118/500\n",
      "349/349 [==============================] - 1s 1ms/step - loss: 0.0017 - mae: 0.0188 - val_loss: 0.0017 - val_mae: 0.0187 - lr: 9.3750e-05\n",
      "Epoch 119/500\n",
      "349/349 [==============================] - 1s 1ms/step - loss: 0.0017 - mae: 0.0188 - val_loss: 0.0017 - val_mae: 0.0188 - lr: 9.3750e-05\n",
      "Epoch 120/500\n",
      "349/349 [==============================] - 1s 1ms/step - loss: 0.0017 - mae: 0.0188 - val_loss: 0.0017 - val_mae: 0.0187 - lr: 9.3750e-05\n",
      "Epoch 121/500\n",
      "349/349 [==============================] - 1s 1ms/step - loss: 0.0017 - mae: 0.0188 - val_loss: 0.0017 - val_mae: 0.0187 - lr: 9.3750e-05\n",
      "Epoch 122/500\n",
      "349/349 [==============================] - 1s 1ms/step - loss: 0.0017 - mae: 0.0187 - val_loss: 0.0017 - val_mae: 0.0187 - lr: 9.3750e-05\n",
      "Epoch 123/500\n",
      "349/349 [==============================] - 1s 1ms/step - loss: 0.0017 - mae: 0.0187 - val_loss: 0.0017 - val_mae: 0.0187 - lr: 4.6875e-05\n",
      "Epoch 124/500\n",
      "349/349 [==============================] - 1s 1ms/step - loss: 0.0017 - mae: 0.0187 - val_loss: 0.0017 - val_mae: 0.0187 - lr: 4.6875e-05\n",
      "Epoch 125/500\n",
      "349/349 [==============================] - 1s 1ms/step - loss: 0.0017 - mae: 0.0187 - val_loss: 0.0017 - val_mae: 0.0187 - lr: 4.6875e-05\n",
      "Epoch 126/500\n",
      "349/349 [==============================] - 0s 1ms/step - loss: 0.0017 - mae: 0.0187 - val_loss: 0.0017 - val_mae: 0.0186 - lr: 4.6875e-05\n",
      "Epoch 127/500\n",
      "349/349 [==============================] - 0s 1ms/step - loss: 0.0017 - mae: 0.0187 - val_loss: 0.0017 - val_mae: 0.0186 - lr: 4.6875e-05\n",
      "Epoch 128/500\n",
      "349/349 [==============================] - 1s 1ms/step - loss: 0.0017 - mae: 0.0186 - val_loss: 0.0017 - val_mae: 0.0187 - lr: 4.6875e-05\n",
      "Epoch 129/500\n",
      "349/349 [==============================] - 1s 1ms/step - loss: 0.0017 - mae: 0.0187 - val_loss: 0.0017 - val_mae: 0.0186 - lr: 4.6875e-05\n",
      "Epoch 130/500\n",
      "349/349 [==============================] - 1s 1ms/step - loss: 0.0017 - mae: 0.0187 - val_loss: 0.0017 - val_mae: 0.0187 - lr: 4.6875e-05\n",
      "Epoch 131/500\n",
      "349/349 [==============================] - 1s 1ms/step - loss: 0.0017 - mae: 0.0187 - val_loss: 0.0017 - val_mae: 0.0186 - lr: 4.6875e-05\n",
      "Epoch 132/500\n",
      "349/349 [==============================] - 1s 1ms/step - loss: 0.0017 - mae: 0.0187 - val_loss: 0.0017 - val_mae: 0.0185 - lr: 4.6875e-05\n",
      "Epoch 133/500\n",
      "349/349 [==============================] - 1s 1ms/step - loss: 0.0017 - mae: 0.0186 - val_loss: 0.0017 - val_mae: 0.0186 - lr: 2.3438e-05\n",
      "Epoch 134/500\n",
      "349/349 [==============================] - 1s 1ms/step - loss: 0.0017 - mae: 0.0186 - val_loss: 0.0017 - val_mae: 0.0186 - lr: 2.3438e-05\n",
      "Epoch 135/500\n",
      "349/349 [==============================] - 1s 1ms/step - loss: 0.0017 - mae: 0.0186 - val_loss: 0.0017 - val_mae: 0.0186 - lr: 2.3438e-05\n",
      "Epoch 136/500\n",
      "349/349 [==============================] - 1s 2ms/step - loss: 0.0017 - mae: 0.0186 - val_loss: 0.0017 - val_mae: 0.0186 - lr: 2.3438e-05\n",
      "Epoch 137/500\n",
      "349/349 [==============================] - 1s 1ms/step - loss: 0.0017 - mae: 0.0186 - val_loss: 0.0017 - val_mae: 0.0186 - lr: 2.3438e-05\n",
      "Epoch 138/500\n",
      "349/349 [==============================] - 1s 1ms/step - loss: 0.0017 - mae: 0.0186 - val_loss: 0.0017 - val_mae: 0.0186 - lr: 2.3438e-05\n",
      "Epoch 139/500\n",
      "349/349 [==============================] - 1s 1ms/step - loss: 0.0017 - mae: 0.0186 - val_loss: 0.0017 - val_mae: 0.0186 - lr: 2.3438e-05\n",
      "Epoch 140/500\n",
      "349/349 [==============================] - 1s 1ms/step - loss: 0.0017 - mae: 0.0186 - val_loss: 0.0017 - val_mae: 0.0186 - lr: 2.3438e-05\n",
      "Epoch 141/500\n",
      "349/349 [==============================] - 1s 1ms/step - loss: 0.0017 - mae: 0.0186 - val_loss: 0.0017 - val_mae: 0.0186 - lr: 2.3438e-05\n",
      "Epoch 142/500\n",
      "349/349 [==============================] - 1s 1ms/step - loss: 0.0017 - mae: 0.0186 - val_loss: 0.0017 - val_mae: 0.0186 - lr: 2.3438e-05\n",
      "Epoch 143/500\n",
      "349/349 [==============================] - 0s 1ms/step - loss: 0.0017 - mae: 0.0186 - val_loss: 0.0017 - val_mae: 0.0186 - lr: 1.1719e-05\n",
      "Epoch 144/500\n",
      "349/349 [==============================] - 1s 1ms/step - loss: 0.0017 - mae: 0.0186 - val_loss: 0.0017 - val_mae: 0.0186 - lr: 1.1719e-05\n",
      "Epoch 145/500\n",
      "349/349 [==============================] - 1s 1ms/step - loss: 0.0017 - mae: 0.0186 - val_loss: 0.0017 - val_mae: 0.0186 - lr: 1.1719e-05\n",
      "Epoch 146/500\n",
      "349/349 [==============================] - 1s 1ms/step - loss: 0.0017 - mae: 0.0186 - val_loss: 0.0017 - val_mae: 0.0186 - lr: 1.1719e-05\n",
      "Epoch 147/500\n",
      "135/349 [==========>...................] - ETA: 0s - loss: 0.0017 - mae: 0.0186"
     ]
    },
    {
     "ename": "KeyboardInterrupt",
     "evalue": "",
     "output_type": "error",
     "traceback": [
      "\u001b[0;31m---------------------------------------------------------------------------\u001b[0m",
      "\u001b[0;31mKeyboardInterrupt\u001b[0m                         Traceback (most recent call last)",
      "Cell \u001b[0;32mIn[17], line 1\u001b[0m\n\u001b[0;32m----> 1\u001b[0m \u001b[43mmodel\u001b[49m\u001b[38;5;241;43m.\u001b[39;49m\u001b[43mfit\u001b[49m\u001b[43m(\u001b[49m\u001b[43mX_train\u001b[49m\u001b[43m,\u001b[49m\u001b[43mY_train\u001b[49m\u001b[43m,\u001b[49m\u001b[43mvalidation_data\u001b[49m\u001b[38;5;241;43m=\u001b[39;49m\u001b[43m(\u001b[49m\u001b[43mX_val\u001b[49m\u001b[43m,\u001b[49m\u001b[43mY_val\u001b[49m\u001b[43m)\u001b[49m\u001b[43m,\u001b[49m\u001b[43mbatch_size\u001b[49m\u001b[38;5;241;43m=\u001b[39;49m\u001b[38;5;241;43m256\u001b[39;49m\u001b[43m,\u001b[49m\u001b[43mepochs\u001b[49m\u001b[38;5;241;43m=\u001b[39;49m\u001b[38;5;241;43m500\u001b[39;49m\u001b[43m,\u001b[49m\u001b[43m \u001b[49m\u001b[43mcallbacks\u001b[49m\u001b[38;5;241;43m=\u001b[39;49m\u001b[43m[\u001b[49m\u001b[43mreduce_lr\u001b[49m\u001b[43m]\u001b[49m\u001b[43m)\u001b[49m\n",
      "File \u001b[0;32m~/miniconda3/envs/tf/lib/python3.9/site-packages/keras/utils/traceback_utils.py:65\u001b[0m, in \u001b[0;36mfilter_traceback.<locals>.error_handler\u001b[0;34m(*args, **kwargs)\u001b[0m\n\u001b[1;32m     63\u001b[0m filtered_tb \u001b[38;5;241m=\u001b[39m \u001b[38;5;28;01mNone\u001b[39;00m\n\u001b[1;32m     64\u001b[0m \u001b[38;5;28;01mtry\u001b[39;00m:\n\u001b[0;32m---> 65\u001b[0m     \u001b[38;5;28;01mreturn\u001b[39;00m \u001b[43mfn\u001b[49m\u001b[43m(\u001b[49m\u001b[38;5;241;43m*\u001b[39;49m\u001b[43margs\u001b[49m\u001b[43m,\u001b[49m\u001b[43m \u001b[49m\u001b[38;5;241;43m*\u001b[39;49m\u001b[38;5;241;43m*\u001b[39;49m\u001b[43mkwargs\u001b[49m\u001b[43m)\u001b[49m\n\u001b[1;32m     66\u001b[0m \u001b[38;5;28;01mexcept\u001b[39;00m \u001b[38;5;167;01mException\u001b[39;00m \u001b[38;5;28;01mas\u001b[39;00m e:\n\u001b[1;32m     67\u001b[0m     filtered_tb \u001b[38;5;241m=\u001b[39m _process_traceback_frames(e\u001b[38;5;241m.\u001b[39m__traceback__)\n",
      "File \u001b[0;32m~/miniconda3/envs/tf/lib/python3.9/site-packages/keras/engine/training.py:1676\u001b[0m, in \u001b[0;36mModel.fit\u001b[0;34m(self, x, y, batch_size, epochs, verbose, callbacks, validation_split, validation_data, shuffle, class_weight, sample_weight, initial_epoch, steps_per_epoch, validation_steps, validation_batch_size, validation_freq, max_queue_size, workers, use_multiprocessing)\u001b[0m\n\u001b[1;32m   1674\u001b[0m callbacks\u001b[38;5;241m.\u001b[39mon_epoch_begin(epoch)\n\u001b[1;32m   1675\u001b[0m \u001b[38;5;28;01mwith\u001b[39;00m data_handler\u001b[38;5;241m.\u001b[39mcatch_stop_iteration():\n\u001b[0;32m-> 1676\u001b[0m     \u001b[38;5;28;01mfor\u001b[39;00m step \u001b[38;5;129;01min\u001b[39;00m data_handler\u001b[38;5;241m.\u001b[39msteps():\n\u001b[1;32m   1677\u001b[0m         \u001b[38;5;28;01mwith\u001b[39;00m tf\u001b[38;5;241m.\u001b[39mprofiler\u001b[38;5;241m.\u001b[39mexperimental\u001b[38;5;241m.\u001b[39mTrace(\n\u001b[1;32m   1678\u001b[0m             \u001b[38;5;124m\"\u001b[39m\u001b[38;5;124mtrain\u001b[39m\u001b[38;5;124m\"\u001b[39m,\n\u001b[1;32m   1679\u001b[0m             epoch_num\u001b[38;5;241m=\u001b[39mepoch,\n\u001b[0;32m   (...)\u001b[0m\n\u001b[1;32m   1682\u001b[0m             _r\u001b[38;5;241m=\u001b[39m\u001b[38;5;241m1\u001b[39m,\n\u001b[1;32m   1683\u001b[0m         ):\n\u001b[1;32m   1684\u001b[0m             callbacks\u001b[38;5;241m.\u001b[39mon_train_batch_begin(step)\n",
      "File \u001b[0;32m~/miniconda3/envs/tf/lib/python3.9/site-packages/keras/engine/data_adapter.py:1375\u001b[0m, in \u001b[0;36mDataHandler.steps\u001b[0;34m(self)\u001b[0m\n\u001b[1;32m   1373\u001b[0m \u001b[38;5;28;01mif\u001b[39;00m \u001b[38;5;28mself\u001b[39m\u001b[38;5;241m.\u001b[39m_insufficient_data:  \u001b[38;5;66;03m# Set by `catch_stop_iteration`.\u001b[39;00m\n\u001b[1;32m   1374\u001b[0m     \u001b[38;5;28;01mbreak\u001b[39;00m\n\u001b[0;32m-> 1375\u001b[0m original_spe \u001b[38;5;241m=\u001b[39m \u001b[38;5;28;43mself\u001b[39;49m\u001b[38;5;241;43m.\u001b[39;49m\u001b[43m_steps_per_execution\u001b[49m\u001b[38;5;241;43m.\u001b[39;49m\u001b[43mnumpy\u001b[49m\u001b[43m(\u001b[49m\u001b[43m)\u001b[49m\u001b[38;5;241m.\u001b[39mitem()\n\u001b[1;32m   1376\u001b[0m can_run_full_execution \u001b[38;5;241m=\u001b[39m (\n\u001b[1;32m   1377\u001b[0m     original_spe \u001b[38;5;241m==\u001b[39m \u001b[38;5;241m1\u001b[39m\n\u001b[1;32m   1378\u001b[0m     \u001b[38;5;129;01mor\u001b[39;00m \u001b[38;5;28mself\u001b[39m\u001b[38;5;241m.\u001b[39m_inferred_steps \u001b[38;5;129;01mis\u001b[39;00m \u001b[38;5;28;01mNone\u001b[39;00m\n\u001b[1;32m   1379\u001b[0m     \u001b[38;5;129;01mor\u001b[39;00m \u001b[38;5;28mself\u001b[39m\u001b[38;5;241m.\u001b[39m_inferred_steps \u001b[38;5;241m-\u001b[39m \u001b[38;5;28mself\u001b[39m\u001b[38;5;241m.\u001b[39m_current_step \u001b[38;5;241m>\u001b[39m\u001b[38;5;241m=\u001b[39m original_spe\n\u001b[1;32m   1380\u001b[0m )\n\u001b[1;32m   1382\u001b[0m \u001b[38;5;28;01mif\u001b[39;00m can_run_full_execution:\n",
      "File \u001b[0;32m~/miniconda3/envs/tf/lib/python3.9/site-packages/tensorflow/python/ops/resource_variable_ops.py:647\u001b[0m, in \u001b[0;36mBaseResourceVariable.numpy\u001b[0;34m(self)\u001b[0m\n\u001b[1;32m    645\u001b[0m \u001b[38;5;28;01mdef\u001b[39;00m \u001b[38;5;21mnumpy\u001b[39m(\u001b[38;5;28mself\u001b[39m):\n\u001b[1;32m    646\u001b[0m   \u001b[38;5;28;01mif\u001b[39;00m context\u001b[38;5;241m.\u001b[39mexecuting_eagerly():\n\u001b[0;32m--> 647\u001b[0m     \u001b[38;5;28;01mreturn\u001b[39;00m \u001b[38;5;28;43mself\u001b[39;49m\u001b[38;5;241;43m.\u001b[39;49m\u001b[43mread_value\u001b[49m\u001b[43m(\u001b[49m\u001b[43m)\u001b[49m\u001b[38;5;241;43m.\u001b[39;49m\u001b[43mnumpy\u001b[49m\u001b[43m(\u001b[49m\u001b[43m)\u001b[49m\n\u001b[1;32m    648\u001b[0m   \u001b[38;5;28;01mraise\u001b[39;00m \u001b[38;5;167;01mNotImplementedError\u001b[39;00m(\n\u001b[1;32m    649\u001b[0m       \u001b[38;5;124m\"\u001b[39m\u001b[38;5;124mnumpy() is only available when eager execution is enabled.\u001b[39m\u001b[38;5;124m\"\u001b[39m)\n",
      "File \u001b[0;32m~/miniconda3/envs/tf/lib/python3.9/site-packages/tensorflow/python/framework/ops.py:1161\u001b[0m, in \u001b[0;36m_EagerTensorBase.numpy\u001b[0;34m(self)\u001b[0m\n\u001b[1;32m   1159\u001b[0m \u001b[38;5;66;03m# TODO(slebedev): Consider avoiding a copy for non-CPU or remote tensors.\u001b[39;00m\n\u001b[1;32m   1160\u001b[0m maybe_arr \u001b[38;5;241m=\u001b[39m \u001b[38;5;28mself\u001b[39m\u001b[38;5;241m.\u001b[39m_numpy()  \u001b[38;5;66;03m# pylint: disable=protected-access\u001b[39;00m\n\u001b[0;32m-> 1161\u001b[0m \u001b[38;5;28;01mreturn\u001b[39;00m maybe_arr\u001b[38;5;241m.\u001b[39mcopy() \u001b[38;5;28;01mif\u001b[39;00m \u001b[38;5;28;43misinstance\u001b[39;49m\u001b[43m(\u001b[49m\u001b[43mmaybe_arr\u001b[49m\u001b[43m,\u001b[49m\u001b[43m \u001b[49m\u001b[43mnp\u001b[49m\u001b[38;5;241;43m.\u001b[39;49m\u001b[43mndarray\u001b[49m\u001b[43m)\u001b[49m \u001b[38;5;28;01melse\u001b[39;00m maybe_arr\n",
      "\u001b[0;31mKeyboardInterrupt\u001b[0m: "
     ]
    }
   ],
   "source": [
    "model.fit(X_train,Y_train,validation_data=(X_val,Y_val),batch_size=256,epochs=500, callbacks=[reduce_lr])"
   ]
  },
  {
   "cell_type": "code",
   "execution_count": 22,
   "metadata": {},
   "outputs": [
    {
     "name": "stdout",
     "output_type": "stream",
     "text": [
      "1016/1016 [==============================] - 1s 524us/step\n"
     ]
    },
    {
     "data": {
      "text/plain": [
       "array([[ 9.9805427e-01, -1.0393732e-03,  6.3249832e-01,  3.1271920e-01],\n",
       "       [ 9.9797404e-01, -1.0335059e-03,  6.3599056e-01,  3.1295067e-01],\n",
       "       [ 9.9894118e-01, -1.0375245e-03,  6.3948286e-01,  3.1363004e-01],\n",
       "       ...,\n",
       "       [ 9.9858892e-01, -7.1230158e-04, -1.8885745e-05,  9.9454790e-02],\n",
       "       [ 9.9887431e-01, -7.2409865e-04, -1.9207579e-05,  1.0029259e-01],\n",
       "       [ 9.9910367e-01, -7.3080696e-04, -2.1634245e-05,  9.5158130e-02]],\n",
       "      dtype=float32)"
      ]
     },
     "execution_count": 22,
     "metadata": {},
     "output_type": "execute_result"
    }
   ],
   "source": [
    "model.predict(X_val)"
   ]
  },
  {
   "cell_type": "code",
   "execution_count": 18,
   "metadata": {},
   "outputs": [],
   "source": [
    "model.save('./DNN_model/model.h5')"
   ]
  }
 ],
 "metadata": {
  "kernelspec": {
   "display_name": "Python 3 (ipykernel)",
   "language": "python",
   "name": "python3"
  },
  "language_info": {
   "codemirror_mode": {
    "name": "ipython",
    "version": 3
   },
   "file_extension": ".py",
   "mimetype": "text/x-python",
   "name": "python",
   "nbconvert_exporter": "python",
   "pygments_lexer": "ipython3",
   "version": "3.9.16"
  }
 },
 "nbformat": 4,
 "nbformat_minor": 2
}

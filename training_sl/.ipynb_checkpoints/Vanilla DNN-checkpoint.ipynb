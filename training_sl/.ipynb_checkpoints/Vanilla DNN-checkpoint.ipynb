{
 "cells": [
  {
   "cell_type": "code",
   "execution_count": 1,
   "metadata": {},
   "outputs": [
    {
     "name": "stderr",
     "output_type": "stream",
     "text": [
      "2023-12-04 17:21:17.914711: I tensorflow/core/util/port.cc:110] oneDNN custom operations are on. You may see slightly different numerical results due to floating-point round-off errors from different computation orders. To turn them off, set the environment variable `TF_ENABLE_ONEDNN_OPTS=0`.\n",
      "2023-12-04 17:21:17.968456: I tensorflow/core/platform/cpu_feature_guard.cc:182] This TensorFlow binary is optimized to use available CPU instructions in performance-critical operations.\n",
      "To enable the following instructions: AVX2 AVX512F AVX512_VNNI FMA, in other operations, rebuild TensorFlow with the appropriate compiler flags.\n",
      "2023-12-04 17:21:18.460587: W tensorflow/compiler/tf2tensorrt/utils/py_utils.cc:38] TF-TRT Warning: Could not find TensorRT\n"
     ]
    }
   ],
   "source": [
    "import numpy as np\n",
    "import pandas as pd\n",
    "from sklearn.preprocessing import StandardScaler\n",
    "import tensorflow as tf\n",
    "from tensorflow.keras.models import Sequential\n",
    "from tensorflow.keras.layers import Dense, Activation, Flatten, Input\n",
    "from tensorflow.keras.optimizers import Adam\n",
    "from tensorflow.keras.models import load_model\n",
    "import os\n",
    "import gc\n",
    "from pathlib import Path\n",
    "\n"
   ]
  },
  {
   "cell_type": "code",
   "execution_count": 2,
   "metadata": {},
   "outputs": [
    {
     "name": "stderr",
     "output_type": "stream",
     "text": [
      "2023-12-04 17:21:19.073080: I tensorflow/compiler/xla/stream_executor/cuda/cuda_gpu_executor.cc:996] successful NUMA node read from SysFS had negative value (-1), but there must be at least one NUMA node, so returning NUMA node zero. See more at https://github.com/torvalds/linux/blob/v6.0/Documentation/ABI/testing/sysfs-bus-pci#L344-L355\n",
      "2023-12-04 17:21:19.083876: I tensorflow/compiler/xla/stream_executor/cuda/cuda_gpu_executor.cc:996] successful NUMA node read from SysFS had negative value (-1), but there must be at least one NUMA node, so returning NUMA node zero. See more at https://github.com/torvalds/linux/blob/v6.0/Documentation/ABI/testing/sysfs-bus-pci#L344-L355\n",
      "2023-12-04 17:21:19.084009: I tensorflow/compiler/xla/stream_executor/cuda/cuda_gpu_executor.cc:996] successful NUMA node read from SysFS had negative value (-1), but there must be at least one NUMA node, so returning NUMA node zero. See more at https://github.com/torvalds/linux/blob/v6.0/Documentation/ABI/testing/sysfs-bus-pci#L344-L355\n"
     ]
    }
   ],
   "source": [
    "physical_devices = tf.config.list_physical_devices('GPU') \n",
    "tf.config.experimental.set_memory_growth(physical_devices[0], True)"
   ]
  },
  {
   "cell_type": "code",
   "execution_count": 3,
   "metadata": {},
   "outputs": [],
   "source": [
    "MODEL_SAVE_DIR = Path(\"DNN_model_BIG\")\n",
    "if not MODEL_SAVE_DIR.exists():\n",
    "    os.makedirs(MODEL_SAVE_DIR.as_posix())"
   ]
  },
  {
   "cell_type": "markdown",
   "metadata": {},
   "source": [
    "### Loading data files"
   ]
  },
  {
   "cell_type": "code",
   "execution_count": 4,
   "metadata": {},
   "outputs": [],
   "source": [
    "def get_data_files(path=\"../../torcs_SL/data_all/data\", pick_train=None, pick_test=None):\n",
    "    train_files = []\n",
    "    val_files = []\n",
    "\n",
    "    path = Path(path)\n",
    "    tracks = os.listdir(path.as_posix())\n",
    "\n",
    "    train_tracks = ['g-track-1', 'g-track-2', 'g-track-3', 'g-track-4', 'spring', 'aalborg', 'wheel-1', 'wheel-2', 'e-track-1', 'e-track-2']\n",
    "    test_tracks = ['e-track-3', 'alpine-2', 'corkscrew', 'wheel-2','ruudskogen']\n",
    "\n",
    "    random_tracks = np.random.choice(tracks, len(tracks), replace=False)\n",
    "    random_tracks = [x for x in random_tracks if x[:4] != 'dirt' and x[:3] != 'mix' and x not in test_tracks and x not in train_tracks]\n",
    "\n",
    "    val_tracks = test_tracks # random_tracks#[:3]\n",
    "    train_tracks.extend(random_tracks[:25])\n",
    "\n",
    "    track_files = list(path.glob(\"**/*.csv\"))\n",
    "\n",
    "\n",
    "    train_track_files = [x for x in track_files if x.parts[-2] in train_tracks]\n",
    "    val_track_files = [x for x in track_files if x.parts[-2] in val_tracks]\n",
    "    \n",
    "    \n",
    "    train_track_files = np.random.choice(train_track_files, pick_train, replace=False) if pick_train else train_track_files\n",
    "    val_track_files = np.random.choice(val_track_files, pick_test, replace=False) if pick_test else val_track_files\n",
    "\n",
    "    return train_track_files, val_track_files"
   ]
  },
  {
   "cell_type": "code",
   "execution_count": 5,
   "metadata": {},
   "outputs": [
    {
     "data": {
      "text/plain": [
       "([PosixPath('../../torcs_SL/data_all/data/g-track-2/2.csv'),\n",
       "  PosixPath('../../torcs_SL/data_all/data/g-track-2/3.csv'),\n",
       "  PosixPath('../../torcs_SL/data_all/data/g-track-2/1.csv'),\n",
       "  PosixPath('../../torcs_SL/data_all/data/forza/2.csv'),\n",
       "  PosixPath('../../torcs_SL/data_all/data/forza/3.csv'),\n",
       "  PosixPath('../../torcs_SL/data_all/data/forza/1.csv'),\n",
       "  PosixPath('../../torcs_SL/data_all/data/aalborg/2.csv'),\n",
       "  PosixPath('../../torcs_SL/data_all/data/aalborg/3.csv'),\n",
       "  PosixPath('../../torcs_SL/data_all/data/aalborg/1.csv'),\n",
       "  PosixPath('../../torcs_SL/data_all/data/wheel-1/2.csv'),\n",
       "  PosixPath('../../torcs_SL/data_all/data/wheel-1/3.csv'),\n",
       "  PosixPath('../../torcs_SL/data_all/data/wheel-1/1.csv'),\n",
       "  PosixPath('../../torcs_SL/data_all/data/alpine-1/2.csv'),\n",
       "  PosixPath('../../torcs_SL/data_all/data/alpine-1/3.csv'),\n",
       "  PosixPath('../../torcs_SL/data_all/data/alpine-1/1.csv'),\n",
       "  PosixPath('../../torcs_SL/data_all/data/e-track-4/2.csv'),\n",
       "  PosixPath('../../torcs_SL/data_all/data/e-track-4/3.csv'),\n",
       "  PosixPath('../../torcs_SL/data_all/data/e-track-4/1.csv'),\n",
       "  PosixPath('../../torcs_SL/data_all/data/e-track-6/2.csv'),\n",
       "  PosixPath('../../torcs_SL/data_all/data/e-track-6/3.csv'),\n",
       "  PosixPath('../../torcs_SL/data_all/data/e-track-6/1.csv'),\n",
       "  PosixPath('../../torcs_SL/data_all/data/g-track-1/2.csv'),\n",
       "  PosixPath('../../torcs_SL/data_all/data/g-track-1/3.csv'),\n",
       "  PosixPath('../../torcs_SL/data_all/data/g-track-1/1.csv'),\n",
       "  PosixPath('../../torcs_SL/data_all/data/street-1/2.csv'),\n",
       "  PosixPath('../../torcs_SL/data_all/data/street-1/3.csv'),\n",
       "  PosixPath('../../torcs_SL/data_all/data/street-1/1.csv'),\n",
       "  PosixPath('../../torcs_SL/data_all/data/g-track-3/2.csv'),\n",
       "  PosixPath('../../torcs_SL/data_all/data/g-track-3/3.csv'),\n",
       "  PosixPath('../../torcs_SL/data_all/data/g-track-3/1.csv'),\n",
       "  PosixPath('../../torcs_SL/data_all/data/ole-road-1/2.csv'),\n",
       "  PosixPath('../../torcs_SL/data_all/data/ole-road-1/3.csv'),\n",
       "  PosixPath('../../torcs_SL/data_all/data/ole-road-1/1.csv'),\n",
       "  PosixPath('../../torcs_SL/data_all/data/wheel-2/2.csv'),\n",
       "  PosixPath('../../torcs_SL/data_all/data/wheel-2/3.csv'),\n",
       "  PosixPath('../../torcs_SL/data_all/data/wheel-2/1.csv'),\n",
       "  PosixPath('../../torcs_SL/data_all/data/brondehach/2.csv'),\n",
       "  PosixPath('../../torcs_SL/data_all/data/brondehach/3.csv'),\n",
       "  PosixPath('../../torcs_SL/data_all/data/brondehach/1.csv'),\n",
       "  PosixPath('../../torcs_SL/data_all/data/spring/2.csv'),\n",
       "  PosixPath('../../torcs_SL/data_all/data/spring/3.csv'),\n",
       "  PosixPath('../../torcs_SL/data_all/data/spring/1.csv'),\n",
       "  PosixPath('../../torcs_SL/data_all/data/eroad/2.csv'),\n",
       "  PosixPath('../../torcs_SL/data_all/data/eroad/3.csv'),\n",
       "  PosixPath('../../torcs_SL/data_all/data/eroad/1.csv')],\n",
       " [PosixPath('../../torcs_SL/data_all/data/ruudskogen/2.csv'),\n",
       "  PosixPath('../../torcs_SL/data_all/data/ruudskogen/3.csv'),\n",
       "  PosixPath('../../torcs_SL/data_all/data/ruudskogen/1.csv'),\n",
       "  PosixPath('../../torcs_SL/data_all/data/alpine-2/2.csv'),\n",
       "  PosixPath('../../torcs_SL/data_all/data/alpine-2/3.csv'),\n",
       "  PosixPath('../../torcs_SL/data_all/data/alpine-2/1.csv'),\n",
       "  PosixPath('../../torcs_SL/data_all/data/wheel-2/2.csv'),\n",
       "  PosixPath('../../torcs_SL/data_all/data/wheel-2/3.csv'),\n",
       "  PosixPath('../../torcs_SL/data_all/data/wheel-2/1.csv'),\n",
       "  PosixPath('../../torcs_SL/data_all/data/corkscrew/2.csv'),\n",
       "  PosixPath('../../torcs_SL/data_all/data/corkscrew/3.csv'),\n",
       "  PosixPath('../../torcs_SL/data_all/data/corkscrew/1.csv'),\n",
       "  PosixPath('../../torcs_SL/data_all/data/e-track-3/2.csv'),\n",
       "  PosixPath('../../torcs_SL/data_all/data/e-track-3/3.csv'),\n",
       "  PosixPath('../../torcs_SL/data_all/data/e-track-3/1.csv')])"
      ]
     },
     "execution_count": 5,
     "metadata": {},
     "output_type": "execute_result"
    }
   ],
   "source": [
    "empty_train_track_files, empty_val_track_files = get_data_files(path=\"../../torcs_SL/data_all/data\")\n",
    "empty_train_track_files, empty_val_track_files"
   ]
  },
  {
   "cell_type": "code",
   "execution_count": 6,
   "metadata": {},
   "outputs": [
    {
     "data": {
      "text/plain": [
       "(array([PosixPath('../../torcs_SL/TORCS_DATA/data/a-speedway/16.csv'),\n",
       "        PosixPath('../../torcs_SL/TORCS_DATA/data/brondehach/22.csv'),\n",
       "        PosixPath('../../torcs_SL/TORCS_DATA/data/street-1/30.csv'),\n",
       "        PosixPath('../../torcs_SL/TORCS_DATA/data/alpine-1/19.csv'),\n",
       "        PosixPath('../../torcs_SL/TORCS_DATA/data/b-speedway/29.csv'),\n",
       "        PosixPath('../../torcs_SL/TORCS_DATA/data/c-speedway/5.csv'),\n",
       "        PosixPath('../../torcs_SL/TORCS_DATA/data/forza/2.csv'),\n",
       "        PosixPath('../../torcs_SL/TORCS_DATA/data/brondehach/30.csv'),\n",
       "        PosixPath('../../torcs_SL/TORCS_DATA/data/f-speedway/23.csv'),\n",
       "        PosixPath('../../torcs_SL/TORCS_DATA/data/c-speedway/22.csv'),\n",
       "        PosixPath('../../torcs_SL/TORCS_DATA/data/alpine-1/17.csv'),\n",
       "        PosixPath('../../torcs_SL/TORCS_DATA/data/f-speedway/11.csv'),\n",
       "        PosixPath('../../torcs_SL/TORCS_DATA/data/eroad/15.csv'),\n",
       "        PosixPath('../../torcs_SL/TORCS_DATA/data/e-track-4/14.csv'),\n",
       "        PosixPath('../../torcs_SL/TORCS_DATA/data/c-speedway/11.csv'),\n",
       "        PosixPath('../../torcs_SL/TORCS_DATA/data/alpine-1/1.csv'),\n",
       "        PosixPath('../../torcs_SL/TORCS_DATA/data/f-speedway/1.csv'),\n",
       "        PosixPath('../../torcs_SL/TORCS_DATA/data/e-track-6/6.csv'),\n",
       "        PosixPath('../../torcs_SL/TORCS_DATA/data/wheel-1/1.csv'),\n",
       "        PosixPath('../../torcs_SL/TORCS_DATA/data/wheel-1/25.csv'),\n",
       "        PosixPath('../../torcs_SL/TORCS_DATA/data/eroad/16.csv'),\n",
       "        PosixPath('../../torcs_SL/TORCS_DATA/data/g-track-3/10.csv'),\n",
       "        PosixPath('../../torcs_SL/TORCS_DATA/data/aalborg/17.csv'),\n",
       "        PosixPath('../../torcs_SL/TORCS_DATA/data/wheel-2/13.csv'),\n",
       "        PosixPath('../../torcs_SL/TORCS_DATA/data/wheel-1/13.csv'),\n",
       "        PosixPath('../../torcs_SL/TORCS_DATA/data/g-track-2/30.csv'),\n",
       "        PosixPath('../../torcs_SL/TORCS_DATA/data/brondehach/21.csv'),\n",
       "        PosixPath('../../torcs_SL/TORCS_DATA/data/e-track-4/13.csv'),\n",
       "        PosixPath('../../torcs_SL/TORCS_DATA/data/brondehach/25.csv'),\n",
       "        PosixPath('../../torcs_SL/TORCS_DATA/data/aalborg/10.csv'),\n",
       "        PosixPath('../../torcs_SL/TORCS_DATA/data/c-speedway/16.csv'),\n",
       "        PosixPath('../../torcs_SL/TORCS_DATA/data/a-speedway/10.csv'),\n",
       "        PosixPath('../../torcs_SL/TORCS_DATA/data/e-track-5/1.csv'),\n",
       "        PosixPath('../../torcs_SL/TORCS_DATA/data/street-1/7.csv'),\n",
       "        PosixPath('../../torcs_SL/TORCS_DATA/data/d-speedway/5.csv'),\n",
       "        PosixPath('../../torcs_SL/TORCS_DATA/data/d-speedway/25.csv'),\n",
       "        PosixPath('../../torcs_SL/TORCS_DATA/data/e-track-6/2.csv'),\n",
       "        PosixPath('../../torcs_SL/TORCS_DATA/data/a-speedway/20.csv'),\n",
       "        PosixPath('../../torcs_SL/TORCS_DATA/data/g-speedway/19.csv'),\n",
       "        PosixPath('../../torcs_SL/TORCS_DATA/data/g-track-2/4.csv'),\n",
       "        PosixPath('../../torcs_SL/TORCS_DATA/data/wheel-1/7.csv'),\n",
       "        PosixPath('../../torcs_SL/TORCS_DATA/data/e-track-6/24.csv'),\n",
       "        PosixPath('../../torcs_SL/TORCS_DATA/data/wheel-2/17.csv'),\n",
       "        PosixPath('../../torcs_SL/TORCS_DATA/data/g-track-1/15.csv'),\n",
       "        PosixPath('../../torcs_SL/TORCS_DATA/data/e-track-5/19.csv'),\n",
       "        PosixPath('../../torcs_SL/TORCS_DATA/data/michigan/19.csv'),\n",
       "        PosixPath('../../torcs_SL/TORCS_DATA/data/e-speedway/19.csv'),\n",
       "        PosixPath('../../torcs_SL/TORCS_DATA/data/forza/5.csv'),\n",
       "        PosixPath('../../torcs_SL/TORCS_DATA/data/d-speedway/8.csv'),\n",
       "        PosixPath('../../torcs_SL/TORCS_DATA/data/michigan/17.csv'),\n",
       "        PosixPath('../../torcs_SL/TORCS_DATA/data/g-track-2/29.csv'),\n",
       "        PosixPath('../../torcs_SL/TORCS_DATA/data/g-track-2/16.csv'),\n",
       "        PosixPath('../../torcs_SL/TORCS_DATA/data/g-speedway/23.csv'),\n",
       "        PosixPath('../../torcs_SL/TORCS_DATA/data/c-speedway/1.csv'),\n",
       "        PosixPath('../../torcs_SL/TORCS_DATA/data/alpine-1/23.csv'),\n",
       "        PosixPath('../../torcs_SL/TORCS_DATA/data/wheel-2/1.csv'),\n",
       "        PosixPath('../../torcs_SL/TORCS_DATA/data/g-track-2/5.csv'),\n",
       "        PosixPath('../../torcs_SL/TORCS_DATA/data/g-speedway/1.csv'),\n",
       "        PosixPath('../../torcs_SL/TORCS_DATA/data/e-track-5/8.csv'),\n",
       "        PosixPath('../../torcs_SL/TORCS_DATA/data/aalborg/8.csv')],\n",
       "       dtype=object),\n",
       " array([PosixPath('../../torcs_SL/TORCS_DATA/data/alpine-2/29.csv'),\n",
       "        PosixPath('../../torcs_SL/TORCS_DATA/data/e-track-3/26.csv'),\n",
       "        PosixPath('../../torcs_SL/TORCS_DATA/data/alpine-2/6.csv'),\n",
       "        PosixPath('../../torcs_SL/TORCS_DATA/data/ruudskogen/1.csv'),\n",
       "        PosixPath('../../torcs_SL/TORCS_DATA/data/wheel-2/5.csv'),\n",
       "        PosixPath('../../torcs_SL/TORCS_DATA/data/wheel-2/20.csv'),\n",
       "        PosixPath('../../torcs_SL/TORCS_DATA/data/ruudskogen/19.csv'),\n",
       "        PosixPath('../../torcs_SL/TORCS_DATA/data/ruudskogen/22.csv'),\n",
       "        PosixPath('../../torcs_SL/TORCS_DATA/data/alpine-2/16.csv'),\n",
       "        PosixPath('../../torcs_SL/TORCS_DATA/data/alpine-2/30.csv'),\n",
       "        PosixPath('../../torcs_SL/TORCS_DATA/data/e-track-3/27.csv'),\n",
       "        PosixPath('../../torcs_SL/TORCS_DATA/data/corkscrew/20.csv'),\n",
       "        PosixPath('../../torcs_SL/TORCS_DATA/data/wheel-2/10.csv'),\n",
       "        PosixPath('../../torcs_SL/TORCS_DATA/data/alpine-2/5.csv'),\n",
       "        PosixPath('../../torcs_SL/TORCS_DATA/data/e-track-3/16.csv'),\n",
       "        PosixPath('../../torcs_SL/TORCS_DATA/data/ruudskogen/27.csv'),\n",
       "        PosixPath('../../torcs_SL/TORCS_DATA/data/corkscrew/10.csv'),\n",
       "        PosixPath('../../torcs_SL/TORCS_DATA/data/alpine-2/17.csv'),\n",
       "        PosixPath('../../torcs_SL/TORCS_DATA/data/alpine-2/9.csv'),\n",
       "        PosixPath('../../torcs_SL/TORCS_DATA/data/alpine-2/22.csv'),\n",
       "        PosixPath('../../torcs_SL/TORCS_DATA/data/e-track-3/24.csv'),\n",
       "        PosixPath('../../torcs_SL/TORCS_DATA/data/e-track-3/28.csv'),\n",
       "        PosixPath('../../torcs_SL/TORCS_DATA/data/corkscrew/22.csv'),\n",
       "        PosixPath('../../torcs_SL/TORCS_DATA/data/alpine-2/21.csv'),\n",
       "        PosixPath('../../torcs_SL/TORCS_DATA/data/corkscrew/9.csv')],\n",
       "       dtype=object))"
      ]
     },
     "execution_count": 6,
     "metadata": {},
     "output_type": "execute_result"
    }
   ],
   "source": [
    "traffic_train_track_files, traffic_val_track_files = get_data_files(\"../../torcs_SL/TORCS_DATA/data\", 60, 25)\n",
    "traffic_train_track_files, traffic_val_track_files"
   ]
  },
  {
   "cell_type": "markdown",
   "metadata": {},
   "source": [
    "### Train-Test Split"
   ]
  },
  {
   "cell_type": "code",
   "execution_count": 7,
   "metadata": {},
   "outputs": [
    {
     "name": "stdout",
     "output_type": "stream",
     "text": [
      "(365361, 79)\n",
      "(121802, 79)\n"
     ]
    }
   ],
   "source": [
    "empty_training_data = pd.DataFrame()\n",
    "empty_validation_data = pd.DataFrame()\n",
    "split_ratio = 0.8\n",
    "\n",
    "for fi in empty_train_track_files:\n",
    "    empty_training_data = pd.concat([empty_training_data, pd.read_csv(fi)]).reset_index(drop=True)\n",
    "\n",
    "for fi in empty_val_track_files:\n",
    "\n",
    "    empty_validation_data = pd.concat([empty_validation_data, pd.read_csv(fi)]).reset_index(drop=True)\n",
    "\n",
    "print (empty_training_data.shape)\n",
    "print (empty_validation_data.shape)"
   ]
  },
  {
   "cell_type": "code",
   "execution_count": 8,
   "metadata": {},
   "outputs": [
    {
     "name": "stdout",
     "output_type": "stream",
     "text": [
      "(655746, 79)\n",
      "(373025, 79)\n"
     ]
    }
   ],
   "source": [
    "traffic_training_data = pd.DataFrame()\n",
    "traffic_validation_data = pd.DataFrame()\n",
    "split_ratio = 0.8\n",
    "\n",
    "for fi in traffic_train_track_files:\n",
    "    traffic_training_data = pd.concat([traffic_training_data, pd.read_csv(fi)]).reset_index(drop=True)\n",
    "\n",
    "for fi in traffic_val_track_files:\n",
    "\n",
    "    traffic_validation_data = pd.concat([traffic_validation_data, pd.read_csv(fi)]).reset_index(drop=True)\n",
    "    \n",
    "print (traffic_training_data.shape)\n",
    "print (traffic_validation_data.shape)"
   ]
  },
  {
   "cell_type": "code",
   "execution_count": 9,
   "metadata": {},
   "outputs": [],
   "source": [
    "training_data = pd.concat([empty_training_data, traffic_training_data]).reset_index(drop=True)\n",
    "validation_data = pd.concat([empty_validation_data, traffic_validation_data]).reset_index(drop=True)\n"
   ]
  },
  {
   "cell_type": "raw",
   "metadata": {},
   "source": [
    "with open(MODEL_SAVE_DIR.joinpath(\"tracks.txt\"), \"w\") as fp:\n",
    "    fp.writelines([\"TRAIN\"])\n",
    "    fp.writelines(list(np.unique([x.parts[-2] for x in train_track_files])))\n",
    "    fp.writelines([\"VAL\"])\n",
    "    fp.writelines(list(np.unique([x.parts[-2] for x in val_track_files])))\n",
    "    "
   ]
  },
  {
   "cell_type": "raw",
   "metadata": {},
   "source": [
    "train_track_files, val_track_files"
   ]
  },
  {
   "cell_type": "markdown",
   "metadata": {},
   "source": [
    "### Train-Test Split"
   ]
  },
  {
   "cell_type": "raw",
   "metadata": {},
   "source": [
    "training_data = pd.DataFrame()\n",
    "validation_data = pd.DataFrame()\n",
    "split_ratio = 0.8\n",
    "\n",
    "for fi in train_track_files:\n",
    "    training_data = pd.concat([training_data, pd.read_csv(fi)]).reset_index(drop=True)\n",
    "\n",
    "for fi in val_track_files:\n",
    "\n",
    "    validation_data = pd.concat([validation_data, pd.read_csv(fi)]).reset_index(drop=True)\n"
   ]
  },
  {
   "cell_type": "raw",
   "metadata": {},
   "source": [
    "print (training_data.shape)\n",
    "print (validation_data.shape)"
   ]
  },
  {
   "cell_type": "code",
   "execution_count": 10,
   "metadata": {},
   "outputs": [
    {
     "data": {
      "text/plain": [
       "array(['Angle', ' CurrentLapTime', ' Damage', ' DistanceFromStart',\n",
       "       ' DistanceCovered', ' FuelLevel', ' Gear', ' LastLapTime',\n",
       "       ' Opponent_1', 'Opponent_2', 'Opponent_3', 'Opponent_4',\n",
       "       'Opponent_5', 'Opponent_6', 'Opponent_7', 'Opponent_8',\n",
       "       'Opponent_9', 'Opponent_10', 'Opponent_11', 'Opponent_12',\n",
       "       'Opponent_13', 'Opponent_14', 'Opponent_15', 'Opponent_16',\n",
       "       'Opponent_17', 'Opponent_18', 'Opponent_19', 'Opponent_20',\n",
       "       'Opponent_21', 'Opponent_22', 'Opponent_23', 'Opponent_24',\n",
       "       'Opponent_25', 'Opponent_26', 'Opponent_27', 'Opponent_28',\n",
       "       'Opponent_29', 'Opponent_30', 'Opponent_31', 'Opponent_32',\n",
       "       'Opponent_33', 'Opponent_34', 'Opponent_35', 'Opponent_36',\n",
       "       'RacePosition', ' RPM', ' SpeedX', ' SpeedY', ' SpeedZ',\n",
       "       ' Track_1', 'Track_2', 'Track_3', 'Track_4', 'Track_5', 'Track_6',\n",
       "       'Track_7', 'Track_8', 'Track_9', 'Track_10', 'Track_11',\n",
       "       'Track_12', 'Track_13', 'Track_14', 'Track_15', 'Track_16',\n",
       "       'Track_17', 'Track_18', 'Track_19', 'TrackPosition',\n",
       "       ' WheelSpinVelocity_1', 'WheelSpinVelocity_2',\n",
       "       'WheelSpinVelocity_3', 'WheelSpinVelocity_4', 'Z', ' Acceleration',\n",
       "       'Braking', 'Clutch', 'Gear', 'Steering'], dtype=object)"
      ]
     },
     "execution_count": 10,
     "metadata": {},
     "output_type": "execute_result"
    }
   ],
   "source": [
    "training_data.columns.values"
   ]
  },
  {
   "cell_type": "code",
   "execution_count": 11,
   "metadata": {},
   "outputs": [],
   "source": [
    "del training_data[' CurrentLapTime']\n",
    "del validation_data[' CurrentLapTime']\n",
    "del training_data[' LastLapTime']\n",
    "del validation_data[' LastLapTime']\n",
    "del training_data[' Damage']\n",
    "del validation_data[' Damage']\n",
    "del training_data[' FuelLevel']\n",
    "del validation_data[' FuelLevel']\n",
    "\n",
    "del training_data[' DistanceFromStart']\n",
    "del validation_data[' DistanceFromStart']\n",
    "\n",
    "\n",
    "del training_data['RacePosition']\n",
    "del validation_data['RacePosition']\n",
    "\n",
    "# for col in [c for c in training_data.columns if c.strip()[:3] == \"Opp\"]:\n",
    "#     del training_data[col]\n",
    "#     del validation_data[col]\n",
    "            "
   ]
  },
  {
   "cell_type": "code",
   "execution_count": 12,
   "metadata": {},
   "outputs": [],
   "source": [
    "X_train=training_data.loc[:,'Angle':'Z']\n",
    "Y_train=training_data.loc[:,' Acceleration':'Steering']\n",
    "X_val=validation_data.loc[:,'Angle':'Z']\n",
    "Y_val=validation_data.loc[:,' Acceleration':'Steering']"
   ]
  },
  {
   "cell_type": "code",
   "execution_count": 13,
   "metadata": {},
   "outputs": [
    {
     "data": {
      "text/plain": [
       "Index(['Angle', ' DistanceCovered', ' Gear', ' Opponent_1', 'Opponent_2',\n",
       "       'Opponent_3', 'Opponent_4', 'Opponent_5', 'Opponent_6', 'Opponent_7',\n",
       "       'Opponent_8', 'Opponent_9', 'Opponent_10', 'Opponent_11', 'Opponent_12',\n",
       "       'Opponent_13', 'Opponent_14', 'Opponent_15', 'Opponent_16',\n",
       "       'Opponent_17', 'Opponent_18', 'Opponent_19', 'Opponent_20',\n",
       "       'Opponent_21', 'Opponent_22', 'Opponent_23', 'Opponent_24',\n",
       "       'Opponent_25', 'Opponent_26', 'Opponent_27', 'Opponent_28',\n",
       "       'Opponent_29', 'Opponent_30', 'Opponent_31', 'Opponent_32',\n",
       "       'Opponent_33', 'Opponent_34', 'Opponent_35', 'Opponent_36', ' RPM',\n",
       "       ' SpeedX', ' SpeedY', ' SpeedZ', ' Track_1', 'Track_2', 'Track_3',\n",
       "       'Track_4', 'Track_5', 'Track_6', 'Track_7', 'Track_8', 'Track_9',\n",
       "       'Track_10', 'Track_11', 'Track_12', 'Track_13', 'Track_14', 'Track_15',\n",
       "       'Track_16', 'Track_17', 'Track_18', 'Track_19', 'TrackPosition',\n",
       "       ' WheelSpinVelocity_1', 'WheelSpinVelocity_2', 'WheelSpinVelocity_3',\n",
       "       'WheelSpinVelocity_4', 'Z', ' Acceleration', 'Braking', 'Clutch',\n",
       "       'Gear', 'Steering'],\n",
       "      dtype='object')"
      ]
     },
     "execution_count": 13,
     "metadata": {},
     "output_type": "execute_result"
    }
   ],
   "source": [
    "training_data.columns"
   ]
  },
  {
   "cell_type": "code",
   "execution_count": 14,
   "metadata": {},
   "outputs": [
    {
     "name": "stdout",
     "output_type": "stream",
     "text": [
      "(1021107, 68)\n",
      "(1021107, 5)\n",
      "(494827, 68)\n",
      "(494827, 5)\n",
      "(1021107, 68)\n",
      "(1021107, 5)\n",
      "(494827, 68)\n",
      "(494827, 5)\n"
     ]
    }
   ],
   "source": [
    "print (X_train.shape)\n",
    "print (Y_train.shape)\n",
    "print (X_val.shape)\n",
    "print (Y_val.shape)\n",
    "scaler = StandardScaler()\n",
    "X_train=scaler.fit_transform(X_train)\n",
    "X_val=scaler.fit_transform(X_val)\n",
    "Y_train=Y_train.values\n",
    "Y_val=Y_val.values\n",
    "print (X_train.shape)\n",
    "print (Y_train.shape)\n",
    "print (X_val.shape)\n",
    "print (Y_val.shape)"
   ]
  },
  {
   "cell_type": "markdown",
   "metadata": {},
   "source": [
    "### Save these means and stds for test time"
   ]
  },
  {
   "cell_type": "code",
   "execution_count": 15,
   "metadata": {},
   "outputs": [
    {
     "data": {
      "text/plain": [
       "array([-8.95989949e-03,  5.94205657e+03,  3.17347073e+00,  1.77770361e+02,\n",
       "        1.89595867e+02,  1.92660681e+02,  1.94293731e+02,  1.95445305e+02,\n",
       "        1.96547803e+02,  1.97417438e+02,  1.98133056e+02,  1.98189746e+02,\n",
       "        1.98140520e+02,  1.97969495e+02,  1.97551607e+02,  1.96795619e+02,\n",
       "        1.96282308e+02,  1.95115827e+02,  1.93799447e+02,  1.91388102e+02,\n",
       "        1.82145124e+02,  1.80607976e+02,  1.90838714e+02,  1.94550430e+02,\n",
       "        1.97093221e+02,  1.98133372e+02,  1.98653986e+02,  1.98964978e+02,\n",
       "        1.99075428e+02,  1.99064594e+02,  1.98948492e+02,  1.98695515e+02,\n",
       "        1.98427860e+02,  1.97958890e+02,  1.96768524e+02,  1.95513886e+02,\n",
       "        1.92023733e+02,  1.86031905e+02,  1.77267575e+02,  7.81480585e+03,\n",
       "        1.53405432e+02, -5.45181756e-01,  4.65424427e-02,  5.71431003e+00,\n",
       "        5.90113028e+00,  7.43151333e+00,  1.00895566e+01,  1.91426320e+01,\n",
       "        2.51341442e+01,  3.51760566e+01,  6.08163245e+01,  8.11845252e+01,\n",
       "        8.13476631e+01,  7.96213661e+01,  6.06304817e+01,  3.99729713e+01,\n",
       "        2.47382100e+01,  1.86156132e+01,  1.07831844e+01,  8.17912139e+00,\n",
       "        6.54712235e+00,  6.30310798e+00,  2.06558045e-02,  1.27256005e+02,\n",
       "        1.26978990e+02,  1.32375268e+02,  1.32239165e+02,  3.31173134e-01])"
      ]
     },
     "execution_count": 15,
     "metadata": {},
     "output_type": "execute_result"
    }
   ],
   "source": [
    "scaler.mean_"
   ]
  },
  {
   "cell_type": "code",
   "execution_count": 16,
   "metadata": {},
   "outputs": [
    {
     "data": {
      "text/plain": [
       "array([2.29779967e-01, 3.98821524e+03, 1.03327109e+00, 5.30737596e+01,\n",
       "       3.78010326e+01, 3.09062439e+01, 2.58743642e+01, 2.25307421e+01,\n",
       "       1.94063542e+01, 1.76814194e+01, 1.50437120e+01, 1.49524787e+01,\n",
       "       1.51923703e+01, 1.58202646e+01, 1.73331726e+01, 1.99124906e+01,\n",
       "       2.12544315e+01, 2.42691448e+01, 2.83681111e+01, 3.46792763e+01,\n",
       "       4.87963644e+01, 5.06019814e+01, 3.55378471e+01, 2.73742123e+01,\n",
       "       1.86951110e+01, 1.43767269e+01, 1.22328374e+01, 1.10612270e+01,\n",
       "       1.00899225e+01, 1.01350884e+01, 1.08551131e+01, 1.21870750e+01,\n",
       "       1.30428090e+01, 1.48448241e+01, 1.90009788e+01, 2.27375311e+01,\n",
       "       3.15625526e+01, 4.29105814e+01, 5.45394429e+01, 1.23065967e+03,\n",
       "       5.20142588e+01, 5.81388271e+00, 7.95368999e+00, 3.32591667e+00,\n",
       "       3.33323202e+00, 4.47065555e+00, 6.56119915e+00, 1.79053238e+01,\n",
       "       1.99009692e+01, 2.21793803e+01, 3.87502048e+01, 5.78609709e+01,\n",
       "       5.67570267e+01, 5.52517573e+01, 3.76242742e+01, 2.88664188e+01,\n",
       "       1.68424383e+01, 1.29402013e+01, 5.66096644e+00, 4.40301297e+00,\n",
       "       3.94305617e+00, 3.29836227e+00, 5.03482909e-01, 4.40032317e+01,\n",
       "       4.43674390e+01, 4.40210517e+01, 4.42289896e+01, 1.12723708e-02])"
      ]
     },
     "execution_count": 16,
     "metadata": {},
     "output_type": "execute_result"
    }
   ],
   "source": [
    "scaler.scale_"
   ]
  },
  {
   "cell_type": "code",
   "execution_count": 17,
   "metadata": {},
   "outputs": [],
   "source": [
    "np.save(MODEL_SAVE_DIR.joinpath(\"means.npy\"), scaler.mean_)\n",
    "np.save(MODEL_SAVE_DIR.joinpath(\"stds.npy\"), scaler.scale_)"
   ]
  },
  {
   "cell_type": "markdown",
   "metadata": {},
   "source": [
    "## Model Building"
   ]
  },
  {
   "cell_type": "code",
   "execution_count": 18,
   "metadata": {},
   "outputs": [
    {
     "name": "stdout",
     "output_type": "stream",
     "text": [
      "WARNING:tensorflow:`epsilon` argument is deprecated and will be removed, use `min_delta` instead.\n"
     ]
    }
   ],
   "source": [
    "from tensorflow.keras.callbacks import ReduceLROnPlateau\n",
    "reduce_lr = ReduceLROnPlateau(monitor='val_loss', factor=0.1,\n",
    "                              patience=5,epsilon=0.0003, min_lr=0)"
   ]
  },
  {
   "cell_type": "code",
   "execution_count": 22,
   "metadata": {
    "scrolled": true
   },
   "outputs": [],
   "source": [
    "learning_rate=1e-3\n",
    "output_dim=Y_train.shape[1]\n",
    "model=Sequential()\n",
    "model.add(Dense(512\n",
    "                ,input_shape=(X_train.shape[1],),activation='relu',kernel_initializer='he_normal'))\n",
    "# model.add(Dense(512,activation='relu',kernel_initializer='he_normal'))\n",
    "model.add(Dense(256,activation='relu',kernel_initializer='he_normal'))\n",
    "model.add(Dense(128,activation='relu',kernel_initializer='he_normal'))\n",
    "model.add(Dense(64,activation='relu',kernel_initializer='he_normal'))\n",
    "model.add(Dense(32,activation='relu',kernel_initializer='he_normal'))\n",
    "model.add(Dense(16,activation='relu',kernel_initializer='he_normal'))\n",
    "model.add(Dense(8,activation='relu',kernel_initializer='he_normal'))\n",
    "model.add(Dense(5,kernel_initializer='he_normal'))\n",
    "model.compile(optimizer=Adam(learning_rate),loss='mean_absolute_error',metrics=['mae'])\n"
   ]
  },
  {
   "cell_type": "code",
   "execution_count": 23,
   "metadata": {},
   "outputs": [
    {
     "name": "stdout",
     "output_type": "stream",
     "text": [
      "Model: \"sequential_1\"\n",
      "_________________________________________________________________\n",
      " Layer (type)                Output Shape              Param #   \n",
      "=================================================================\n",
      " dense_9 (Dense)             (None, 512)               35328     \n",
      "                                                                 \n",
      " dense_10 (Dense)            (None, 256)               131328    \n",
      "                                                                 \n",
      " dense_11 (Dense)            (None, 128)               32896     \n",
      "                                                                 \n",
      " dense_12 (Dense)            (None, 64)                8256      \n",
      "                                                                 \n",
      " dense_13 (Dense)            (None, 32)                2080      \n",
      "                                                                 \n",
      " dense_14 (Dense)            (None, 16)                528       \n",
      "                                                                 \n",
      " dense_15 (Dense)            (None, 8)                 136       \n",
      "                                                                 \n",
      " dense_16 (Dense)            (None, 5)                 45        \n",
      "                                                                 \n",
      "=================================================================\n",
      "Total params: 210,597\n",
      "Trainable params: 210,597\n",
      "Non-trainable params: 0\n",
      "_________________________________________________________________\n"
     ]
    }
   ],
   "source": [
    "model.summary()"
   ]
  },
  {
   "cell_type": "code",
   "execution_count": 24,
   "metadata": {},
   "outputs": [
    {
     "name": "stdout",
     "output_type": "stream",
     "text": [
      "Epoch 1/500\n",
      "3989/3989 [==============================] - 10s 2ms/step - loss: 0.1199 - mae: 0.1199 - val_loss: 0.2175 - val_mae: 0.2175 - lr: 0.0010\n",
      "Epoch 2/500\n",
      "3989/3989 [==============================] - 9s 2ms/step - loss: 0.0763 - mae: 0.0763 - val_loss: 0.2037 - val_mae: 0.2037 - lr: 0.0010\n",
      "Epoch 3/500\n",
      "3989/3989 [==============================] - 9s 2ms/step - loss: 0.0359 - mae: 0.0359 - val_loss: 0.1682 - val_mae: 0.1682 - lr: 0.0010\n",
      "Epoch 4/500\n",
      "3989/3989 [==============================] - 9s 2ms/step - loss: 0.0262 - mae: 0.0262 - val_loss: 0.1642 - val_mae: 0.1642 - lr: 0.0010\n",
      "Epoch 5/500\n",
      "3989/3989 [==============================] - 9s 2ms/step - loss: 0.0243 - mae: 0.0243 - val_loss: 0.1628 - val_mae: 0.1628 - lr: 0.0010\n",
      "Epoch 6/500\n",
      "3989/3989 [==============================] - 9s 2ms/step - loss: 0.0231 - mae: 0.0231 - val_loss: 0.1650 - val_mae: 0.1650 - lr: 0.0010\n",
      "Epoch 7/500\n",
      "3989/3989 [==============================] - 9s 2ms/step - loss: 0.0222 - mae: 0.0222 - val_loss: 0.1628 - val_mae: 0.1628 - lr: 0.0010\n",
      "Epoch 8/500\n",
      "3989/3989 [==============================] - 9s 2ms/step - loss: 0.0216 - mae: 0.0216 - val_loss: 0.1588 - val_mae: 0.1588 - lr: 0.0010\n",
      "Epoch 9/500\n",
      "3989/3989 [==============================] - 9s 2ms/step - loss: 0.0196 - mae: 0.0196 - val_loss: 0.1582 - val_mae: 0.1582 - lr: 0.0010\n",
      "Epoch 10/500\n",
      "3989/3989 [==============================] - 9s 2ms/step - loss: 0.0186 - mae: 0.0186 - val_loss: 0.1569 - val_mae: 0.1569 - lr: 0.0010\n",
      "Epoch 11/500\n",
      "3989/3989 [==============================] - 9s 2ms/step - loss: 0.0181 - mae: 0.0181 - val_loss: 0.1516 - val_mae: 0.1516 - lr: 0.0010\n",
      "Epoch 12/500\n",
      "3989/3989 [==============================] - 9s 2ms/step - loss: 0.0176 - mae: 0.0176 - val_loss: 0.1569 - val_mae: 0.1569 - lr: 0.0010\n",
      "Epoch 13/500\n",
      "3989/3989 [==============================] - 9s 2ms/step - loss: 0.0169 - mae: 0.0169 - val_loss: 0.1504 - val_mae: 0.1504 - lr: 0.0010\n",
      "Epoch 14/500\n",
      "3989/3989 [==============================] - 9s 2ms/step - loss: 0.0165 - mae: 0.0165 - val_loss: 0.1490 - val_mae: 0.1490 - lr: 0.0010\n",
      "Epoch 15/500\n",
      "3989/3989 [==============================] - 9s 2ms/step - loss: 0.0163 - mae: 0.0163 - val_loss: 0.1535 - val_mae: 0.1535 - lr: 0.0010\n",
      "Epoch 16/500\n",
      "3989/3989 [==============================] - 9s 2ms/step - loss: 0.0161 - mae: 0.0161 - val_loss: 0.1598 - val_mae: 0.1598 - lr: 0.0010\n",
      "Epoch 17/500\n",
      "3989/3989 [==============================] - 9s 2ms/step - loss: 0.0157 - mae: 0.0157 - val_loss: 0.1549 - val_mae: 0.1549 - lr: 0.0010\n",
      "Epoch 18/500\n",
      "3989/3989 [==============================] - 9s 2ms/step - loss: 0.0155 - mae: 0.0155 - val_loss: 0.1524 - val_mae: 0.1524 - lr: 0.0010\n",
      "Epoch 19/500\n",
      "3989/3989 [==============================] - 9s 2ms/step - loss: 0.0152 - mae: 0.0152 - val_loss: 0.1564 - val_mae: 0.1564 - lr: 0.0010\n",
      "Epoch 20/500\n",
      "3989/3989 [==============================] - 9s 2ms/step - loss: 0.0118 - mae: 0.0118 - val_loss: 0.1542 - val_mae: 0.1542 - lr: 1.0000e-04\n",
      "Epoch 21/500\n",
      "3989/3989 [==============================] - 9s 2ms/step - loss: 0.0114 - mae: 0.0114 - val_loss: 0.1543 - val_mae: 0.1543 - lr: 1.0000e-04\n",
      "Epoch 22/500\n",
      "3989/3989 [==============================] - 9s 2ms/step - loss: 0.0112 - mae: 0.0112 - val_loss: 0.1571 - val_mae: 0.1571 - lr: 1.0000e-04\n",
      "Epoch 23/500\n",
      "3989/3989 [==============================] - 9s 2ms/step - loss: 0.0112 - mae: 0.0112 - val_loss: 0.1563 - val_mae: 0.1563 - lr: 1.0000e-04\n",
      "Epoch 24/500\n",
      "3989/3989 [==============================] - 9s 2ms/step - loss: 0.0111 - mae: 0.0111 - val_loss: 0.1564 - val_mae: 0.1564 - lr: 1.0000e-04\n",
      "Epoch 25/500\n",
      "3989/3989 [==============================] - 9s 2ms/step - loss: 0.0107 - mae: 0.0107 - val_loss: 0.1569 - val_mae: 0.1569 - lr: 1.0000e-05\n",
      "Epoch 26/500\n",
      "3989/3989 [==============================] - 9s 2ms/step - loss: 0.0107 - mae: 0.0107 - val_loss: 0.1570 - val_mae: 0.1570 - lr: 1.0000e-05\n",
      "Epoch 27/500\n",
      "3989/3989 [==============================] - 9s 2ms/step - loss: 0.0107 - mae: 0.0107 - val_loss: 0.1568 - val_mae: 0.1568 - lr: 1.0000e-05\n",
      "Epoch 28/500\n",
      "3989/3989 [==============================] - 9s 2ms/step - loss: 0.0106 - mae: 0.0106 - val_loss: 0.1561 - val_mae: 0.1561 - lr: 1.0000e-05\n",
      "Epoch 29/500\n",
      "3989/3989 [==============================] - 9s 2ms/step - loss: 0.0106 - mae: 0.0106 - val_loss: 0.1570 - val_mae: 0.1570 - lr: 1.0000e-05\n",
      "Epoch 30/500\n",
      "3989/3989 [==============================] - 9s 2ms/step - loss: 0.0105 - mae: 0.0105 - val_loss: 0.1565 - val_mae: 0.1565 - lr: 1.0000e-06\n",
      "Epoch 31/500\n",
      "3989/3989 [==============================] - 9s 2ms/step - loss: 0.0105 - mae: 0.0105 - val_loss: 0.1565 - val_mae: 0.1565 - lr: 1.0000e-06\n",
      "Epoch 32/500\n",
      "3989/3989 [==============================] - 9s 2ms/step - loss: 0.0105 - mae: 0.0105 - val_loss: 0.1565 - val_mae: 0.1565 - lr: 1.0000e-06\n",
      "Epoch 33/500\n",
      "3989/3989 [==============================] - 9s 2ms/step - loss: 0.0105 - mae: 0.0105 - val_loss: 0.1565 - val_mae: 0.1565 - lr: 1.0000e-06\n",
      "Epoch 34/500\n",
      "3058/3989 [=====================>........] - ETA: 1s - loss: 0.0105 - mae: 0.0105"
     ]
    },
    {
     "ename": "KeyboardInterrupt",
     "evalue": "",
     "output_type": "error",
     "traceback": [
      "\u001b[0;31m---------------------------------------------------------------------------\u001b[0m",
      "\u001b[0;31mKeyboardInterrupt\u001b[0m                         Traceback (most recent call last)",
      "Cell \u001b[0;32mIn[24], line 1\u001b[0m\n\u001b[0;32m----> 1\u001b[0m \u001b[43mmodel\u001b[49m\u001b[38;5;241;43m.\u001b[39;49m\u001b[43mfit\u001b[49m\u001b[43m(\u001b[49m\u001b[43mX_train\u001b[49m\u001b[43m,\u001b[49m\u001b[43mY_train\u001b[49m\u001b[43m,\u001b[49m\u001b[43mvalidation_data\u001b[49m\u001b[38;5;241;43m=\u001b[39;49m\u001b[43m(\u001b[49m\u001b[43mX_val\u001b[49m\u001b[43m,\u001b[49m\u001b[43mY_val\u001b[49m\u001b[43m)\u001b[49m\u001b[43m,\u001b[49m\u001b[43mbatch_size\u001b[49m\u001b[38;5;241;43m=\u001b[39;49m\u001b[38;5;241;43m256\u001b[39;49m\u001b[43m,\u001b[49m\u001b[43mepochs\u001b[49m\u001b[38;5;241;43m=\u001b[39;49m\u001b[38;5;241;43m500\u001b[39;49m\u001b[43m,\u001b[49m\u001b[43m \u001b[49m\u001b[43mcallbacks\u001b[49m\u001b[38;5;241;43m=\u001b[39;49m\u001b[43m[\u001b[49m\u001b[43mreduce_lr\u001b[49m\u001b[43m]\u001b[49m\u001b[43m)\u001b[49m\n",
      "File \u001b[0;32m~/miniconda3/envs/tf/lib/python3.9/site-packages/keras/utils/traceback_utils.py:65\u001b[0m, in \u001b[0;36mfilter_traceback.<locals>.error_handler\u001b[0;34m(*args, **kwargs)\u001b[0m\n\u001b[1;32m     63\u001b[0m filtered_tb \u001b[38;5;241m=\u001b[39m \u001b[38;5;28;01mNone\u001b[39;00m\n\u001b[1;32m     64\u001b[0m \u001b[38;5;28;01mtry\u001b[39;00m:\n\u001b[0;32m---> 65\u001b[0m     \u001b[38;5;28;01mreturn\u001b[39;00m \u001b[43mfn\u001b[49m\u001b[43m(\u001b[49m\u001b[38;5;241;43m*\u001b[39;49m\u001b[43margs\u001b[49m\u001b[43m,\u001b[49m\u001b[43m \u001b[49m\u001b[38;5;241;43m*\u001b[39;49m\u001b[38;5;241;43m*\u001b[39;49m\u001b[43mkwargs\u001b[49m\u001b[43m)\u001b[49m\n\u001b[1;32m     66\u001b[0m \u001b[38;5;28;01mexcept\u001b[39;00m \u001b[38;5;167;01mException\u001b[39;00m \u001b[38;5;28;01mas\u001b[39;00m e:\n\u001b[1;32m     67\u001b[0m     filtered_tb \u001b[38;5;241m=\u001b[39m _process_traceback_frames(e\u001b[38;5;241m.\u001b[39m__traceback__)\n",
      "File \u001b[0;32m~/miniconda3/envs/tf/lib/python3.9/site-packages/keras/engine/training.py:1685\u001b[0m, in \u001b[0;36mModel.fit\u001b[0;34m(self, x, y, batch_size, epochs, verbose, callbacks, validation_split, validation_data, shuffle, class_weight, sample_weight, initial_epoch, steps_per_epoch, validation_steps, validation_batch_size, validation_freq, max_queue_size, workers, use_multiprocessing)\u001b[0m\n\u001b[1;32m   1677\u001b[0m \u001b[38;5;28;01mwith\u001b[39;00m tf\u001b[38;5;241m.\u001b[39mprofiler\u001b[38;5;241m.\u001b[39mexperimental\u001b[38;5;241m.\u001b[39mTrace(\n\u001b[1;32m   1678\u001b[0m     \u001b[38;5;124m\"\u001b[39m\u001b[38;5;124mtrain\u001b[39m\u001b[38;5;124m\"\u001b[39m,\n\u001b[1;32m   1679\u001b[0m     epoch_num\u001b[38;5;241m=\u001b[39mepoch,\n\u001b[0;32m   (...)\u001b[0m\n\u001b[1;32m   1682\u001b[0m     _r\u001b[38;5;241m=\u001b[39m\u001b[38;5;241m1\u001b[39m,\n\u001b[1;32m   1683\u001b[0m ):\n\u001b[1;32m   1684\u001b[0m     callbacks\u001b[38;5;241m.\u001b[39mon_train_batch_begin(step)\n\u001b[0;32m-> 1685\u001b[0m     tmp_logs \u001b[38;5;241m=\u001b[39m \u001b[38;5;28;43mself\u001b[39;49m\u001b[38;5;241;43m.\u001b[39;49m\u001b[43mtrain_function\u001b[49m\u001b[43m(\u001b[49m\u001b[43miterator\u001b[49m\u001b[43m)\u001b[49m\n\u001b[1;32m   1686\u001b[0m     \u001b[38;5;28;01mif\u001b[39;00m data_handler\u001b[38;5;241m.\u001b[39mshould_sync:\n\u001b[1;32m   1687\u001b[0m         context\u001b[38;5;241m.\u001b[39masync_wait()\n",
      "File \u001b[0;32m~/miniconda3/envs/tf/lib/python3.9/site-packages/tensorflow/python/util/traceback_utils.py:150\u001b[0m, in \u001b[0;36mfilter_traceback.<locals>.error_handler\u001b[0;34m(*args, **kwargs)\u001b[0m\n\u001b[1;32m    148\u001b[0m filtered_tb \u001b[38;5;241m=\u001b[39m \u001b[38;5;28;01mNone\u001b[39;00m\n\u001b[1;32m    149\u001b[0m \u001b[38;5;28;01mtry\u001b[39;00m:\n\u001b[0;32m--> 150\u001b[0m   \u001b[38;5;28;01mreturn\u001b[39;00m \u001b[43mfn\u001b[49m\u001b[43m(\u001b[49m\u001b[38;5;241;43m*\u001b[39;49m\u001b[43margs\u001b[49m\u001b[43m,\u001b[49m\u001b[43m \u001b[49m\u001b[38;5;241;43m*\u001b[39;49m\u001b[38;5;241;43m*\u001b[39;49m\u001b[43mkwargs\u001b[49m\u001b[43m)\u001b[49m\n\u001b[1;32m    151\u001b[0m \u001b[38;5;28;01mexcept\u001b[39;00m \u001b[38;5;167;01mException\u001b[39;00m \u001b[38;5;28;01mas\u001b[39;00m e:\n\u001b[1;32m    152\u001b[0m   filtered_tb \u001b[38;5;241m=\u001b[39m _process_traceback_frames(e\u001b[38;5;241m.\u001b[39m__traceback__)\n",
      "File \u001b[0;32m~/miniconda3/envs/tf/lib/python3.9/site-packages/tensorflow/python/eager/polymorphic_function/polymorphic_function.py:894\u001b[0m, in \u001b[0;36mFunction.__call__\u001b[0;34m(self, *args, **kwds)\u001b[0m\n\u001b[1;32m    891\u001b[0m compiler \u001b[38;5;241m=\u001b[39m \u001b[38;5;124m\"\u001b[39m\u001b[38;5;124mxla\u001b[39m\u001b[38;5;124m\"\u001b[39m \u001b[38;5;28;01mif\u001b[39;00m \u001b[38;5;28mself\u001b[39m\u001b[38;5;241m.\u001b[39m_jit_compile \u001b[38;5;28;01melse\u001b[39;00m \u001b[38;5;124m\"\u001b[39m\u001b[38;5;124mnonXla\u001b[39m\u001b[38;5;124m\"\u001b[39m\n\u001b[1;32m    893\u001b[0m \u001b[38;5;28;01mwith\u001b[39;00m OptionalXlaContext(\u001b[38;5;28mself\u001b[39m\u001b[38;5;241m.\u001b[39m_jit_compile):\n\u001b[0;32m--> 894\u001b[0m   result \u001b[38;5;241m=\u001b[39m \u001b[38;5;28;43mself\u001b[39;49m\u001b[38;5;241;43m.\u001b[39;49m\u001b[43m_call\u001b[49m\u001b[43m(\u001b[49m\u001b[38;5;241;43m*\u001b[39;49m\u001b[43margs\u001b[49m\u001b[43m,\u001b[49m\u001b[43m \u001b[49m\u001b[38;5;241;43m*\u001b[39;49m\u001b[38;5;241;43m*\u001b[39;49m\u001b[43mkwds\u001b[49m\u001b[43m)\u001b[49m\n\u001b[1;32m    896\u001b[0m new_tracing_count \u001b[38;5;241m=\u001b[39m \u001b[38;5;28mself\u001b[39m\u001b[38;5;241m.\u001b[39mexperimental_get_tracing_count()\n\u001b[1;32m    897\u001b[0m without_tracing \u001b[38;5;241m=\u001b[39m (tracing_count \u001b[38;5;241m==\u001b[39m new_tracing_count)\n",
      "File \u001b[0;32m~/miniconda3/envs/tf/lib/python3.9/site-packages/tensorflow/python/eager/polymorphic_function/polymorphic_function.py:926\u001b[0m, in \u001b[0;36mFunction._call\u001b[0;34m(self, *args, **kwds)\u001b[0m\n\u001b[1;32m    923\u001b[0m   \u001b[38;5;28mself\u001b[39m\u001b[38;5;241m.\u001b[39m_lock\u001b[38;5;241m.\u001b[39mrelease()\n\u001b[1;32m    924\u001b[0m   \u001b[38;5;66;03m# In this case we have created variables on the first call, so we run the\u001b[39;00m\n\u001b[1;32m    925\u001b[0m   \u001b[38;5;66;03m# defunned version which is guaranteed to never create variables.\u001b[39;00m\n\u001b[0;32m--> 926\u001b[0m   \u001b[38;5;28;01mreturn\u001b[39;00m \u001b[38;5;28;43mself\u001b[39;49m\u001b[38;5;241;43m.\u001b[39;49m\u001b[43m_no_variable_creation_fn\u001b[49m\u001b[43m(\u001b[49m\u001b[38;5;241;43m*\u001b[39;49m\u001b[43margs\u001b[49m\u001b[43m,\u001b[49m\u001b[43m \u001b[49m\u001b[38;5;241;43m*\u001b[39;49m\u001b[38;5;241;43m*\u001b[39;49m\u001b[43mkwds\u001b[49m\u001b[43m)\u001b[49m  \u001b[38;5;66;03m# pylint: disable=not-callable\u001b[39;00m\n\u001b[1;32m    927\u001b[0m \u001b[38;5;28;01melif\u001b[39;00m \u001b[38;5;28mself\u001b[39m\u001b[38;5;241m.\u001b[39m_variable_creation_fn \u001b[38;5;129;01mis\u001b[39;00m \u001b[38;5;129;01mnot\u001b[39;00m \u001b[38;5;28;01mNone\u001b[39;00m:\n\u001b[1;32m    928\u001b[0m   \u001b[38;5;66;03m# Release the lock early so that multiple threads can perform the call\u001b[39;00m\n\u001b[1;32m    929\u001b[0m   \u001b[38;5;66;03m# in parallel.\u001b[39;00m\n\u001b[1;32m    930\u001b[0m   \u001b[38;5;28mself\u001b[39m\u001b[38;5;241m.\u001b[39m_lock\u001b[38;5;241m.\u001b[39mrelease()\n",
      "File \u001b[0;32m~/miniconda3/envs/tf/lib/python3.9/site-packages/tensorflow/python/eager/polymorphic_function/tracing_compiler.py:143\u001b[0m, in \u001b[0;36mTracingCompiler.__call__\u001b[0;34m(self, *args, **kwargs)\u001b[0m\n\u001b[1;32m    140\u001b[0m \u001b[38;5;28;01mwith\u001b[39;00m \u001b[38;5;28mself\u001b[39m\u001b[38;5;241m.\u001b[39m_lock:\n\u001b[1;32m    141\u001b[0m   (concrete_function,\n\u001b[1;32m    142\u001b[0m    filtered_flat_args) \u001b[38;5;241m=\u001b[39m \u001b[38;5;28mself\u001b[39m\u001b[38;5;241m.\u001b[39m_maybe_define_function(args, kwargs)\n\u001b[0;32m--> 143\u001b[0m \u001b[38;5;28;01mreturn\u001b[39;00m \u001b[43mconcrete_function\u001b[49m\u001b[38;5;241;43m.\u001b[39;49m\u001b[43m_call_flat\u001b[49m\u001b[43m(\u001b[49m\n\u001b[1;32m    144\u001b[0m \u001b[43m    \u001b[49m\u001b[43mfiltered_flat_args\u001b[49m\u001b[43m,\u001b[49m\u001b[43m \u001b[49m\u001b[43mcaptured_inputs\u001b[49m\u001b[38;5;241;43m=\u001b[39;49m\u001b[43mconcrete_function\u001b[49m\u001b[38;5;241;43m.\u001b[39;49m\u001b[43mcaptured_inputs\u001b[49m\u001b[43m)\u001b[49m\n",
      "File \u001b[0;32m~/miniconda3/envs/tf/lib/python3.9/site-packages/tensorflow/python/eager/polymorphic_function/monomorphic_function.py:1757\u001b[0m, in \u001b[0;36mConcreteFunction._call_flat\u001b[0;34m(self, args, captured_inputs, cancellation_manager)\u001b[0m\n\u001b[1;32m   1753\u001b[0m possible_gradient_type \u001b[38;5;241m=\u001b[39m gradients_util\u001b[38;5;241m.\u001b[39mPossibleTapeGradientTypes(args)\n\u001b[1;32m   1754\u001b[0m \u001b[38;5;28;01mif\u001b[39;00m (possible_gradient_type \u001b[38;5;241m==\u001b[39m gradients_util\u001b[38;5;241m.\u001b[39mPOSSIBLE_GRADIENT_TYPES_NONE\n\u001b[1;32m   1755\u001b[0m     \u001b[38;5;129;01mand\u001b[39;00m executing_eagerly):\n\u001b[1;32m   1756\u001b[0m   \u001b[38;5;66;03m# No tape is watching; skip to running the function.\u001b[39;00m\n\u001b[0;32m-> 1757\u001b[0m   \u001b[38;5;28;01mreturn\u001b[39;00m \u001b[38;5;28mself\u001b[39m\u001b[38;5;241m.\u001b[39m_build_call_outputs(\u001b[38;5;28;43mself\u001b[39;49m\u001b[38;5;241;43m.\u001b[39;49m\u001b[43m_inference_function\u001b[49m\u001b[38;5;241;43m.\u001b[39;49m\u001b[43mcall\u001b[49m\u001b[43m(\u001b[49m\n\u001b[1;32m   1758\u001b[0m \u001b[43m      \u001b[49m\u001b[43mctx\u001b[49m\u001b[43m,\u001b[49m\u001b[43m \u001b[49m\u001b[43margs\u001b[49m\u001b[43m,\u001b[49m\u001b[43m \u001b[49m\u001b[43mcancellation_manager\u001b[49m\u001b[38;5;241;43m=\u001b[39;49m\u001b[43mcancellation_manager\u001b[49m\u001b[43m)\u001b[49m)\n\u001b[1;32m   1759\u001b[0m forward_backward \u001b[38;5;241m=\u001b[39m \u001b[38;5;28mself\u001b[39m\u001b[38;5;241m.\u001b[39m_select_forward_and_backward_functions(\n\u001b[1;32m   1760\u001b[0m     args,\n\u001b[1;32m   1761\u001b[0m     possible_gradient_type,\n\u001b[1;32m   1762\u001b[0m     executing_eagerly)\n\u001b[1;32m   1763\u001b[0m forward_function, args_with_tangents \u001b[38;5;241m=\u001b[39m forward_backward\u001b[38;5;241m.\u001b[39mforward()\n",
      "File \u001b[0;32m~/miniconda3/envs/tf/lib/python3.9/site-packages/tensorflow/python/eager/polymorphic_function/monomorphic_function.py:381\u001b[0m, in \u001b[0;36m_EagerDefinedFunction.call\u001b[0;34m(self, ctx, args, cancellation_manager)\u001b[0m\n\u001b[1;32m    379\u001b[0m \u001b[38;5;28;01mwith\u001b[39;00m _InterpolateFunctionError(\u001b[38;5;28mself\u001b[39m):\n\u001b[1;32m    380\u001b[0m   \u001b[38;5;28;01mif\u001b[39;00m cancellation_manager \u001b[38;5;129;01mis\u001b[39;00m \u001b[38;5;28;01mNone\u001b[39;00m:\n\u001b[0;32m--> 381\u001b[0m     outputs \u001b[38;5;241m=\u001b[39m \u001b[43mexecute\u001b[49m\u001b[38;5;241;43m.\u001b[39;49m\u001b[43mexecute\u001b[49m\u001b[43m(\u001b[49m\n\u001b[1;32m    382\u001b[0m \u001b[43m        \u001b[49m\u001b[38;5;28;43mstr\u001b[39;49m\u001b[43m(\u001b[49m\u001b[38;5;28;43mself\u001b[39;49m\u001b[38;5;241;43m.\u001b[39;49m\u001b[43msignature\u001b[49m\u001b[38;5;241;43m.\u001b[39;49m\u001b[43mname\u001b[49m\u001b[43m)\u001b[49m\u001b[43m,\u001b[49m\n\u001b[1;32m    383\u001b[0m \u001b[43m        \u001b[49m\u001b[43mnum_outputs\u001b[49m\u001b[38;5;241;43m=\u001b[39;49m\u001b[38;5;28;43mself\u001b[39;49m\u001b[38;5;241;43m.\u001b[39;49m\u001b[43m_num_outputs\u001b[49m\u001b[43m,\u001b[49m\n\u001b[1;32m    384\u001b[0m \u001b[43m        \u001b[49m\u001b[43minputs\u001b[49m\u001b[38;5;241;43m=\u001b[39;49m\u001b[43margs\u001b[49m\u001b[43m,\u001b[49m\n\u001b[1;32m    385\u001b[0m \u001b[43m        \u001b[49m\u001b[43mattrs\u001b[49m\u001b[38;5;241;43m=\u001b[39;49m\u001b[43mattrs\u001b[49m\u001b[43m,\u001b[49m\n\u001b[1;32m    386\u001b[0m \u001b[43m        \u001b[49m\u001b[43mctx\u001b[49m\u001b[38;5;241;43m=\u001b[39;49m\u001b[43mctx\u001b[49m\u001b[43m)\u001b[49m\n\u001b[1;32m    387\u001b[0m   \u001b[38;5;28;01melse\u001b[39;00m:\n\u001b[1;32m    388\u001b[0m     outputs \u001b[38;5;241m=\u001b[39m execute\u001b[38;5;241m.\u001b[39mexecute_with_cancellation(\n\u001b[1;32m    389\u001b[0m         \u001b[38;5;28mstr\u001b[39m(\u001b[38;5;28mself\u001b[39m\u001b[38;5;241m.\u001b[39msignature\u001b[38;5;241m.\u001b[39mname),\n\u001b[1;32m    390\u001b[0m         num_outputs\u001b[38;5;241m=\u001b[39m\u001b[38;5;28mself\u001b[39m\u001b[38;5;241m.\u001b[39m_num_outputs,\n\u001b[0;32m   (...)\u001b[0m\n\u001b[1;32m    393\u001b[0m         ctx\u001b[38;5;241m=\u001b[39mctx,\n\u001b[1;32m    394\u001b[0m         cancellation_manager\u001b[38;5;241m=\u001b[39mcancellation_manager)\n",
      "File \u001b[0;32m~/miniconda3/envs/tf/lib/python3.9/site-packages/tensorflow/python/eager/execute.py:52\u001b[0m, in \u001b[0;36mquick_execute\u001b[0;34m(op_name, num_outputs, inputs, attrs, ctx, name)\u001b[0m\n\u001b[1;32m     50\u001b[0m \u001b[38;5;28;01mtry\u001b[39;00m:\n\u001b[1;32m     51\u001b[0m   ctx\u001b[38;5;241m.\u001b[39mensure_initialized()\n\u001b[0;32m---> 52\u001b[0m   tensors \u001b[38;5;241m=\u001b[39m \u001b[43mpywrap_tfe\u001b[49m\u001b[38;5;241;43m.\u001b[39;49m\u001b[43mTFE_Py_Execute\u001b[49m\u001b[43m(\u001b[49m\u001b[43mctx\u001b[49m\u001b[38;5;241;43m.\u001b[39;49m\u001b[43m_handle\u001b[49m\u001b[43m,\u001b[49m\u001b[43m \u001b[49m\u001b[43mdevice_name\u001b[49m\u001b[43m,\u001b[49m\u001b[43m \u001b[49m\u001b[43mop_name\u001b[49m\u001b[43m,\u001b[49m\n\u001b[1;32m     53\u001b[0m \u001b[43m                                      \u001b[49m\u001b[43minputs\u001b[49m\u001b[43m,\u001b[49m\u001b[43m \u001b[49m\u001b[43mattrs\u001b[49m\u001b[43m,\u001b[49m\u001b[43m \u001b[49m\u001b[43mnum_outputs\u001b[49m\u001b[43m)\u001b[49m\n\u001b[1;32m     54\u001b[0m \u001b[38;5;28;01mexcept\u001b[39;00m core\u001b[38;5;241m.\u001b[39m_NotOkStatusException \u001b[38;5;28;01mas\u001b[39;00m e:\n\u001b[1;32m     55\u001b[0m   \u001b[38;5;28;01mif\u001b[39;00m name \u001b[38;5;129;01mis\u001b[39;00m \u001b[38;5;129;01mnot\u001b[39;00m \u001b[38;5;28;01mNone\u001b[39;00m:\n",
      "\u001b[0;31mKeyboardInterrupt\u001b[0m: "
     ]
    }
   ],
   "source": [
    "model.fit(X_train,Y_train,validation_data=(X_val,Y_val),batch_size=256,epochs=500, callbacks=[reduce_lr])"
   ]
  },
  {
   "cell_type": "code",
   "execution_count": null,
   "metadata": {},
   "outputs": [],
   "source": []
  },
  {
   "cell_type": "code",
   "execution_count": null,
   "metadata": {},
   "outputs": [],
   "source": [
    "preds = model.predict(X_val)"
   ]
  },
  {
   "cell_type": "code",
   "execution_count": 24,
   "metadata": {},
   "outputs": [
    {
     "data": {
      "text/plain": [
       "array([0.10286924, 0.05579126, 0.01119784, 0.48748006, 0.0498683 ])"
      ]
     },
     "execution_count": 24,
     "metadata": {},
     "output_type": "execute_result"
    }
   ],
   "source": [
    "np.mean(np.abs(Y_val - preds), axis=0)"
   ]
  },
  {
   "cell_type": "code",
   "execution_count": null,
   "metadata": {},
   "outputs": [],
   "source": []
  },
  {
   "cell_type": "code",
   "execution_count": 25,
   "metadata": {},
   "outputs": [],
   "source": [
    "model.save(MODEL_SAVE_DIR.joinpath('model.h5'))"
   ]
  }
 ],
 "metadata": {
  "kernelspec": {
   "display_name": "Python 3 (ipykernel)",
   "language": "python",
   "name": "python3"
  },
  "language_info": {
   "codemirror_mode": {
    "name": "ipython",
    "version": 3
   },
   "file_extension": ".py",
   "mimetype": "text/x-python",
   "name": "python",
   "nbconvert_exporter": "python",
   "pygments_lexer": "ipython3",
   "version": "3.9.16"
  }
 },
 "nbformat": 4,
 "nbformat_minor": 4
}

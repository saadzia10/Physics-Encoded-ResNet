{
 "cells": [
  {
   "cell_type": "code",
   "execution_count": 3,
   "id": "240712a7-3766-43e8-af74-ebdc93b5811a",
   "metadata": {},
   "outputs": [],
   "source": [
    "import torch\n",
    "import torch.nn as nn\n",
    "import torch.autograd as autograd\n",
    "import torch.optim as optim\n",
    "from torch.utils.data import DataLoader, TensorDataset\n",
    "import pandas as pd\n",
    "import numpy as np"
   ]
  },
  {
   "cell_type": "code",
   "execution_count": 4,
   "id": "ea522bae-630b-4a20-97f4-eecbb49b152b",
   "metadata": {},
   "outputs": [],
   "source": [
    "# Compute derivatives for velocities and accelerations\n",
    "def compute_derivatives(data, dt):\n",
    "    velocities = np.gradient(data, dt, axis=0)\n",
    "    accelerations = np.gradient(velocities, dt, axis=0)\n",
    "    return velocities, accelerations\n",
    "\n",
    "# Load generalized coordinates from preprocessed dataset\n",
    "def load_generalized_coordinates(data, dt):\n",
    "    q = torch.tensor(data, dtype=torch.float32, requires_grad=True)\n",
    "\n",
    "    # Compute velocities (q_dot) and accelerations (q_ddot)\n",
    "    q_dot_np, q_ddot_np = compute_derivatives(data, dt)\n",
    "    q_dot = torch.tensor(q_dot_np, dtype=torch.float32)\n",
    "    q_ddot = torch.tensor(q_ddot_np, dtype=torch.float32)\n",
    "\n",
    "    return q, q_dot, q_ddot"
   ]
  },
  {
   "cell_type": "code",
   "execution_count": 5,
   "id": "95f8119a-6708-46ca-9e2f-b6fde682f98e",
   "metadata": {},
   "outputs": [],
   "source": [
    "file_path = \"./humanoid.csv\"  # File created in earlier processing step\n",
    "data = pd.read_csv(file_path)"
   ]
  },
  {
   "cell_type": "code",
   "execution_count": 6,
   "id": "acee7def-28a1-4e4e-ba07-1d57ac3ef370",
   "metadata": {},
   "outputs": [],
   "source": [
    "columns = [x for x in data.columns if \"joint\" in x and \"Finger\" in x]"
   ]
  },
  {
   "cell_type": "code",
   "execution_count": 7,
   "id": "635ad29a-d545-47cc-bc6f-6956904d7cdc",
   "metadata": {},
   "outputs": [
    {
     "data": {
      "text/plain": [
       "0.01"
      ]
     },
     "execution_count": 7,
     "metadata": {},
     "output_type": "execute_result"
    }
   ],
   "source": [
    "dt = np.round(data.timestep.diff()[1], 2)\n",
    "dt"
   ]
  },
  {
   "cell_type": "code",
   "execution_count": 8,
   "id": "ec6b60c9-3d34-475d-9d3d-49898d66853f",
   "metadata": {},
   "outputs": [],
   "source": [
    "q, q_dot, q_ddot = load_generalized_coordinates(data[columns].values, dt)\n"
   ]
  },
  {
   "cell_type": "code",
   "execution_count": 9,
   "id": "7a12176a-9a83-4e46-8eb4-0a50c1ec8c99",
   "metadata": {},
   "outputs": [],
   "source": [
    "# Neural network for the mass matrix H(q; \\psi)\n",
    "class MassMatrixNN(nn.Module):\n",
    "    def __init__(self, input_dim, hidden_dim, output_dim):\n",
    "        super(MassMatrixNN, self).__init__()\n",
    "        self.network = nn.Sequential(\n",
    "            nn.Linear(input_dim, hidden_dim),\n",
    "            nn.Tanh(),\n",
    "            nn.Linear(hidden_dim, hidden_dim),\n",
    "            nn.Tanh(),\n",
    "            nn.Linear(hidden_dim, output_dim * (output_dim + 1) // 2)  # Output lower triangular matrix\n",
    "        )\n",
    "        self.epsilon = 1e-3  # Small positive offset for stability\n",
    "        self.alpha = 1.0     # Shift parameter for diagonal elements\n",
    "\n",
    "    def forward(self, q):\n",
    "        L_elements = self.network(q)  # Predict lower triangular elements\n",
    "        batch_size = L_elements.size(0)\n",
    "        output_dim = int((L_elements.size(1) * 2) ** 0.5)  # Derive matrix size\n",
    "\n",
    "        # Create lower triangular matrix with diagonal offsets\n",
    "        L = torch.zeros(batch_size, output_dim, output_dim, device=q.device)\n",
    "        tril_indices = torch.tril_indices(row=output_dim, col=output_dim, offset=0)\n",
    "        L[:, tril_indices[0], tril_indices[1]] = L_elements\n",
    "\n",
    "        # Apply the diagonal shift for positive definiteness\n",
    "        diag_indices = torch.arange(output_dim, device=q.device)\n",
    "        L[:, diag_indices, diag_indices] += self.alpha\n",
    "        L[:, diag_indices, diag_indices] = torch.nn.functional.softplus(L[:, diag_indices, diag_indices]) + self.epsilon\n",
    "\n",
    "        # Compute positive definite mass matrix H = L L^T\n",
    "        H = torch.bmm(L, L.transpose(-1, -2))\n",
    "        return H\n",
    "\n",
    "# Neural network for the potential energy V(q; \\phi)\n",
    "class PotentialEnergyNN(nn.Module):\n",
    "    def __init__(self, input_dim, hidden_dim):\n",
    "        super(PotentialEnergyNN, self).__init__()\n",
    "        self.network = nn.Sequential(\n",
    "            nn.Linear(input_dim, hidden_dim),\n",
    "            nn.Tanh(),\n",
    "            nn.Linear(hidden_dim, hidden_dim),\n",
    "            nn.Tanh(),\n",
    "            nn.Linear(hidden_dim, 1)  # Output scalar potential energy\n",
    "        )\n",
    "\n",
    "    def forward(self, q):\n",
    "        V = self.network(q)\n",
    "        return V\n",
    "\n",
    "# Forward dynamics model: \\ddot{q} = f(q, \\dot{q}, \\tau; \\psi, \\phi)\n",
    "class ForwardDynamics(nn.Module):\n",
    "    def __init__(self, mass_matrix_nn, potential_energy_nn):\n",
    "        super(ForwardDynamics, self).__init__()\n",
    "        self.mass_matrix_nn = mass_matrix_nn\n",
    "        self.potential_energy_nn = potential_energy_nn\n",
    "\n",
    "    def forward(self, q, q_dot, tau):\n",
    "        H = self.mass_matrix_nn(q)  # Mass matrix\n",
    "        V = self.potential_energy_nn(q)  # Potential energy\n",
    "\n",
    "        # Compute gradients using autograd\n",
    "        V_grad = autograd.grad(V.sum(), q, create_graph=True)[0]\n",
    "\n",
    "        H_grad = torch.stack([autograd.grad(H[i].sum(), q, create_graph=True, retain_graph=True)[0] for i in range(H.size(0))])\n",
    "        H_dot_q = torch.einsum(\"bij,bj->bi\", H_grad, q_dot)\n",
    "\n",
    "        q_dot_H_grad_q_dot = torch.einsum(\"bi,bj,bij->b\", q_dot, q_dot, H_grad) / 2.0\n",
    "\n",
    "        # Compute \\ddot{q}\n",
    "        H_inv = torch.linalg.inv(H)\n",
    "        q_ddot = torch.bmm(H_inv, (tau - H_dot_q - q_dot_H_grad_q_dot.unsqueeze(-1) - V_grad.unsqueeze(-1))).squeeze(-1)\n",
    "        return q_ddot\n",
    "\n",
    "# Loss functions\n",
    "class DynamicsLoss(nn.Module):\n",
    "    def __init__(self):\n",
    "        super(DynamicsLoss, self).__init__()\n",
    "\n",
    "    def forward(self, q, q_dot, q_ddot, tau, mass_matrix_nn, potential_energy_nn):\n",
    "        # Mass matrix and potential energy\n",
    "        H = mass_matrix_nn(q)\n",
    "        V = potential_energy_nn(q)\n",
    "\n",
    "        # Compute gradients\n",
    "        V_grad = autograd.grad(V.sum(), q, create_graph=True)[0]\n",
    "\n",
    "        H_grad = torch.stack([autograd.grad(H[i].sum(), q, create_graph=True, retain_graph=True)[0] for i in range(H.size(0))])\n",
    "        H_dot_q = torch.einsum(\"bij,bj->bi\", H_grad, q_dot)\n",
    "\n",
    "        q_dot_H_grad_q_dot = torch.einsum(\"bi,bj,bij->b\", q_dot, q_dot, H_grad) / 2.0\n",
    "\n",
    "        # Compute forward dynamics prediction\n",
    "        H_inv = torch.linalg.inv(H)\n",
    "        q_ddot_pred = torch.bmm(H_inv, (tau - H_dot_q - q_dot_H_grad_q_dot.unsqueeze(-1) - V_grad.unsqueeze(-1))).squeeze(-1)\n",
    "\n",
    "        # Forward dynamics loss\n",
    "        forward_loss = torch.mean((q_ddot - q_ddot_pred) ** 2)\n",
    "\n",
    "        # Compute inverse dynamics prediction for torque\n",
    "        tau_pred = torch.bmm(H, q_ddot.unsqueeze(-1)).squeeze(-1) + H_dot_q + q_dot_H_grad_q_dot.unsqueeze(-1).squeeze(-1) + V_grad\n",
    "\n",
    "        # Inverse dynamics loss\n",
    "        inverse_loss = torch.mean((tau - tau_pred) ** 2)\n",
    "\n",
    "        return forward_loss + inverse_loss"
   ]
  },
  {
   "cell_type": "code",
   "execution_count": 10,
   "id": "46bb9639-41a0-4450-a058-92cf6eb32af5",
   "metadata": {},
   "outputs": [],
   "source": [
    "# Compute torques using inverse dynamics\n",
    "def compute_torques(q, q_dot, q_ddot, mass_matrix_nn, potential_energy_nn):\n",
    "    H = mass_matrix_nn(q)  # Mass matrix\n",
    "    V = potential_energy_nn(q)  # Potential energy\n",
    "\n",
    "    # Compute gradients\n",
    "    V_grad = autograd.grad(V.sum(), q, create_graph=True)[0]\n",
    "\n",
    "    H_grad = torch.stack([autograd.grad(H[i].sum(), q, create_graph=True, retain_graph=True)[0] for i in range(H.size(0))])\n",
    "\n",
    "    print(H_grad.shape)\n",
    "    H_dot_q = torch.einsum(\"bij,bj->bi\", H_grad, q_dot)\n",
    "\n",
    "    q_dot_H_grad_q_dot = torch.einsum(\"bi,bj,bij->b\", q_dot, q_dot, H_grad) / 2.0\n",
    "\n",
    "    # Compute torques\n",
    "    tau = torch.bmm(H, q_ddot.unsqueeze(-1)).squeeze(-1) + H_dot_q + q_dot_H_grad_q_dot.unsqueeze(-1).squeeze(-1) + V_grad\n",
    "    return tau\n",
    "\n",
    "# Training code\n",
    "def train_model(mass_matrix_nn, potential_energy_nn, dataloader, num_epochs=100, lr=1e-3):\n",
    "    model_params = list(mass_matrix_nn.parameters()) + list(potential_energy_nn.parameters())\n",
    "    optimizer = optim.Adam(model_params, lr=lr)\n",
    "    criterion = DynamicsLoss()\n",
    "\n",
    "    for epoch in range(num_epochs):\n",
    "        epoch_loss = 0.0\n",
    "        for batch in dataloader:\n",
    "            q, q_dot, q_ddot = batch\n",
    "\n",
    "            # Compute torques using inverse dynamics\n",
    "            tau = compute_torques(q, q_dot, q_ddot, mass_matrix_nn, potential_energy_nn)\n",
    "\n",
    "            optimizer.zero_grad()\n",
    "            loss = criterion(q, q_dot, q_ddot, tau, mass_matrix_nn, potential_energy_nn)\n",
    "            loss.backward()\n",
    "            optimizer.step()\n",
    "\n",
    "            epoch_loss += loss.item()\n",
    "\n",
    "        print(f\"Epoch [{epoch+1}/{num_epochs}], Loss: {epoch_loss:.4f}\")\n",
    "\n"
   ]
  },
  {
   "cell_type": "code",
   "execution_count": 11,
   "id": "41a2a274-997e-4239-861b-c0825b27d37c",
   "metadata": {},
   "outputs": [
    {
     "name": "stdout",
     "output_type": "stream",
     "text": [
      "torch.Size([32, 32, 38])\n"
     ]
    },
    {
     "ename": "ValueError",
     "evalue": "Size of label 'i' for operand 2 (38) does not match previous terms (32).",
     "output_type": "error",
     "traceback": [
      "\u001b[0;31m---------------------------------------------------------------------------\u001b[0m",
      "\u001b[0;31mValueError\u001b[0m                                Traceback (most recent call last)",
      "Cell \u001b[0;32mIn[11], line 15\u001b[0m\n\u001b[1;32m     12\u001b[0m dataloader \u001b[38;5;241m=\u001b[39m DataLoader(dataset, batch_size\u001b[38;5;241m=\u001b[39m\u001b[38;5;241m32\u001b[39m, shuffle\u001b[38;5;241m=\u001b[39m\u001b[38;5;28;01mTrue\u001b[39;00m)\n\u001b[1;32m     14\u001b[0m \u001b[38;5;66;03m# Train the model\u001b[39;00m\n\u001b[0;32m---> 15\u001b[0m train_model(mass_matrix_nn, potential_energy_nn, dataloader)\n",
      "Cell \u001b[0;32mIn[10], line 32\u001b[0m, in \u001b[0;36mtrain_model\u001b[0;34m(mass_matrix_nn, potential_energy_nn, dataloader, num_epochs, lr)\u001b[0m\n\u001b[1;32m     29\u001b[0m q, q_dot, q_ddot \u001b[38;5;241m=\u001b[39m batch\n\u001b[1;32m     31\u001b[0m \u001b[38;5;66;03m# Compute torques using inverse dynamics\u001b[39;00m\n\u001b[0;32m---> 32\u001b[0m tau \u001b[38;5;241m=\u001b[39m compute_torques(q, q_dot, q_ddot, mass_matrix_nn, potential_energy_nn)\n\u001b[1;32m     34\u001b[0m optimizer\u001b[38;5;241m.\u001b[39mzero_grad()\n\u001b[1;32m     35\u001b[0m loss \u001b[38;5;241m=\u001b[39m criterion(q, q_dot, q_ddot, tau, mass_matrix_nn, potential_energy_nn)\n",
      "Cell \u001b[0;32mIn[10], line 14\u001b[0m, in \u001b[0;36mcompute_torques\u001b[0;34m(q, q_dot, q_ddot, mass_matrix_nn, potential_energy_nn)\u001b[0m\n\u001b[1;32m     11\u001b[0m \u001b[38;5;28mprint\u001b[39m(H_grad\u001b[38;5;241m.\u001b[39mshape)\n\u001b[1;32m     12\u001b[0m H_dot_q \u001b[38;5;241m=\u001b[39m torch\u001b[38;5;241m.\u001b[39meinsum(\u001b[38;5;124m\"\u001b[39m\u001b[38;5;124mbij,bj->bi\u001b[39m\u001b[38;5;124m\"\u001b[39m, H_grad, q_dot)\n\u001b[0;32m---> 14\u001b[0m q_dot_H_grad_q_dot \u001b[38;5;241m=\u001b[39m torch\u001b[38;5;241m.\u001b[39meinsum(\u001b[38;5;124m\"\u001b[39m\u001b[38;5;124mbi,bj,bij->b\u001b[39m\u001b[38;5;124m\"\u001b[39m, q_dot, q_dot, H_grad) \u001b[38;5;241m/\u001b[39m \u001b[38;5;241m2.0\u001b[39m\n\u001b[1;32m     16\u001b[0m \u001b[38;5;66;03m# Compute torques\u001b[39;00m\n\u001b[1;32m     17\u001b[0m tau \u001b[38;5;241m=\u001b[39m torch\u001b[38;5;241m.\u001b[39mbmm(H, q_ddot\u001b[38;5;241m.\u001b[39munsqueeze(\u001b[38;5;241m-\u001b[39m\u001b[38;5;241m1\u001b[39m))\u001b[38;5;241m.\u001b[39msqueeze(\u001b[38;5;241m-\u001b[39m\u001b[38;5;241m1\u001b[39m) \u001b[38;5;241m+\u001b[39m H_dot_q \u001b[38;5;241m+\u001b[39m q_dot_H_grad_q_dot\u001b[38;5;241m.\u001b[39munsqueeze(\u001b[38;5;241m-\u001b[39m\u001b[38;5;241m1\u001b[39m)\u001b[38;5;241m.\u001b[39msqueeze(\u001b[38;5;241m-\u001b[39m\u001b[38;5;241m1\u001b[39m) \u001b[38;5;241m+\u001b[39m V_grad\n",
      "File \u001b[0;32m~/miniconda3/envs/pytorch/lib/python3.12/site-packages/torch/functional.py:412\u001b[0m, in \u001b[0;36meinsum\u001b[0;34m(*args)\u001b[0m\n\u001b[1;32m    410\u001b[0m \u001b[38;5;28;01mif\u001b[39;00m opt_einsum\u001b[38;5;241m.\u001b[39mis_available():\n\u001b[1;32m    411\u001b[0m     _opt_einsum \u001b[38;5;241m=\u001b[39m opt_einsum\u001b[38;5;241m.\u001b[39mget_opt_einsum()\n\u001b[0;32m--> 412\u001b[0m     tupled_path \u001b[38;5;241m=\u001b[39m _opt_einsum\u001b[38;5;241m.\u001b[39mcontract_path(\n\u001b[1;32m    413\u001b[0m         equation, \u001b[38;5;241m*\u001b[39moperands, optimize\u001b[38;5;241m=\u001b[39mopt_einsum\u001b[38;5;241m.\u001b[39mstrategy\n\u001b[1;32m    414\u001b[0m     )[\u001b[38;5;241m0\u001b[39m]\n\u001b[1;32m    415\u001b[0m     \u001b[38;5;66;03m# flatten path for dispatching to C++\u001b[39;00m\n\u001b[1;32m    416\u001b[0m     path \u001b[38;5;241m=\u001b[39m [item \u001b[38;5;28;01mfor\u001b[39;00m pair \u001b[38;5;129;01min\u001b[39;00m tupled_path \u001b[38;5;28;01mfor\u001b[39;00m item \u001b[38;5;129;01min\u001b[39;00m pair]\n",
      "File \u001b[0;32m~/miniconda3/envs/pytorch/lib/python3.12/site-packages/opt_einsum/contract.py:324\u001b[0m, in \u001b[0;36mcontract_path\u001b[0;34m(subscripts, use_blas, optimize, memory_limit, shapes, *operands, **kwargs)\u001b[0m\n\u001b[1;32m    322\u001b[0m         size_dict[char] \u001b[38;5;241m=\u001b[39m dim\n\u001b[1;32m    323\u001b[0m     \u001b[38;5;28;01melif\u001b[39;00m dim \u001b[38;5;129;01mnot\u001b[39;00m \u001b[38;5;129;01min\u001b[39;00m (\u001b[38;5;241m1\u001b[39m, size_dict[char]):\n\u001b[0;32m--> 324\u001b[0m         \u001b[38;5;28;01mraise\u001b[39;00m \u001b[38;5;167;01mValueError\u001b[39;00m(\n\u001b[1;32m    325\u001b[0m             \u001b[38;5;124mf\u001b[39m\u001b[38;5;124m\"\u001b[39m\u001b[38;5;124mSize of label \u001b[39m\u001b[38;5;124m'\u001b[39m\u001b[38;5;132;01m{\u001b[39;00mchar\u001b[38;5;132;01m}\u001b[39;00m\u001b[38;5;124m'\u001b[39m\u001b[38;5;124m for operand \u001b[39m\u001b[38;5;132;01m{\u001b[39;00mtnum\u001b[38;5;132;01m}\u001b[39;00m\u001b[38;5;124m (\u001b[39m\u001b[38;5;132;01m{\u001b[39;00msize_dict[char]\u001b[38;5;132;01m}\u001b[39;00m\u001b[38;5;124m) does not match previous \u001b[39m\u001b[38;5;124m\"\u001b[39m\n\u001b[1;32m    326\u001b[0m             \u001b[38;5;124mf\u001b[39m\u001b[38;5;124m\"\u001b[39m\u001b[38;5;124mterms (\u001b[39m\u001b[38;5;132;01m{\u001b[39;00mdim\u001b[38;5;132;01m}\u001b[39;00m\u001b[38;5;124m).\u001b[39m\u001b[38;5;124m\"\u001b[39m\n\u001b[1;32m    327\u001b[0m         )\n\u001b[1;32m    328\u001b[0m \u001b[38;5;28;01melse\u001b[39;00m:\n\u001b[1;32m    329\u001b[0m     size_dict[char] \u001b[38;5;241m=\u001b[39m dim\n",
      "\u001b[0;31mValueError\u001b[0m: Size of label 'i' for operand 2 (38) does not match previous terms (32)."
     ]
    }
   ],
   "source": [
    "# Example dataset setup\n",
    "\n",
    "# Initialize neural networks\n",
    "input_dim = q.size(1)  # Number of generalized coordinates\n",
    "hidden_dim = 64\n",
    "output_dim = input_dim\n",
    "mass_matrix_nn = MassMatrixNN(input_dim, hidden_dim, output_dim)\n",
    "potential_energy_nn = PotentialEnergyNN(input_dim, hidden_dim)\n",
    "\n",
    "# Create dataloader\n",
    "dataset = TensorDataset(q, q_dot, q_ddot)\n",
    "dataloader = DataLoader(dataset, batch_size=32, shuffle=True)\n",
    "\n",
    "# Train the model\n",
    "train_model(mass_matrix_nn, potential_energy_nn, dataloader)"
   ]
  },
  {
   "cell_type": "code",
   "execution_count": null,
   "id": "247ad7cc-f085-4870-b31d-b6a704399f89",
   "metadata": {},
   "outputs": [],
   "source": []
  },
  {
   "cell_type": "code",
   "execution_count": null,
   "id": "85abdf6e-666b-4d71-9ac8-abf276beb521",
   "metadata": {},
   "outputs": [],
   "source": []
  },
  {
   "cell_type": "code",
   "execution_count": null,
   "id": "c612919a-b233-4cf6-bb38-a06f626f1f72",
   "metadata": {},
   "outputs": [],
   "source": []
  }
 ],
 "metadata": {
  "kernelspec": {
   "display_name": "Python 3 (ipykernel)",
   "language": "python",
   "name": "python3"
  },
  "language_info": {
   "codemirror_mode": {
    "name": "ipython",
    "version": 3
   },
   "file_extension": ".py",
   "mimetype": "text/x-python",
   "name": "python",
   "nbconvert_exporter": "python",
   "pygments_lexer": "ipython3",
   "version": "3.12.7"
  }
 },
 "nbformat": 4,
 "nbformat_minor": 5
}

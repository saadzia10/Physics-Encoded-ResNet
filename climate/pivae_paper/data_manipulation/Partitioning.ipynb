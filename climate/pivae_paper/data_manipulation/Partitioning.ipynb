{
 "cells": [
  {
   "cell_type": "markdown",
   "id": "c08db9f1-a028-4048-af7a-37439ddb5045",
   "metadata": {},
   "source": [
    "# Partitioning Algorithm \n",
    "### Estimating $E_0$ and $R_{eco, ref}$ values for the NEE model based on the following equations:\n",
    "#### Night-time Model ([Reichstein 2005])\n",
    "#### $$NEE_{night} = R_{eco} = R_{eco,ref}e^{(E_0(\\frac{1}{T_{ref} - T_0}) - \\frac{1}{T - T_0})}$$ \n",
    "#### Day-time Model (Lasslop et al., 2010)\n",
    "#### $$NEE_{day}=\\frac{\\alpha \\beta R_g}{\\alpha R_g + \\beta} + \\gamma$$\n"
   ]
  },
  {
   "cell_type": "code",
   "execution_count": 37,
   "id": "7012592c-f7fb-42f9-8cde-0db2d8961eaa",
   "metadata": {},
   "outputs": [],
   "source": [
    "from IPython.display import display, Math, Latex\n",
    "import pandas as pd\n",
    "from tqdm import tqdm\n",
    "import numpy as np\n",
    "import scipy\n",
    "import matplotlib.pyplot as plt\n",
    "import seaborn as sns\n",
    "sns.set()"
   ]
  },
  {
   "cell_type": "markdown",
   "id": "a770ad20-c93c-407a-813b-9ba226a46333",
   "metadata": {},
   "source": [
    "## Flux Data Loading"
   ]
  },
  {
   "cell_type": "code",
   "execution_count": 16,
   "id": "1724afb0-9f61-4632-9b29-6f16df6b522e",
   "metadata": {},
   "outputs": [],
   "source": [
    "flux_data_path = \"complete_data.parquet\"\n",
    "flux_data = pd.read_parquet(flux_data_path)"
   ]
  },
  {
   "cell_type": "code",
   "execution_count": 17,
   "id": "ba5d25aa-83c3-4d21-8ff6-834295c42414",
   "metadata": {},
   "outputs": [],
   "source": [
    "for col in flux_data.columns:\n",
    "    flux_data[col] = flux_data[col].replace(-9999, np.nan)"
   ]
  },
  {
   "cell_type": "raw",
   "id": "b8b0ffa8-bf5c-4a38-aabf-cd44357b893f",
   "metadata": {},
   "source": [
    "flux_data = flux_data.ffill().bfill()"
   ]
  },
  {
   "cell_type": "markdown",
   "id": "65e046e4-5a69-489a-b05d-944ce3089cdd",
   "metadata": {},
   "source": [
    "## Night Time Model"
   ]
  },
  {
   "cell_type": "code",
   "execution_count": 18,
   "id": "8cbe63fe-24fc-4fc7-a14c-98baf02d4872",
   "metadata": {},
   "outputs": [],
   "source": [
    "flux_data = flux_data[flux_data['Day/Night'] == False].reset_index(drop=True)"
   ]
  },
  {
   "cell_type": "code",
   "execution_count": 26,
   "id": "42534831-54b3-4473-8e57-d22207a935c1",
   "metadata": {},
   "outputs": [],
   "source": [
    "import numpy as np\n",
    "import pandas as pd\n",
    "from scipy.optimize import curve_fit\n",
    "\n",
    "# Lloyd-Taylor model function\n",
    "def lloyd_taylor(T, Reco_ref, E0):\n",
    "    T_ref = 10  # Reference temperature (°C)\n",
    "    return Reco_ref * np.exp(E0 * ((1 / (T_ref + 46.02)) - (1 / (T + 46.02))))\n",
    "\n",
    "# Step 1: Filter the data for night-time conditions\n",
    "def filter_nighttime_data(df, radiation_threshold=10):\n",
    "    night_data = df[df['Rg'] < radiation_threshold]\n",
    "    return night_data\n",
    "\n",
    "# Step 2: Split data into consecutive periods and filter based on temperature range and data points\n",
    "def filter_temperature_and_consecutive_periods(night_data, get_seq = False, temperature_column='Ta', min_data_points=6, window_size=88, temperature_range_threshold=5):\n",
    "\n",
    "    valid_windows = []\n",
    "    \n",
    "    # Sort the DataFrame by the Datetime column\n",
    "    night_data = night_data.sort_values('DateTime')\n",
    "    # Calculate the time difference between consecutive rows\n",
    "    night_data['TimeDiff'] = night_data['DateTime'].diff()\n",
    "    # Define a new sequence ID that increments every time the time difference exceeds 1 hour\n",
    "    night_data['window_id'] = (night_data['TimeDiff'] > pd.Timedelta(hours=2)).cumsum()\n",
    "    # Drop the TimeDiff column as it's no longer needed (optional)\n",
    "    night_data = night_data.drop(columns=['TimeDiff'])\n",
    "\n",
    "    for window_id, window in night_data.groupby(\"window_id\"):\n",
    "        temp_range = window[temperature_column].max() - window[temperature_column].min()\n",
    "        if temp_range > temperature_range_threshold and len(window) >= min_data_points:\n",
    "            valid_windows.append(window)\n",
    "\n",
    "    # Combine all valid windows back into a single DataFrame\n",
    "    if valid_windows:\n",
    "        valid_windows_df = pd.concat(valid_windows).reset_index(drop=True)\n",
    "    else:\n",
    "        valid_windows_df = pd.DataFrame()\n",
    "\n",
    "    if get_seq:\n",
    "        return valid_windows\n",
    "    return valid_windows_df\n",
    "\n",
    "def estimate_E0_rb(valid_windows, temperature_column='Ta', reco_column='TER'):\n",
    "    def objective_function(T, Reco_ref, E0):\n",
    "        return lloyd_taylor(T, Reco_ref, E0)\n",
    "    \n",
    "    # Store the regression results\n",
    "    regression_results = []\n",
    "\n",
    "    # Perform regression for each valid period\n",
    "    for window_id, window in valid_windows.groupby('window_id'):\n",
    "        try:\n",
    "            p0 = np.hstack((3 * np.ones((window.shape[0], 1)), 450 * np.ones((window.shape[0], 1))))\n",
    "\n",
    "            popt, pcov = curve_fit(objective_function, window[temperature_column], window[reco_column], maxfev=10000)\n",
    "            Reco_ref, E0 = popt\n",
    "            std_error_E0 = np.sqrt(np.diag(pcov))[1]  # Standard error of E0\n",
    "            std_error_recoref = np.sqrt(np.diag(pcov))[0]\n",
    "            \n",
    "            # Calculate residuals\n",
    "            residuals = window[reco_column] - objective_function(window[temperature_column], Reco_ref, E0)\n",
    "            residual_sum_of_squares = np.sum(residuals**2)\n",
    "            \n",
    "            regression_results.append((E0, Reco_ref, std_error_E0, std_error_recoref, residual_sum_of_squares, window_id))\n",
    "        except:\n",
    "            continue\n",
    "\n",
    "    # Sort by standard error and residual sum of squares, and select the three best estimates\n",
    "    #regression_results.sort(key=lambda x: (x[2], x[4]))\n",
    "    regression_results.sort(key=lambda x: x[4])\n",
    "\n",
    "    best_E0s = [result[0] for result in regression_results[:3]]\n",
    "    best_recorefs = [result[1] for result in regression_results[:3]]\n",
    "    best_residuals = [result[4] for result in regression_results[:3]]\n",
    "    best_windows = [result[5] for result in regression_results[:3]]\n",
    "\n",
    "    # Average the best three E0 values\n",
    "    output = best_E0s, best_recorefs, best_residuals, best_windows\n",
    "    \n",
    "    return output\n",
    "\n",
    "\n",
    "# Step 3: Estimate E0 using Lloyd-Taylor model regression with residual analysis\n",
    "def estimate_E0(valid_windows, temperature_column='Ta', reco_column='TER'):\n",
    "    def objective_function(T, Reco_ref, E0):\n",
    "        return lloyd_taylor(T, Reco_ref, E0)\n",
    "    \n",
    "    # Store the regression results\n",
    "    regression_results = []\n",
    "\n",
    "    # Perform regression for each valid period\n",
    "    for window_id, window in valid_windows.groupby('window_id'):\n",
    "        try:\n",
    "            p0 = np.hstack((3 * np.ones((window.shape[0], 1)), 450 * np.ones((window.shape[0], 1))))\n",
    "\n",
    "            popt, pcov = curve_fit(objective_function, window[temperature_column], window[reco_column], maxfev=10000)\n",
    "            Reco_ref, E0 = popt\n",
    "            std_error_E0 = np.sqrt(np.diag(pcov))[1]  # Standard error of E0\n",
    "            std_error_recoref = np.sqrt(np.diag(pcov))[0]\n",
    "            \n",
    "            # Calculate residuals\n",
    "            residuals = window[reco_column] - objective_function(window[temperature_column], Reco_ref, E0)\n",
    "            residual_sum_of_squares = np.sum(residuals**2)\n",
    "            \n",
    "            regression_results.append((E0, std_error_E0, residual_sum_of_squares))\n",
    "        except:\n",
    "            continue\n",
    "\n",
    "    # Sort by standard error and residual sum of squares, and select the three best estimates\n",
    "    regression_results.sort(key=lambda x: (x[1], x[2]))\n",
    "\n",
    "    best_E0s = [result[0] for result in regression_results[:3]]\n",
    "    best_recorefs = [result[1] for result in regression_results[:3]]\n",
    "\n",
    "    # Average the best three E0 values\n",
    "    E0 = np.mean(best_E0s)\n",
    "    \n",
    "    return E0\n",
    "\n",
    "# Step 4: Estimate Reco_ref using a 7-day sliding window\n",
    "def estimate_Reco_ref(df, E0, temperature_column='Ta', reco_column='TER', window_size=7):\n",
    "    df['Reco_ref'] = np.nan\n",
    "    for i in range(len(df) - window_size + 1):\n",
    "        window = df.iloc[i:i + window_size]\n",
    "        Reco_ref_mean = window[reco_column].mean()\n",
    "        df.loc[df.index[i + window_size - 1], 'Reco_ref'] = Reco_ref_mean\n",
    "\n",
    "    # Interpolate missing values\n",
    "    df['Reco_ref'].interpolate(method='linear', inplace=True)\n",
    "    return df['Reco_ref']\n",
    "\n",
    "# Step 5: Partition the NEE into Reco and GPP\n",
    "def partition_nee(df, E0, temperature_column='Ta'):\n",
    "    df['Reco'] = lloyd_taylor(df[temperature_column], df['Reco_ref'], E0)\n",
    "    df['GPP'] = df['NEE'] + df['Reco']\n",
    "    return df[['Reco', 'GPP']]"
   ]
  },
  {
   "cell_type": "code",
   "execution_count": 27,
   "id": "a602a1df-508c-4fab-8f31-85a98dd76f85",
   "metadata": {},
   "outputs": [
    {
     "data": {
      "text/plain": [
       "([11.92864294694341, 51.48663171700584, 175.3658830751061],\n",
       " [2.6996284350749122, 1.3982757051835693, 1.8655380777572608],\n",
       " [0.0009013377331274892, 0.0012288919051572059, 0.0012878347092428084],\n",
       " [2403, 1675, 609])"
      ]
     },
     "execution_count": 27,
     "metadata": {},
     "output_type": "execute_result"
    }
   ],
   "source": [
    "night_data = filter_nighttime_data(flux_data)\n",
    "valid_windows = filter_temperature_and_consecutive_periods(night_data)\n",
    "\n",
    "output = estimate_E0_rb(valid_windows)\n",
    "output"
   ]
  },
  {
   "cell_type": "code",
   "execution_count": 31,
   "id": "c99616e3-e35e-4316-a7a9-428ce9e61032",
   "metadata": {},
   "outputs": [
    {
     "name": "stdout",
     "output_type": "stream",
     "text": [
      "2403 2019-01-19T18:30:00.000000000 2.6996284350749122 11.92864294694341\n"
     ]
    },
    {
     "data": {
      "image/png": "[encoded data removed]",
      "text/plain": [
       "<Figure size 640x480 with 1 Axes>"
      ]
     },
     "metadata": {},
     "output_type": "display_data"
    }
   ],
   "source": [
    "window_id = output[3][0]\n",
    "rb = output[1][0]\n",
    "e0 = output[0][0]\n",
    "\n",
    "\n",
    "window = valid_windows[valid_windows[\"window_id\"] == window_id]\n",
    "\n",
    "plt.scatter(window[\"Ta\"], window[\"TER\"])\n",
    "y = lloyd_taylor(window[\"Ta\"], rb, e0)\n",
    "plt.scatter(window[\"Ta\"], y)\n",
    "\n",
    "print(window_id, window[\"DateTime\"].values[0], rb, e0)"
   ]
  },
  {
   "cell_type": "code",
   "execution_count": 32,
   "id": "e19fbfea-5252-44f5-8d05-2882cdde90a8",
   "metadata": {},
   "outputs": [
    {
     "name": "stdout",
     "output_type": "stream",
     "text": [
      "609 2014-02-20T18:30:00.000000000 1.8655380777572608 175.3658830751061\n"
     ]
    },
    {
     "data": {
      "image/png": "[encoded data removed]",
      "text/plain": [
       "<Figure size 640x480 with 1 Axes>"
      ]
     },
     "metadata": {},
     "output_type": "display_data"
    }
   ],
   "source": [
    "window_id = output[3][-1]\n",
    "rb = output[1][-1]\n",
    "e0 = output[0][-1]\n",
    "\n",
    "\n",
    "window = valid_windows[valid_windows[\"window_id\"] == window_id]\n",
    "\n",
    "plt.scatter(window[\"Ta\"], window[\"TER\"])\n",
    "y = lloyd_taylor(window[\"Ta\"], rb, e0)\n",
    "plt.scatter(window[\"Ta\"], y)\n",
    "\n",
    "print(window_id, window[\"DateTime\"].values[0], rb, e0)"
   ]
  },
  {
   "cell_type": "code",
   "execution_count": null,
   "id": "3a92c162-7e89-4ea0-b21c-11dd4fb9f1d5",
   "metadata": {},
   "outputs": [],
   "source": []
  },
  {
   "cell_type": "code",
   "execution_count": null,
   "id": "eac1aaef-92f0-4375-990a-66649006e41c",
   "metadata": {},
   "outputs": [],
   "source": []
  },
  {
   "cell_type": "code",
   "execution_count": null,
   "id": "1124d6d0-c1fb-4367-838b-6f5767cc16f8",
   "metadata": {},
   "outputs": [],
   "source": []
  },
  {
   "cell_type": "code",
   "execution_count": 69,
   "id": "fa905e4e-f84c-4a22-999e-a71a5e2a6595",
   "metadata": {},
   "outputs": [],
   "source": [
    "# Example usage:\n",
    "# Assuming `df` is a pandas DataFrame containing columns: 'temperature', 'radiation', 'Reco', and 'NEE'\n",
    "\n",
    "# Step 1: Filter for night-time data\n",
    "# night_data = filter_nighttime_data(flux_data)\n",
    "\n",
    "# Step 2: Filter for temperature and consecutive periods\n",
    "night_data = flux_data.copy()\n",
    "valid_windows = filter_temperature_and_consecutive_periods(night_data)\n",
    "\n",
    "\n",
    "# Step 3: Estimate E0\n",
    "E0 = estimate_E0(valid_windows)\n",
    "\n",
    "# Step 4: Estimate Reco_ref\n",
    "flux_data['Reco_ref'] = estimate_Reco_ref(flux_data, E0)\n",
    "\n",
    "# Step 5: Partition the NEE\n",
    "output = partition_nee(flux_data, E0)\n",
    "\n",
    "# df now contains the 'Reco' and 'GPP' columns as the results of the partitioning."
   ]
  },
  {
   "cell_type": "code",
   "execution_count": 70,
   "id": "dbb3e190-e25b-4afb-bf6b-3415586f7377",
   "metadata": {},
   "outputs": [
    {
     "data": {
      "text/plain": [
       "149.1497752455501"
      ]
     },
     "execution_count": 70,
     "metadata": {},
     "output_type": "execute_result"
    }
   ],
   "source": [
    "E0"
   ]
  },
  {
   "cell_type": "code",
   "execution_count": 54,
   "id": "b0804bd6-fbb4-4556-a494-088bd5183fda",
   "metadata": {},
   "outputs": [
    {
     "data": {
      "text/html": [
       "<div>\n",
       "<style scoped>\n",
       "    .dataframe tbody tr th:only-of-type {\n",
       "        vertical-align: middle;\n",
       "    }\n",
       "\n",
       "    .dataframe tbody tr th {\n",
       "        vertical-align: top;\n",
       "    }\n",
       "\n",
       "    .dataframe thead th {\n",
       "        text-align: right;\n",
       "    }\n",
       "</style>\n",
       "<table border=\"1\" class=\"dataframe\">\n",
       "  <thead>\n",
       "    <tr style=\"text-align: right;\">\n",
       "      <th></th>\n",
       "      <th>Reco</th>\n",
       "      <th>GPP</th>\n",
       "    </tr>\n",
       "  </thead>\n",
       "  <tbody>\n",
       "    <tr>\n",
       "      <th>0</th>\n",
       "      <td>NaN</td>\n",
       "      <td>NaN</td>\n",
       "    </tr>\n",
       "    <tr>\n",
       "      <th>1</th>\n",
       "      <td>NaN</td>\n",
       "      <td>NaN</td>\n",
       "    </tr>\n",
       "    <tr>\n",
       "      <th>2</th>\n",
       "      <td>NaN</td>\n",
       "      <td>NaN</td>\n",
       "    </tr>\n",
       "    <tr>\n",
       "      <th>3</th>\n",
       "      <td>NaN</td>\n",
       "      <td>NaN</td>\n",
       "    </tr>\n",
       "    <tr>\n",
       "      <th>4</th>\n",
       "      <td>NaN</td>\n",
       "      <td>NaN</td>\n",
       "    </tr>\n",
       "    <tr>\n",
       "      <th>...</th>\n",
       "      <td>...</td>\n",
       "      <td>...</td>\n",
       "    </tr>\n",
       "    <tr>\n",
       "      <th>65128</th>\n",
       "      <td>0.490599</td>\n",
       "      <td>NaN</td>\n",
       "    </tr>\n",
       "    <tr>\n",
       "      <th>65129</th>\n",
       "      <td>0.492439</td>\n",
       "      <td>NaN</td>\n",
       "    </tr>\n",
       "    <tr>\n",
       "      <th>65130</th>\n",
       "      <td>0.494422</td>\n",
       "      <td>NaN</td>\n",
       "    </tr>\n",
       "    <tr>\n",
       "      <th>65131</th>\n",
       "      <td>0.503748</td>\n",
       "      <td>NaN</td>\n",
       "    </tr>\n",
       "    <tr>\n",
       "      <th>65132</th>\n",
       "      <td>0.512664</td>\n",
       "      <td>NaN</td>\n",
       "    </tr>\n",
       "  </tbody>\n",
       "</table>\n",
       "<p>65133 rows × 2 columns</p>\n",
       "</div>"
      ],
      "text/plain": [
       "           Reco  GPP\n",
       "0           NaN  NaN\n",
       "1           NaN  NaN\n",
       "2           NaN  NaN\n",
       "3           NaN  NaN\n",
       "4           NaN  NaN\n",
       "...         ...  ...\n",
       "65128  0.490599  NaN\n",
       "65129  0.492439  NaN\n",
       "65130  0.494422  NaN\n",
       "65131  0.503748  NaN\n",
       "65132  0.512664  NaN\n",
       "\n",
       "[65133 rows x 2 columns]"
      ]
     },
     "execution_count": 54,
     "metadata": {},
     "output_type": "execute_result"
    }
   ],
   "source": [
    "output"
   ]
  },
  {
   "cell_type": "code",
   "execution_count": null,
   "id": "46ef6aad-0314-4a74-a7d3-8d6609114d10",
   "metadata": {},
   "outputs": [],
   "source": []
  },
  {
   "cell_type": "code",
   "execution_count": null,
   "id": "02432f7a-b78b-4bae-894a-d626793013aa",
   "metadata": {},
   "outputs": [],
   "source": []
  },
  {
   "cell_type": "markdown",
   "id": "71f4503e-402e-4702-90f8-109b5b403107",
   "metadata": {},
   "source": [
    "## Day Model"
   ]
  },
  {
   "cell_type": "code",
   "execution_count": 34,
   "id": "c3a52da2-2709-4484-abed-c9e0de78676b",
   "metadata": {},
   "outputs": [],
   "source": [
    "day_data = flux_data[flux_data['Day/Night'] == True].reset_index(drop=True)"
   ]
  },
  {
   "cell_type": "code",
   "execution_count": 35,
   "id": "21161ec6-6758-41a0-b779-f8a2f638ded0",
   "metadata": {},
   "outputs": [],
   "source": [
    "day_data = day_data.dropna(subset=[\"Rg\"]).reset_index(drop=True)"
   ]
  },
  {
   "cell_type": "code",
   "execution_count": 38,
   "id": "784ce239-461b-4b43-9456-2dd95c2f39ba",
   "metadata": {},
   "outputs": [
    {
     "name": "stderr",
     "output_type": "stream",
     "text": [
      "0it [00:00, ?it/s]\n"
     ]
    }
   ],
   "source": [
    "day_data[\"E0\"] = np.zeros(day_data.shape[0])\n",
    "\n",
    "for date, indices in tqdm(day_data.groupby(\"Date\").indices.items()):\n",
    "    e0 = final_night_data[\"E0\"][final_night_data[\"Date\"] == date].values[0]\n",
    "    day_data.loc[indices, \"E0\"] = e0\n",
    "    \n",
    "    "
   ]
  },
  {
   "cell_type": "code",
   "execution_count": null,
   "id": "3e577c54-f9e4-4367-b487-f038164c0de7",
   "metadata": {},
   "outputs": [],
   "source": [
    "def lloyd_taylor(T, Reco_ref, E0):\n",
    "    T_ref = 10  # Reference temperature (°C)\n",
    "    return Reco_ref * np.exp(E0 * ((1 / (T_ref + 46.02)) - (1 / (T + 46.02))))\n",
    "\n",
    "# Light-response curve function for GPP\n",
    "def light_response_curve(PAR, alpha, beta):\n",
    "    return (alpha * beta * PAR) / (alpha * PAR + beta)\n",
    "\n",
    "\n",
    "def fit_light_response_curve(day_data, PAR_column='Rg', nee_column='NEE_filled', temperature_column='Ta'):\n",
    "\n",
    "    E0 = np.nan\n",
    "    def combined_model(X, alpha, beta, Reco_ref):\n",
    "        Rg = X[\"Rg\"]\n",
    "        T = X[\"Ta\"]\n",
    "        Reco = lloyd_taylor(T.values, Reco_ref, E0)\n",
    "        GPP = light_response_curve(Rg.values, alpha, beta)\n",
    "        return -(GPP - Reco)\n",
    "\n",
    "    # Store the regression results\n",
    "    regression_results = []\n",
    "\n",
    "    output = day_data.copy()\n",
    "    output[\"alpha\"] = np.zeros(output.shape[0])\n",
    "    output[\"beta\"] = np.zeros(output.shape[0])\n",
    "    output[\"rb\"] = np.zeros(output.shape[0])\n",
    "    \n",
    "    # Perform regression for each valid period\n",
    "    for window_id, window in day_data.groupby('window_id'):\n",
    "            \n",
    "        E0 = window[\"E0\"].values[0]\n",
    "        \n",
    "        popt, _ = curve_fit(combined_model, window[[PAR_column, temperature_column]], window[nee_column], maxfev=10000)\n",
    "        alpha, beta, Reco_ref = popt\n",
    "        \n",
    "        output.loc[output[\"window_id\"] == window_id, \"rb\"] = Reco_ref\n",
    "        output.loc[output[\"window_id\"] == window_id, \"alpha\"] = alpha\n",
    "        output.loc[output[\"window_id\"] == window_id, \"beta\"] = beta\n",
    "\n",
    "    return output\n",
    "\n",
    "\n",
    "# Step 2: Split data into consecutive periods and filter based on temperature range and data points\n",
    "def generate_day_sequences(data, get_seq = False):\n",
    "    \n",
    "    # Sort the DataFrame by the Datetime column\n",
    "    data = data.sort_values('DateTime')\n",
    "    # Calculate the time difference between consecutive rows\n",
    "    data['TimeDiff'] = data['DateTime'].diff()\n",
    "\n",
    "    # Define a new sequence ID that increments every time the time difference exceeds 1 hour\n",
    "    data['window_id'] = (data['TimeDiff'] > pd.Timedelta(hours=4)).cumsum()\n",
    "    # Drop the TimeDiff column as it's no longer needed (optional)\n",
    "    data = data.drop(columns=['TimeDiff'])\n",
    "\n",
    "    return data\n",
    "\n"
   ]
  },
  {
   "cell_type": "code",
   "execution_count": null,
   "id": "52b6d81b-219d-4472-b4d7-233b38cbaf87",
   "metadata": {},
   "outputs": [],
   "source": [
    "valid_windows = generate_day_sequences(day_data)\n",
    "# Step 2: Fit the light-response curve for day-time data\n",
    "output = fit_light_response_curve(valid_windows)"
   ]
  }
 ],
 "metadata": {
  "kernelspec": {
   "display_name": "Python 3 (ipykernel)",
   "language": "python",
   "name": "python3"
  },
  "language_info": {
   "codemirror_mode": {
    "name": "ipython",
    "version": 3
   },
   "file_extension": ".py",
   "mimetype": "text/x-python",
   "name": "python",
   "nbconvert_exporter": "python",
   "pygments_lexer": "ipython3",
   "version": "3.8.18"
  }
 },
 "nbformat": 4,
 "nbformat_minor": 5
}
